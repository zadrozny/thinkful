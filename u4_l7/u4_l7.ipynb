{
 "cells": [
  {
   "cell_type": "markdown",
   "metadata": {},
   "source": [
    "# Dimensionality Reduction"
   ]
  },
  {
   "cell_type": "markdown",
   "metadata": {},
   "source": [
    "So far in the course we've been working with datasets that are small enough for our models to handle, and we've used domain knowledge and some other techniques to determine what variables should be included in our analyses. As datasets get bigger, as the number of variables grows, we'll need \"heavier\" techniques to determine what variables and what points should be included in our analyses.\n",
    "\n",
    "In this lesson, we're going to explore dimensionality reduction, which is the process of reducing the number of random variables under consideration. It's a way of paring down a dataset to what's important."
   ]
  },
  {
   "cell_type": "markdown",
   "metadata": {},
   "source": [
    "### Goals\n",
    "\n",
    "*   Understand the two main branches of dimensionality reduction: feature selection and feature extraction.\n",
    "*   Implement two algorithms for reducing the dimensionality of a dataset: PCA and LDA.\n",
    "*    See the impact that reducing the dimensionality of a dataset has on a model's performance, both graphically and from a performance perspective.\n"
   ]
  },
  {
   "cell_type": "markdown",
   "metadata": {},
   "source": [
    "# U4 Lesson 7 Assignment 1"
   ]
  },
  {
   "cell_type": "markdown",
   "metadata": {},
   "source": [
    "We're going to cover two topics in this lesson: data dimensionality reduction and data preprocessing. Dimensionality reduction aims to produce a compact low-dimensional \"encoding\" of a high-dimensional data set, while data preprocessing aims to simplify, reduce and clean data for subsequent training.\n",
    "\n",
    "To motivate our discussion, we will examine the aptly named curse of dimensionality. Suppose our data consists of 1000 datapoints uniformly distributed in a unit cube, and that we wish to apply 10-Nearest-Neighbors on this dataset. In 2 dimensions (2 independent variables), on average we must go a distance of sqrt(10/1000)=.1 to find 10 points (i.e. capturing 1% of the volume of this cube). As we increase the number of independent variables, the average distance between points in a neighborhood “blows up”; with just 10 dimensions we must go a distance of (10/1000)^(1/10) = .954 to capture 10 points. In other words, our neighborhood already contains 95% of the total possible volume with just 10 datapoints, and it is no longer informative."
   ]
  },
  {
   "cell_type": "markdown",
   "metadata": {},
   "source": [
    "<img src=\"knn_curse.png\">"
   ]
  },
  {
   "cell_type": "markdown",
   "metadata": {},
   "source": [
    "In addition to the example above, here are some other situations in which we'd want to reduce the dimensionality of our data:\n",
    "\n",
    "*    If the data contain redundancy (multiple features encode the same information)\n",
    "*    To eliminate features that are redundant and extract those which are more central to the phenomenon we are trying to learn,\n",
    "*    If the data contain irrelevant or noisy features that could negatively impact a learning algorithm's performance\n",
    "*    To more effectively visualize relationships between features\n",
    "*    To address computational resource constraints\n"
   ]
  },
  {
   "cell_type": "markdown",
   "metadata": {},
   "source": [
    "In this lesson we're going to study two techniques for reducing the dimensionality of data in different ways:\n",
    "\n",
    "* feature transform: determines the dependencies between features and finds a new set of feature vectors with lower dimensionality (because it captures multiple original feature vectors in one) while also preserving the characteristics of the original feature vectors.\n",
    "\n",
    "* feature selection: determines the relevant features for a given learning problem. Instead of creating a new feature set through transformations, feature selection simply subsets the feature set based on some criteria of relevance.\n"
   ]
  },
  {
   "cell_type": "markdown",
   "metadata": {},
   "source": [
    "Principal Component Analysis (PCA) is the most basic and most common feature transform used in feature extraction and dimensionality reduction. It is easy to train, and has additional functionalities like noise reduction.\n",
    "\n",
    "PCA is an unsupervised learning process. For supervised learning, not only do we want to preserve the variances across features in the data, we also want to preserve the relationships between features and labels. Linear Discriminant Analysis (LDA) takes the labeling into account (essentially considering it as an additional feature vector).\n",
    "\n",
    "*    Review the sklearn PCA example with Iris Dataset\n",
    "http://scikit-learn.org/stable/auto_examples/decomposition/plot_pca_iris.html\n",
    "*    Review the sklearn Comparison of LDA and PCA 2D Projection of Iris Dataset\n",
    "http://scikit-learn.org/stable/auto_examples/decomposition/plot_pca_vs_lda.html\n",
    "*    Plot the Iris Dataset by two attributes that you found to cluster well in Lesson 2, and color by species.\n"
   ]
  },
  {
   "cell_type": "markdown",
   "metadata": {},
   "source": [
    "<img src=\"iris.png\" height=\"400 px\" width=\"400 px\">"
   ]
  },
  {
   "cell_type": "code",
   "execution_count": 98,
   "metadata": {
    "collapsed": true
   },
   "outputs": [],
   "source": [
    "import matplotlib.pyplot as plt\n",
    "from numpy.random import random\n",
    "import pandas as pd\n",
    "from collections import Counter\n",
    "from random import choice\n",
    "from sklearn import datasets\n",
    "from sklearn.decomposition import PCA\n",
    "from sklearn.discriminant_analysis import LinearDiscriminantAnalysis"
   ]
  },
  {
   "cell_type": "code",
   "execution_count": 99,
   "metadata": {
    "collapsed": false
   },
   "outputs": [
    {
     "data": {
      "image/png": "[encoded data removed]",
      "text/plain": [
       "<matplotlib.figure.Figure at 0x7f3fb5c80320>"
      ]
     },
     "metadata": {},
     "output_type": "display_data"
    }
   ],
   "source": [
    "df = iris = pd.read_csv('../iris/iris_wiki.csv', header=0)\n",
    "\n",
    "%matplotlib inline\n",
    "\n",
    "colors = ['g', 'b', 'r']\n",
    "\n",
    "seto = df[df['Species'] == 'setosa']\n",
    "vers = df[df['Species'] == 'versicolor']\n",
    "virg = df[df['Species'] == 'virginica']\n",
    "\n",
    "setosa = plt.scatter(seto['Sepal length'], seto['Sepal width'], marker='o', color=colors[0])\n",
    "versicolor  = plt.scatter(vers['Sepal length'], vers['Sepal width'], marker='x', color=colors[1])\n",
    "virginica = plt.scatter(virg['Sepal length'], virg['Sepal width'], marker='+', color=colors[2])\n",
    "\n",
    "plt.legend((setosa, versicolor, virginica),\n",
    "           ('setosa', 'versicolor', 'virgnica'),\n",
    "           scatterpoints=1,\n",
    "           loc='lower left',\n",
    "           ncol=3,\n",
    "           fontsize=8)\n",
    "\n",
    "plt.show()"
   ]
  },
  {
   "cell_type": "markdown",
   "metadata": {},
   "source": [
    "# Unit 4 Lesson 7 Assignment 2: PCA"
   ]
  },
  {
   "cell_type": "markdown",
   "metadata": {},
   "source": [
    "#### Estimate time 1 hour"
   ]
  },
  {
   "cell_type": "markdown",
   "metadata": {},
   "source": [
    "For this assignment, we're going to perform PCA on the Iris Dataset we used earlier in this unit, and see how our k-means algorithm performs on the decomposed data compared to how it performs on the raw data. To gain a better understanding of PCA, refer to this great explanation.\n",
    "http://sebastianraschka.com/Articles/2015_pca_in_3_steps.html"
   ]
  },
  {
   "cell_type": "markdown",
   "metadata": {},
   "source": [
    "### Perform PCA on the Iris Dataset."
   ]
  },
  {
   "cell_type": "code",
   "execution_count": 100,
   "metadata": {
    "collapsed": false
   },
   "outputs": [],
   "source": [
    "%matplotlib inline\n",
    "\n",
    "iris = datasets.load_iris()\n",
    "X = iris.data\n",
    "y = iris.target\n",
    "target_names = iris.target_names\n",
    "\n",
    "pca = PCA(n_components=2)\n",
    "X_r = pca.fit(X).transform(X)"
   ]
  },
  {
   "cell_type": "code",
   "execution_count": 101,
   "metadata": {
    "collapsed": false
   },
   "outputs": [
    {
     "data": {
      "text/plain": [
       "array([[ 5.1,  3.5,  1.4,  0.2],\n",
       "       [ 4.9,  3. ,  1.4,  0.2],\n",
       "       [ 4.7,  3.2,  1.3,  0.2],\n",
       "       [ 4.6,  3.1,  1.5,  0.2],\n",
       "       [ 5. ,  3.6,  1.4,  0.2]])"
      ]
     },
     "execution_count": 101,
     "metadata": {},
     "output_type": "execute_result"
    }
   ],
   "source": [
    "X[:5]"
   ]
  },
  {
   "cell_type": "code",
   "execution_count": 102,
   "metadata": {
    "collapsed": false
   },
   "outputs": [
    {
     "data": {
      "text/plain": [
       "array([[-2.68420713, -0.32660731],\n",
       "       [-2.71539062,  0.16955685],\n",
       "       [-2.88981954,  0.13734561],\n",
       "       [-2.7464372 ,  0.31112432],\n",
       "       [-2.72859298, -0.33392456]])"
      ]
     },
     "execution_count": 102,
     "metadata": {},
     "output_type": "execute_result"
    }
   ],
   "source": [
    "X_r[:5]"
   ]
  },
  {
   "cell_type": "markdown",
   "metadata": {},
   "source": [
    "### Plot the PCA sample. How does it compare to the original plot?"
   ]
  },
  {
   "cell_type": "code",
   "execution_count": 103,
   "metadata": {
    "collapsed": false
   },
   "outputs": [
    {
     "data": {
      "image/png": "[encoded data removed]",
      "text/plain": [
       "<matplotlib.figure.Figure at 0x7f3fb5ccd7b8>"
      ]
     },
     "metadata": {},
     "output_type": "display_data"
    }
   ],
   "source": [
    "plt.figure()\n",
    "for c, i, target_name in zip(\"rgb\", [0, 1, 2], target_names):\n",
    "    plt.scatter(X_r[y == i, 0], X_r[y == i, 1], c=c, label=target_name)\n",
    "plt.legend()\n",
    "plt.title('PCA of IRIS dataset')\n",
    "\n",
    "plt.show()"
   ]
  },
  {
   "cell_type": "markdown",
   "metadata": {},
   "source": [
    "Frankly, I don't see that much difference. Setosa is still clearly different from versicolor and virginica, and the latter have some overlap. If anything, the delineation is a bit more explicit. "
   ]
  },
  {
   "cell_type": "markdown",
   "metadata": {},
   "source": [
    "### Retrain the k-nearest neighbors algorithm from Lesson 5 on the decomposed dataset."
   ]
  },
  {
   "cell_type": "code",
   "execution_count": 104,
   "metadata": {
    "collapsed": false
   },
   "outputs": [
    {
     "data": {
      "text/plain": [
       "'setosa'"
      ]
     },
     "execution_count": 104,
     "metadata": {},
     "output_type": "execute_result"
    }
   ],
   "source": [
    "%matplotlib inline\n",
    "\n",
    "x, y = df.ix[choice(range(len(df)))][:2]\n",
    "\n",
    "df_decomposed = pd.DataFrame(X_r)\n",
    "distances = [((pair[0] - y)**2 + (pair[1] - x)**2)**(-1/2) for pair in zip(df_decomposed[0], df_decomposed[1])]\n",
    "df_decomposed[\"distances\"] = distances\n",
    "df_decomposed[\"Species\"] = df[\"Species\"]\n",
    "\n",
    "majority = list(Counter([pair[1] for pair in sorted(zip(df_decomposed.distances, df_decomposed.Species), \n",
    "                                                    key=lambda x: x[0])[:10]]))[0]\n",
    "majority  "
   ]
  },
  {
   "cell_type": "code",
   "execution_count": 105,
   "metadata": {
    "collapsed": false
   },
   "outputs": [
    {
     "data": {
      "text/plain": [
       "Counter({'setosa': 50, 'versicolor': 50, 'virginica': 50})"
      ]
     },
     "execution_count": 105,
     "metadata": {},
     "output_type": "execute_result"
    }
   ],
   "source": [
    "Counter(df[\"Species\"])"
   ]
  },
  {
   "cell_type": "markdown",
   "metadata": {},
   "source": [
    "### Compare the performance on the decomposed dataset to the performance on the raw dataset. Does anything stand out?"
   ]
  },
  {
   "cell_type": "markdown",
   "metadata": {},
   "source": [
    "MZ: In the other KNN, the majority class was `virginica`. Now it is `setosa`, which also appear to be the most 'differentiated' class."
   ]
  },
  {
   "cell_type": "markdown",
   "metadata": {},
   "source": [
    "If you're looking for a challenge, try performing PCA on the smart phone dataset we used in the Random Forest lesson. Retrain your Random Forest on the decomposed dataset and compare its performance. Does anything stand out?"
   ]
  },
  {
   "cell_type": "markdown",
   "metadata": {},
   "source": [
    "# Unit 4 Lesson 7 Project 3: LDA"
   ]
  },
  {
   "cell_type": "markdown",
   "metadata": {},
   "source": [
    "#### Estimated time 1 hour"
   ]
  },
  {
   "cell_type": "markdown",
   "metadata": {},
   "source": [
    "For this assignment, we're going to perform LDA on the Iris Dataset we used earlier in this unit, and see how our k-NN algorithm performs on the decomposed data compared to how it performs on the raw data. To gain a better understanding of LDA, refer to this explanation"
   ]
  },
  {
   "cell_type": "markdown",
   "metadata": {},
   "source": [
    "### Perform LDA on the Iris Dataset."
   ]
  },
  {
   "cell_type": "code",
   "execution_count": 111,
   "metadata": {
    "collapsed": false
   },
   "outputs": [],
   "source": [
    "%matplotlib inline\n",
    "\n",
    "iris = datasets.load_iris()\n",
    "X = iris.data\n",
    "y = iris.target\n",
    "target_names = iris.target_names\n",
    "\n",
    "lda = LinearDiscriminantAnalysis(n_components=2)\n",
    "X_r2 = lda.fit(X, y).transform(X)"
   ]
  },
  {
   "cell_type": "markdown",
   "metadata": {},
   "source": [
    "### Plot the LDA sample. How does it compare to the original plot?"
   ]
  },
  {
   "cell_type": "code",
   "execution_count": 112,
   "metadata": {
    "collapsed": false
   },
   "outputs": [
    {
     "data": {
      "image/png": "[encoded data removed]",
      "text/plain": [
       "<matplotlib.figure.Figure at 0x7f3fb5b100f0>"
      ]
     },
     "metadata": {},
     "output_type": "display_data"
    }
   ],
   "source": [
    "plt.figure()\n",
    "for c, i, target_name in zip(\"rgb\", [0, 1, 2], target_names):\n",
    "    plt.scatter(X_r2[y == i, 0], X_r2[y == i, 1], c=c, label=target_name)\n",
    "plt.legend()\n",
    "plt.title('LDA of IRIS dataset')\n",
    "\n",
    "plt.show()"
   ]
  },
  {
   "cell_type": "markdown",
   "metadata": {},
   "source": [
    "### Retrain the k-means algorithm from Lesson 4 on the decomposed dataset."
   ]
  },
  {
   "cell_type": "code",
   "execution_count": 113,
   "metadata": {
    "collapsed": false
   },
   "outputs": [
    {
     "data": {
      "text/plain": [
       "'virginica'"
      ]
     },
     "execution_count": 113,
     "metadata": {},
     "output_type": "execute_result"
    }
   ],
   "source": [
    "%matplotlib inline\n",
    "\n",
    "x, y = df.ix[choice(range(len(df)))][:2]\n",
    "\n",
    "df_decomposed = pd.DataFrame(X_r2)\n",
    "distances = [((pair[0] - y)**2 + (pair[1] - x)**2)**(-1/2) for pair in zip(df_decomposed[0], df_decomposed[1])]\n",
    "df_decomposed[\"distances\"] = distances\n",
    "df_decomposed[\"Species\"] = df[\"Species\"]\n",
    "\n",
    "majority = list(Counter([pair[1] for pair in sorted(zip(df_decomposed.distances, df_decomposed.Species), \n",
    "                                                    key=lambda x: x[0])[:10]]))[0]\n",
    "majority  "
   ]
  },
  {
   "cell_type": "markdown",
   "metadata": {},
   "source": [
    "### Compare the performance on the decomposed dataset to the performance on the raw dataset. Does anything stand out? Did you get the same class prediction?"
   ]
  },
  {
   "cell_type": "markdown",
   "metadata": {},
   "source": [
    "Yes, the same. But given that `setosa` seems much better segmented, I don't understand why. "
   ]
  },
  {
   "cell_type": "markdown",
   "metadata": {},
   "source": [
    "### Submission"
   ]
  },
  {
   "cell_type": "markdown",
   "metadata": {},
   "source": [
    "Save the code you wrote in this lesson as \"reduce.py\" and submit via GitHub below."
   ]
  },
  {
   "cell_type": "code",
   "execution_count": null,
   "metadata": {
    "collapsed": true
   },
   "outputs": [],
   "source": []
  }
 ],
 "metadata": {
  "kernelspec": {
   "display_name": "Python 3",
   "language": "python",
   "name": "python3"
  },
  "language_info": {
   "codemirror_mode": {
    "name": "ipython",
    "version": 3
   },
   "file_extension": ".py",
   "mimetype": "text/x-python",
   "name": "python",
   "nbconvert_exporter": "python",
   "pygments_lexer": "ipython3",
   "version": "3.5.1"
  }
 },
 "nbformat": 4,
 "nbformat_minor": 0
}
