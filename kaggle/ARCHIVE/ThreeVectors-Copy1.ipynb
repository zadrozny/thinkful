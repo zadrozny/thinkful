{
 "cells": [
  {
   "cell_type": "code",
   "execution_count": 5,
   "metadata": {
    "collapsed": false
   },
   "outputs": [],
   "source": [
    "import numpy as np\n",
    "import pandas as pd\n",
    "from sklearn.ensemble import RandomForestClassifier"
   ]
  },
  {
   "cell_type": "code",
   "execution_count": 2,
   "metadata": {
    "collapsed": false
   },
   "outputs": [],
   "source": [
    "# train = pd.read_csv('DATA/train.csv', header=0, encoding = \"ISO-8859-1\")\n",
    "from FEATURES import train"
   ]
  },
  {
   "cell_type": "code",
   "execution_count": 9,
   "metadata": {
    "collapsed": false
   },
   "outputs": [],
   "source": [
    "# Prepare to divide the dataset into test, train (lifted from sklearn Iris example)\n",
    "train['is_train'] = np.random.uniform(0, 1, len(train)) <= .75\n",
    "\n",
    "# Split data into training and test\n",
    "train_data, test_data = train[train['is_train']==True], train[train['is_train']==False]"
   ]
  },
  {
   "cell_type": "code",
   "execution_count": 10,
   "metadata": {
    "collapsed": false
   },
   "outputs": [
    {
     "name": "stdout",
     "output_type": "stream",
     "text": [
      "preds      1     2     3\n",
      "actual                  \n",
      "1        163   364   723\n",
      "2       2551  3386  2834\n",
      "3       4878  2162  1630\n"
     ]
    }
   ],
   "source": [
    "features = train.columns[[7, 8, 9]] # 'exact', 'overlapping_words', 'percentage_overlapping_words'\n",
    "\n",
    "# clf = RandomForestClassifier(n_jobs=2)\n",
    "clf = RandomForestClassifier(n_jobs=2, class_weight = 'balanced', oob_score = False, criterion = 'entropy')\n",
    "\n",
    "y, _ = pd.factorize(train_data['relevance_rounded']) # 0, 1, 2\n",
    "\n",
    "clf.fit(train_data[features], y)\n",
    "\n",
    "# Predicting on those features will output predictions that match y\n",
    "preds = clf.predict(test_data[features])\n",
    "\n",
    "# target_names = test['relevance_rounded']\n",
    "target_names = ['1', '2', '3']\n",
    "out = [target_names[pred] for pred in preds]\n",
    "\n",
    "# preds = target_names[clf.predict(test[features])]\n",
    "\n",
    "preds = clf.predict(test_data[features])\n",
    "\n",
    "# preds.index = range(len(preds))\n",
    "# pd.crosstab(test['relevance_rounded'], preds, rownames=['actual'], colnames=['preds'])\n",
    "print(pd.crosstab(test_data['relevance_rounded'], np.asarray(out), rownames=['actual'], colnames=['preds']))"
   ]
  },
  {
   "cell_type": "code",
   "execution_count": 11,
   "metadata": {
    "collapsed": false
   },
   "outputs": [
    {
     "name": "stdout",
     "output_type": "stream",
     "text": [
      "preds      1     2     3\n",
      "actual                  \n",
      "1        163   364   723\n",
      "2       2551  3386  2834\n",
      "3       4878  2162  1630\n"
     ]
    }
   ],
   "source": [
    "ct = pd.crosstab(test_data['relevance_rounded'], np.asarray(out), rownames=['actual'], colnames=['preds'])\n",
    "print(ct)"
   ]
  },
  {
   "cell_type": "code",
   "execution_count": 10,
   "metadata": {
    "collapsed": false
   },
   "outputs": [
    {
     "name": "stdout",
     "output_type": "stream",
     "text": [
      "preds\n",
      "1    152\n",
      "2    289\n",
      "3    875\n",
      "Name: 1.0, dtype: int64\n",
      "actual\n",
      "1     152\n",
      "2    2150\n",
      "3    4028\n",
      "Name: 1, dtype: int64\n"
     ]
    }
   ],
   "source": [
    "row = ct.ix[1]\n",
    "col = ct['1']\n",
    "print(row)\n",
    "print(col)"
   ]
  },
  {
   "cell_type": "code",
   "execution_count": 21,
   "metadata": {
    "collapsed": false
   },
   "outputs": [
    {
     "name": "stdout",
     "output_type": "stream",
     "text": [
      "('1', 1)\n",
      "('2', 2)\n",
      "('3', 3)\n",
      "5132 13260 13260 15660\n"
     ]
    }
   ],
   "source": [
    "index = list(pd.crosstab(test_data['relevance_rounded'], preds))\n",
    "total = 0\n",
    "for i in list(ct):\n",
    "    total += sum(list(ct[i]))\n",
    "\n",
    "true_positives, false_positives, true_negatives, false_negatives = 0, 0, 0, 0\n",
    "\n",
    "for i in zip(list(ct), range(1, len(ct)+1)): \n",
    "    print(i)\n",
    "    row = list(ct.ix[i[1]])\n",
    "    column = list(ct[i[0]])\n",
    "    \n",
    "    tp = row[i[1]-1]\n",
    "    true_positives  += tp\n",
    "    false_negatives += sum(row)-tp\n",
    "    false_positives += sum(column) - tp\n",
    "    true_negatives = total - tp\n",
    "    \n",
    "print(true_positives, false_positives, false_negatives, true_negatives)"
   ]
  },
  {
   "cell_type": "code",
   "execution_count": 22,
   "metadata": {
    "collapsed": false
   },
   "outputs": [
    {
     "data": {
      "text/plain": [
       "0.27903436276642019"
      ]
     },
     "execution_count": 22,
     "metadata": {},
     "output_type": "execute_result"
    }
   ],
   "source": [
    "f1 = float(2*true_positives) / (2 * true_positives + false_positives + false_negatives)\n",
    "f1"
   ]
  }
 ],
 "metadata": {
  "kernelspec": {
   "display_name": "Python 3",
   "language": "python",
   "name": "python3"
  },
  "language_info": {
   "codemirror_mode": {
    "name": "ipython",
    "version": 3
   },
   "file_extension": ".py",
   "mimetype": "text/x-python",
   "name": "python",
   "nbconvert_exporter": "python",
   "pygments_lexer": "ipython3",
   "version": "3.5.1"
  }
 },
 "nbformat": 4,
 "nbformat_minor": 0
}
