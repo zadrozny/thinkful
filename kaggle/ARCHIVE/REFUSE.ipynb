{
 "cells": [
  {
   "cell_type": "markdown",
   "metadata": {},
   "source": [
    "### DEFAULT PENALTY: products that appear too many times -- and have low relevance -- suggesting that they are defaults for when the search engine is stumped"
   ]
  },
  {
   "cell_type": "code",
   "execution_count": null,
   "metadata": {
    "collapsed": true
   },
   "outputs": [],
   "source": [
    "# Aggregate on product ID's themselves and penalize too popular products.\n",
    "from collections import Counter\n",
    "d = Counter(train['product_uid'])\n",
    "for pid in d: \n",
    "    if d[pid] > 5:\n",
    "        pass\n",
    "#         print(pid, d[pid],) "
   ]
  }
 ],
 "metadata": {
  "kernelspec": {
   "display_name": "Python 3",
   "language": "python",
   "name": "python3"
  },
  "language_info": {
   "codemirror_mode": {
    "name": "ipython",
    "version": 3
   },
   "file_extension": ".py",
   "mimetype": "text/x-python",
   "name": "python",
   "nbconvert_exporter": "python",
   "pygments_lexer": "ipython3",
   "version": "3.5.1"
  }
 },
 "nbformat": 4,
 "nbformat_minor": 0
}
