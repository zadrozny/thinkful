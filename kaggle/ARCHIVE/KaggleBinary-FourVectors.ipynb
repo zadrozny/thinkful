{
 "metadata": {
  "name": "",
  "signature": "sha256:4448b5dda3b4e04337341c914d67c5b4f0df3c07f31f8e53b72f59491aaea47b"
 },
 "nbformat": 3,
 "nbformat_minor": 0,
 "worksheets": [
  {
   "cells": [
    {
     "cell_type": "code",
     "collapsed": false,
     "input": [
      "from sklearn.datasets import load_iris\n",
      "from sklearn.ensemble import RandomForestClassifier\n",
      "import pandas as pd\n",
      "import numpy as np"
     ],
     "language": "python",
     "metadata": {},
     "outputs": [],
     "prompt_number": 1
    },
    {
     "cell_type": "code",
     "collapsed": false,
     "input": [
      "df = pd.read_csv('/home/MZ/Documents/CODE/THINKFUL/projects/kaggle/train.csv', header=0)"
     ],
     "language": "python",
     "metadata": {},
     "outputs": [],
     "prompt_number": 2
    },
    {
     "cell_type": "markdown",
     "metadata": {},
     "source": [
      "# Features / vectors: "
     ]
    },
    {
     "cell_type": "code",
     "collapsed": false,
     "input": [
      "# Since relevance is an aggregate, values are continuous rather than discrete\n",
      "# It appears the classifier can only handle a limited number of values\n",
      "# So we round up\n",
      "df['relevance_rounded'] = df['relevance'].map(lambda x: round(x))\n",
      "\n",
      "# Create the feature 'exact match', allowing only for differences in case\n",
      "df['exact'] = pd.Series([True if st.lower() in pt.lower() else False \n",
      "                      for st, pt in zip(df['search_term'], df['product_title'])])\n",
      "\n",
      "# Create the feature 'overlapping words', allowing for differences in case\n",
      "df['overlapping_words'] = pd.Series([len(set(st.lower().split()) & set(pt.lower().split()))\n",
      "                      for st, pt in zip(df['search_term'], df['product_title'])])\n",
      "\n",
      "# Feature: percentage 'overlapping words', allowing for differences in case\n",
      "df['percentage_overlapping_words'] = pd.Series([len(set(st.lower().split()) & set(pt.lower().split()))/float(len(st.split()))\n",
      "                      for st, pt in zip(df['search_term'], df['product_title'])])\n",
      "\n",
      "# Feature: jaccard distance\n",
      "def jaccard_dist(phrase1, phrase2):\n",
      "    '''Returns the Jaccard distance for two phrases, eg, search query and product title'''\n",
      "    lst1, lst2 = set(phrase1.lower().split()), set(phrase2.lower().split())\n",
      "    return float(len(lst1 & lst2)) / len(lst1 | lst2)\n",
      "\n",
      "df['jaccard'] = pd.Series([words_shared(st, pt) \n",
      "                      for st, pt in zip(df['search_term'], df['product_title'])])"
     ],
     "language": "python",
     "metadata": {},
     "outputs": [
      {
       "ename": "NameError",
       "evalue": "name 'words_shared' is not defined",
       "output_type": "pyerr",
       "traceback": [
        "\u001b[1;31m---------------------------------------------------------------------------\u001b[0m\n\u001b[1;31mNameError\u001b[0m                                 Traceback (most recent call last)",
        "\u001b[1;32m<ipython-input-3-5a6c94f29a24>\u001b[0m in \u001b[0;36m<module>\u001b[1;34m()\u001b[0m\n\u001b[0;32m     23\u001b[0m \u001b[1;33m\u001b[0m\u001b[0m\n\u001b[0;32m     24\u001b[0m df['jaccard'] = pd.Series([words_shared(st, pt) \n\u001b[1;32m---> 25\u001b[1;33m                       for st, pt in zip(df['search_term'], df['product_title'])])\n\u001b[0m",
        "\u001b[1;31mNameError\u001b[0m: name 'words_shared' is not defined"
       ]
      }
     ],
     "prompt_number": 3
    },
    {
     "cell_type": "code",
     "collapsed": false,
     "input": [
      "# Prepare to divide the dataset into test, train (lifted from sklearn Iris example)\n",
      "df['is_train'] = np.random.uniform(0, 1, len(df)) <= .75\n",
      "\n",
      "# Split data into training and test\n",
      "train, test = df[df['is_train']==True], df[df['is_train']==False]\n",
      "\n",
      "features = df.columns[[7, 8, 9, 10]] # Whether it's an exact match or not\n",
      "\n",
      "# clf = RandomForestClassifier(n_jobs=2)\n",
      "clf = RandomForestClassifier(n_jobs=2, class_weight = 'balanced', oob_score = False, criterion = 'entropy')\n",
      "\n",
      "y, _ = pd.factorize(train['relevance_rounded']) # 0, 1, 2\n",
      "\n",
      "clf.fit(train[features], y)\n",
      "\n",
      "# Predicting on those features will output predictions that match y\n",
      "preds = clf.predict(test[features])\n",
      "\n",
      "# target_names = test['relevance_rounded']\n",
      "target_names = ['1', '2', '3', '4']\n",
      "out = [target_names[pred] for pred in preds]\n",
      "\n",
      "# preds = target_names[clf.predict(test[features])]\n",
      "\n",
      "preds = clf.predict(test[features])\n",
      "\n",
      "# preds.index = range(len(preds))\n",
      "# pd.crosstab(test['relevance_rounded'], preds, rownames=['actual'], colnames=['preds'])\n",
      "print pd.crosstab(test['relevance_rounded'], np.asarray(out), rownames=['actual'], colnames=['preds'])"
     ],
     "language": "python",
     "metadata": {},
     "outputs": [
      {
       "output_type": "stream",
       "stream": "stdout",
       "text": [
        "preds      1     2     3\n",
        "actual                  \n",
        "1        166   756   376\n",
        "2       2105  3476  3110\n",
        "3       3865  2258  2434\n"
       ]
      }
     ],
     "prompt_number": 8
    },
    {
     "cell_type": "code",
     "collapsed": false,
     "input": [],
     "language": "python",
     "metadata": {},
     "outputs": []
    }
   ],
   "metadata": {}
  }
 ]
}