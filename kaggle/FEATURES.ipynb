{
 "cells": [
  {
   "cell_type": "code",
   "execution_count": 2,
   "metadata": {
    "collapsed": false
   },
   "outputs": [],
   "source": [
    "from sklearn.datasets import load_iris\n",
    "from sklearn.ensemble import RandomForestClassifier\n",
    "import pandas as pd\n",
    "import numpy as np"
   ]
  },
  {
   "cell_type": "code",
   "execution_count": 8,
   "metadata": {
    "collapsed": false
   },
   "outputs": [],
   "source": [
    "product_descriptions = pd.read_csv('/home/MZ/Documents/CODE/THINKFUL/projects/kaggle/product_descriptions.csv', header=0)\n",
    "attributes = pd.read_csv('/home/MZ/Documents/CODE/THINKFUL/projects/kaggle/attributes.csv', header=0)\n",
    "train = pd.read_csv('/home/MZ/Documents/CODE/THINKFUL/projects/kaggle/train.csv', header=0,  encoding = \"ISO-8859-1\")"
   ]
  },
  {
   "cell_type": "markdown",
   "metadata": {},
   "source": [
    "# FEATURES"
   ]
  },
  {
   "cell_type": "markdown",
   "metadata": {},
   "source": [
    "### EXACT MATCH, between search term (as phrase) and product title, allowing only differences in case"
   ]
  },
  {
   "cell_type": "code",
   "execution_count": 11,
   "metadata": {
    "collapsed": false
   },
   "outputs": [],
   "source": [
    "# A boolean\n",
    "\n",
    "train['exact'] = pd.Series([True if st.lower() in pt.lower() else False \n",
    "                      for st, pt in zip(train['search_term'], train['product_title'])])"
   ]
  },
  {
   "cell_type": "markdown",
   "metadata": {},
   "source": [
    "### OVERLAPPING WORDS, allowing for differences in case"
   ]
  },
  {
   "cell_type": "code",
   "execution_count": 13,
   "metadata": {
    "collapsed": false
   },
   "outputs": [],
   "source": [
    "# A count >= 0\n",
    "\n",
    "train['overlapping_words'] = pd.Series([len(set(st.lower().split()) & set(pt.lower().split()))\n",
    "                      for st, pt in zip(train['search_term'], train['product_title'])])"
   ]
  },
  {
   "cell_type": "markdown",
   "metadata": {},
   "source": [
    "### PERCENTAGE OVERLAPPING WORDS, allowing for differences in case"
   ]
  },
  {
   "cell_type": "code",
   "execution_count": 59,
   "metadata": {
    "collapsed": false
   },
   "outputs": [],
   "source": [
    "train['percentage_overlapping_words'] = pd.Series([len(set(st.lower().split()) & \n",
    "                                                       set(pt.lower().split()))/float(len(st.split()))\n",
    "                                                       for st, pt in zip(train['search_term'], train['product_title'])])"
   ]
  },
  {
   "cell_type": "markdown",
   "metadata": {
    "collapsed": false
   },
   "source": [
    "### DEFAULT PENALTY: products that appear too many times -- and have low relevance -- suggesting that they are defaults for when the search engine is stumped"
   ]
  },
  {
   "cell_type": "code",
   "execution_count": 18,
   "metadata": {
    "collapsed": false
   },
   "outputs": [],
   "source": [
    "# Aggregate on product ID's themselves and penalize too popular products.\n",
    "from collections import Counter\n",
    "d = Counter(train['product_uid'])\n",
    "for pid in d: \n",
    "    if d[pid] > 5:\n",
    "        pass\n",
    "#         print(pid, d[pid],) "
   ]
  },
  {
   "cell_type": "markdown",
   "metadata": {},
   "source": [
    "### BAG OF WORDS: product descriptions, attributes, titles -- product by product"
   ]
  },
  {
   "cell_type": "code",
   "execution_count": 62,
   "metadata": {
    "collapsed": false
   },
   "outputs": [
    {
     "name": "stdout",
     "output_type": "stream",
     "text": [
      "124428 2044803 74067\n"
     ]
    }
   ],
   "source": [
    "print(len(product_descriptions), len(attributes), len(train))"
   ]
  },
  {
   "cell_type": "code",
   "execution_count": 19,
   "metadata": {
    "collapsed": false
   },
   "outputs": [],
   "source": [
    "# TF-IDF on product description\n",
    "text = ''\n",
    "len(product_descriptions['product_description']) # 124428\n",
    "# for d in product_descriptions['product_description']:\n",
    "#     text+=d\n",
    "x = ''.join(product_descriptions['product_description']).split()\n",
    "d = Counter(x)\n",
    "frequent = sorted(d.items(), key=lambda x: x[1])[:50:-1]"
   ]
  },
  {
   "cell_type": "code",
   "execution_count": 20,
   "metadata": {
    "collapsed": false
   },
   "outputs": [
    {
     "data": {
      "text/plain": [
       "[('and', 632164),\n",
       " ('to', 379616),\n",
       " ('the', 354414),\n",
       " ('for', 332252),\n",
       " ('a', 315015),\n",
       " ('with', 239997),\n",
       " ('of', 229611),\n",
       " ('is', 191992),\n",
       " ('in.', 186786),\n",
       " ('in', 177073)]"
      ]
     },
     "execution_count": 20,
     "metadata": {},
     "output_type": "execute_result"
    }
   ],
   "source": [
    "frequent[:10]"
   ]
  },
  {
   "cell_type": "code",
   "execution_count": 21,
   "metadata": {
    "collapsed": false
   },
   "outputs": [],
   "source": [
    "d = {w[0]: 0 for w in frequent}"
   ]
  },
  {
   "cell_type": "code",
   "execution_count": 47,
   "metadata": {
    "collapsed": false
   },
   "outputs": [],
   "source": [
    "# Bag of words attributes\n",
    "\n",
    "# (100001.0, 'Bullet01', 'Versatile connector for various 90° connections and home repair projects')\n",
    "\n",
    "attribute_bag = {}\n",
    "for row in zip(train['product_uid'], attributes['name'], attributes['value']):\n",
    "#     print (row)\n",
    "    product_uid = int(row[0])\n",
    "    if product_uid in attribute_bag:\n",
    "        \n",
    "        attribute_bag[product_uid] = ' ` '.join([attribute_bag[product_uid], str(row[-1])])\n",
    "    else:\n",
    "        attribute_bag[product_uid] = str(row[-1])"
   ]
  },
  {
   "cell_type": "code",
   "execution_count": 53,
   "metadata": {
    "collapsed": false
   },
   "outputs": [
    {
     "name": "stdout",
     "output_type": "stream",
     "text": [
      "54667\n"
     ]
    }
   ],
   "source": [
    "print(len(attribute_bag))"
   ]
  },
  {
   "cell_type": "code",
   "execution_count": 56,
   "metadata": {
    "collapsed": false
   },
   "outputs": [
    {
     "name": "stdout",
     "output_type": "stream",
     "text": [
      "74067\n"
     ]
    }
   ],
   "source": [
    "print(len([x for x in zip(train['product_uid'], train['product_title'], product_descriptions['product_description'])]))\n"
   ]
  },
  {
   "cell_type": "code",
   "execution_count": 51,
   "metadata": {
    "collapsed": false
   },
   "outputs": [],
   "source": [
    "for row in zip(train['product_uid'], train['product_title'], product_descriptions['product_description']):\n",
    "    attribute_bag[row[0]] = ' ~ '.join([row[1], row[2], attribute_bag[row[0]]])"
   ]
  },
  {
   "cell_type": "code",
   "execution_count": 49,
   "metadata": {
    "collapsed": false
   },
   "outputs": [
    {
     "data": {
      "text/plain": [
       "74067"
      ]
     },
     "execution_count": 49,
     "metadata": {},
     "output_type": "execute_result"
    }
   ],
   "source": [
    "N = len(train)"
   ]
  },
  {
   "cell_type": "code",
   "execution_count": 33,
   "metadata": {
    "collapsed": false
   },
   "outputs": [],
   "source": [
    "# What do 3's have in common?"
   ]
  },
  {
   "cell_type": "code",
   "execution_count": null,
   "metadata": {
    "collapsed": false
   },
   "outputs": [],
   "source": [
    "# What do 1's have in common?"
   ]
  }
 ],
 "metadata": {
  "kernelspec": {
   "display_name": "Python 3",
   "language": "python",
   "name": "python3"
  },
  "language_info": {
   "codemirror_mode": {
    "name": "ipython",
    "version": 3
   },
   "file_extension": ".py",
   "mimetype": "text/x-python",
   "name": "python",
   "nbconvert_exporter": "python",
   "pygments_lexer": "ipython3",
   "version": "3.5.1"
  }
 },
 "nbformat": 4,
 "nbformat_minor": 0
}
