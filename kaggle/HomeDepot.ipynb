{
 "cells": [
  {
   "cell_type": "code",
   "execution_count": 331,
   "metadata": {
    "collapsed": false
   },
   "outputs": [],
   "source": [
    "import numpy as np\n",
    "import pandas as pd\n",
    "import re\n",
    "from collections import OrderedDict\n",
    "from collections import Counter\n",
    "from itertools import combinations\n",
    "from math import log\n",
    "from sklearn.ensemble import RandomForestClassifier\n",
    "from sklearn.naive_bayes import GaussianNB"
   ]
  },
  {
   "cell_type": "markdown",
   "metadata": {},
   "source": [
    "# DATA"
   ]
  },
  {
   "cell_type": "code",
   "execution_count": 332,
   "metadata": {
    "collapsed": true
   },
   "outputs": [],
   "source": [
    "product_descriptions = pd.read_csv('DATA/product_descriptions.csv', header=0, encoding = \"ISO-8859-1\")\n",
    "attributes = pd.read_csv('DATA/attributes.csv', header=0, encoding = \"ISO-8859-1\")\n",
    "train = pd.read_csv('DATA/train.csv', header=0,  encoding = \"ISO-8859-1\")\n",
    "test = pd.read_csv('DATA/test.csv', header=0,  encoding = \"ISO-8859-1\")"
   ]
  },
  {
   "cell_type": "markdown",
   "metadata": {},
   "source": [
    "# EVALUATOR SCORES (NORMALIZED)\n",
    "* Evaluator scores are are continuous averages on the interval [1, 3]; the classifier seems unable to handles this\n",
    "* relevance_rounded consists of values: 1, 2, 3"
   ]
  },
  {
   "cell_type": "code",
   "execution_count": 333,
   "metadata": {
    "collapsed": true
   },
   "outputs": [],
   "source": [
    "# Since relevance is an aggregate, values are continuous rather than discrete\n",
    "# It appears the classifier can only handle a limited number of values\n",
    "# So we round up\n",
    "train['relevance_rounded'] = train['relevance'].map(lambda x: round(x))"
   ]
  },
  {
   "cell_type": "markdown",
   "metadata": {},
   "source": [
    "* Note imbalance of 1's, 2's, and 3's"
   ]
  },
  {
   "cell_type": "code",
   "execution_count": 334,
   "metadata": {
    "collapsed": false
   },
   "outputs": [
    {
     "data": {
      "text/plain": [
       "Counter({1.0: 5115, 2.0: 34614, 3.0: 34338})"
      ]
     },
     "execution_count": 334,
     "metadata": {},
     "output_type": "execute_result"
    }
   ],
   "source": [
    "Counter(train['relevance_rounded'])"
   ]
  },
  {
   "cell_type": "markdown",
   "metadata": {},
   "source": [
    "* relevance_rounded_quarters consists of values 1, 1.25, 1.5...3"
   ]
  },
  {
   "cell_type": "code",
   "execution_count": 335,
   "metadata": {
    "collapsed": true
   },
   "outputs": [],
   "source": [
    "def round_custom(x):\n",
    "    '''Rounds relevance to quarters -- for greater granularity'''\n",
    "    whole, fraction = int(x), 100 * float(x - int(x))\n",
    "\n",
    "    if fraction < 12.5:   fraction =  0\n",
    "    elif fraction < 37.5: fraction = 25\n",
    "    elif fraction < 62.5: fraction = 50\n",
    "    elif fraction < 87.5: fraction = 75\n",
    "    else: fraction = 100\n",
    "\n",
    "    return whole + fraction / 100"
   ]
  },
  {
   "cell_type": "code",
   "execution_count": 336,
   "metadata": {
    "collapsed": true
   },
   "outputs": [],
   "source": [
    "train['relevance_rounded_quarters'] = train['relevance'].map(lambda x: round_custom(x))"
   ]
  },
  {
   "cell_type": "markdown",
   "metadata": {},
   "source": [
    "# FEATURES"
   ]
  },
  {
   "cell_type": "markdown",
   "metadata": {},
   "source": [
    "### FEATURE: EXACT MATCH\n",
    "* between search term (as phrase) and product title, allowing only differences in case"
   ]
  },
  {
   "cell_type": "code",
   "execution_count": 337,
   "metadata": {
    "collapsed": false
   },
   "outputs": [],
   "source": [
    "# Produces a boolean\n",
    "\n",
    "train['exact'] = pd.Series([True if st.lower() in pt.lower() else False \n",
    "                      for st, pt in zip(train['search_term'], train['product_title'])])"
   ]
  },
  {
   "cell_type": "markdown",
   "metadata": {},
   "source": [
    "### FEATURE: OVERLAPPING WORDS\n",
    "* allowing for differences in case"
   ]
  },
  {
   "cell_type": "code",
   "execution_count": 338,
   "metadata": {
    "collapsed": false
   },
   "outputs": [],
   "source": [
    "# Produces a count >= 0\n",
    "\n",
    "train['overlapping_words'] = pd.Series([len(set(st.lower().split()) & set(pt.lower().split()))\n",
    "                      for st, pt in zip(train['search_term'], train['product_title'])])"
   ]
  },
  {
   "cell_type": "markdown",
   "metadata": {},
   "source": [
    "### FEATURE: PERCENTAGE OVERLAPPING WORDS\n",
    "* allowing for differences in case"
   ]
  },
  {
   "cell_type": "code",
   "execution_count": 339,
   "metadata": {
    "collapsed": false
   },
   "outputs": [],
   "source": [
    "train['percentage_overlapping_words'] = pd.Series([len(set(st.lower().split()) & \n",
    "                                                       set(pt.lower().split()))/float(len(st.split()))\n",
    "                                                       for st, pt in zip(train['search_term'], train['product_title'])])"
   ]
  },
  {
   "cell_type": "markdown",
   "metadata": {},
   "source": [
    "## TF-IDF"
   ]
  },
  {
   "cell_type": "code",
   "execution_count": 340,
   "metadata": {
    "collapsed": false
   },
   "outputs": [],
   "source": [
    "def calc(doc, query, N=1, D={}):\n",
    "    '''Calculates TF-IDF score for doc, query pair, given a document count (N) and dictionary of word counts (D)'''\n",
    "    doc = [w.lower() for w in doc.split()]\n",
    "    counts = Counter(doc)\n",
    "    query = query.lower().split()\n",
    "    return sum([counts[word] * log(N / (1+D[word])) for word in set(query) & set(doc)]) # 1 to avoid div by 0"
   ]
  },
  {
   "cell_type": "markdown",
   "metadata": {},
   "source": [
    "### TF-IDF: product descriptions (all) + product titles"
   ]
  },
  {
   "cell_type": "code",
   "execution_count": 341,
   "metadata": {
    "collapsed": false
   },
   "outputs": [],
   "source": [
    "# Number of documents\n",
    "N = len(set(product_descriptions['product_uid'] + train['product_uid']))"
   ]
  },
  {
   "cell_type": "code",
   "execution_count": 342,
   "metadata": {
    "collapsed": false
   },
   "outputs": [],
   "source": [
    "# Dictionary of word-count pairs\n",
    "words_product_descriptions = ''.join(product_descriptions['product_description']).split()\n",
    "words_train = ''.join(train['product_title']).split()\n",
    "D = Counter(words_product_descriptions + words_train) # Not lowercased"
   ]
  },
  {
   "cell_type": "code",
   "execution_count": 343,
   "metadata": {
    "collapsed": false
   },
   "outputs": [],
   "source": [
    "# Test\n",
    "# frequent = sorted(d.items(), key=lambda x: x[1])[:50:-1]\n",
    "# frequent"
   ]
  },
  {
   "cell_type": "code",
   "execution_count": 344,
   "metadata": {
    "collapsed": false
   },
   "outputs": [],
   "source": [
    "scores = OrderedDict()\n",
    "\n",
    "for row in zip(train['id'], train['product_uid'], train['product_title'], train['search_term']):\n",
    "    _id, pid, pt, st = row\n",
    "    TF = Counter(pt.split())\n",
    "    score = sum([calc(pt, word, N, D) for word in st.lower().split()])\n",
    "    scores[_id] = score"
   ]
  },
  {
   "cell_type": "code",
   "execution_count": 345,
   "metadata": {
    "collapsed": false
   },
   "outputs": [
    {
     "data": {
      "text/plain": [
       "id                                                              2\n",
       "product_uid                                                100001\n",
       "product_title                   Simpson Strong-Tie 12-Gauge Angle\n",
       "search_term                                         angle bracket\n",
       "relevance                                                       3\n",
       "relevance_rounded                                               3\n",
       "relevance_rounded_quarters                                      3\n",
       "exact                                                       False\n",
       "overlapping_words                                               1\n",
       "percentage_overlapping_words                                  0.5\n",
       "tf_idf                                                    4.16932\n",
       "Name: 0, dtype: object"
      ]
     },
     "execution_count": 345,
     "metadata": {},
     "output_type": "execute_result"
    }
   ],
   "source": [
    "# Vector\n",
    "tf_idf = list(scores.values())\n",
    "train['tf_idf'] = tf_idf\n",
    "train.ix[0]"
   ]
  },
  {
   "cell_type": "markdown",
   "metadata": {},
   "source": [
    "## TF-IDF: product titles, descriptions, and attributes"
   ]
  },
  {
   "cell_type": "code",
   "execution_count": 346,
   "metadata": {
    "collapsed": false
   },
   "outputs": [],
   "source": [
    "# Dictionary of word-count pairs\n",
    "words_product_descriptions = ''.join(product_descriptions['product_description']).split()\n",
    "words_train = ''.join(train['product_title']).split()\n",
    "words_attributes = ''.join(str(at) for at in attributes['value']).split()\n",
    "d_titles_descriptions_attr = Counter(words_product_descriptions + words_train + words_attributes) # Not lowercased"
   ]
  },
  {
   "cell_type": "code",
   "execution_count": 347,
   "metadata": {
    "collapsed": false
   },
   "outputs": [
    {
     "data": {
      "text/plain": [
       "436110"
      ]
     },
     "execution_count": 347,
     "metadata": {},
     "output_type": "execute_result"
    }
   ],
   "source": [
    "d_titles_descriptions_attr['the']"
   ]
  },
  {
   "cell_type": "code",
   "execution_count": 348,
   "metadata": {
    "collapsed": false
   },
   "outputs": [],
   "source": [
    "scores_titles_descriptions_attr = OrderedDict()\n",
    "\n",
    "for row in zip(train['id'], train['product_uid'], train['product_title'], train['search_term'], attributes['value']):\n",
    "    _id, pid, pt, st, attr = row\n",
    "    TF = Counter(pt.split())\n",
    "    score = sum([calc(pt, word, N, d_titles_descriptions_attr) for word in st.lower().split()])\n",
    "    scores_titles_descriptions_attr[_id] = score"
   ]
  },
  {
   "cell_type": "code",
   "execution_count": 349,
   "metadata": {
    "collapsed": false
   },
   "outputs": [
    {
     "data": {
      "text/plain": [
       "id                                                              2\n",
       "product_uid                                                100001\n",
       "product_title                   Simpson Strong-Tie 12-Gauge Angle\n",
       "search_term                                         angle bracket\n",
       "relevance                                                       3\n",
       "relevance_rounded                                               3\n",
       "relevance_rounded_quarters                                      3\n",
       "exact                                                       False\n",
       "overlapping_words                                               1\n",
       "percentage_overlapping_words                                  0.5\n",
       "tf_idf                                                    4.16932\n",
       "tf_titles_descriptions_attr                                     2\n",
       "Name: 0, dtype: object"
      ]
     },
     "execution_count": 349,
     "metadata": {},
     "output_type": "execute_result"
    }
   ],
   "source": [
    "tf_idf_titles_descriptions_attr = list(scores_titles_descriptions_attr.values())\n",
    "train['tf_titles_descriptions_attr'] = scores_titles_descriptions_attr\n",
    "train.ix[0]"
   ]
  },
  {
   "cell_type": "markdown",
   "metadata": {},
   "source": [
    "## TF-IDF: product titles alone (no descriptions)"
   ]
  },
  {
   "cell_type": "markdown",
   "metadata": {},
   "source": [
    "## TF-IDF: product descriptions (not all -- only those with product titles) + product titles"
   ]
  },
  {
   "cell_type": "markdown",
   "metadata": {},
   "source": [
    "## FEATURE: JACCARD DISTANCE"
   ]
  },
  {
   "cell_type": "code",
   "execution_count": 350,
   "metadata": {
    "collapsed": false
   },
   "outputs": [],
   "source": [
    "def jaccard_dist(phrase1, phrase2):\n",
    "    '''Returns the Jaccard distance for two phrases, eg, search query and product title'''\n",
    "    lst1, lst2 = set(phrase1), set(phrase2)\n",
    "    return float(len(lst1 & lst2)) / len(lst1 | lst2)\n",
    "\n",
    "def words_shared(st, pt):\n",
    "    st_list = re.split('\\s', st.lower())\n",
    "    pt_list = re.split('\\s', pt.lower())\n",
    "    dist = jaccard_dist(st_list, pt_list)\n",
    "    return dist\n",
    "\n",
    "train['jaccard'] = pd.Series([words_shared(st, pt) \n",
    "                      for st, pt in zip(train['search_term'], train['product_title'])])"
   ]
  },
  {
   "cell_type": "markdown",
   "metadata": {},
   "source": [
    "### BAG OF WORDS: product descriptions, attributes, titles -- product by product"
   ]
  },
  {
   "cell_type": "markdown",
   "metadata": {},
   "source": [
    "## DATA CAPPED\n",
    "* Where the number of 1's, 2's, and 3's is equal"
   ]
  },
  {
   "cell_type": "code",
   "execution_count": 351,
   "metadata": {
    "collapsed": true
   },
   "outputs": [],
   "source": [
    "ones = train[train.relevance_rounded == 1].sample(n=len(train[train.relevance_rounded == 1]))\n",
    "twos = train[train.relevance_rounded == 2].sample(n=len(train[train.relevance_rounded == 1]))\n",
    "threes = train[train.relevance_rounded == 3].sample(n=len(train[train.relevance_rounded == 1]))\n",
    "capped = pd.concat([ones, twos, threes])"
   ]
  },
  {
   "cell_type": "markdown",
   "metadata": {},
   "source": [
    "# THE MODEL"
   ]
  },
  {
   "cell_type": "markdown",
   "metadata": {},
   "source": [
    "## Train, test split"
   ]
  },
  {
   "cell_type": "code",
   "execution_count": 352,
   "metadata": {
    "collapsed": false
   },
   "outputs": [],
   "source": [
    "# Prepare to divide the dataset into test, train (lifted from sklearn Iris example)\n",
    "train['is_train'] = np.random.uniform(0, 1, len(train)) <= .75\n",
    "\n",
    "# Split data into training and test\n",
    "train_data, test_data = train[train['is_train']==True], train[train['is_train']==False]"
   ]
  },
  {
   "cell_type": "code",
   "execution_count": 353,
   "metadata": {
    "collapsed": false
   },
   "outputs": [
    {
     "data": {
      "text/plain": [
       "Counter({1.0: 3841, 2.0: 26000, 3.0: 25623})"
      ]
     },
     "execution_count": 353,
     "metadata": {},
     "output_type": "execute_result"
    }
   ],
   "source": [
    "from collections import Counter\n",
    "Counter(list(train_data['relevance_rounded']))"
   ]
  },
  {
   "cell_type": "code",
   "execution_count": 354,
   "metadata": {
    "collapsed": false
   },
   "outputs": [],
   "source": [
    "# from copy import deepcopy\n",
    "# ones, twos, three = 0, 0, 0\n",
    "# train_data_capped = deepcopy(train_data)\n",
    "# test = deepcopy(train_data_capped)[0:2]\n",
    "\n",
    "# for i in test:\n",
    "#     if test['relevance_rounded'] == 2:"
   ]
  },
  {
   "cell_type": "code",
   "execution_count": 355,
   "metadata": {
    "collapsed": false
   },
   "outputs": [],
   "source": [
    "# Prepare to divide the dataset into test, train (lifted from sklearn Iris example)\n",
    "capped['is_train'] = np.random.uniform(0, 1, len(capped)) <= .75\n",
    "\n",
    "# Split data into training and test\n",
    "train_data_capped, test_data_capped = capped[capped['is_train']==True], capped[capped['is_train']==False]"
   ]
  },
  {
   "cell_type": "markdown",
   "metadata": {},
   "source": [
    "## F1 Score"
   ]
  },
  {
   "cell_type": "code",
   "execution_count": 356,
   "metadata": {
    "collapsed": true
   },
   "outputs": [],
   "source": [
    "def f1(ct, preds, data):\n",
    "    '''Returns the F1 score given the confusion matrix generated with a set of predictions'''\n",
    "    index = list(pd.crosstab(data['relevance_rounded'], preds))\n",
    "    total = 0\n",
    "    for i in list(ct):\n",
    "        total += sum(list(ct[i]))\n",
    "\n",
    "    true_positives, false_positives, true_negatives, false_negatives = 0, 0, 0, 0\n",
    "\n",
    "    for i in zip(list(ct), range(1, len(ct)+1)): \n",
    "        row = list(ct.ix[i[1]])\n",
    "        column = list(ct[i[0]])\n",
    "    \n",
    "        tp = row[i[1]-1]\n",
    "        true_positives  += tp\n",
    "        false_negatives += sum(row)-tp\n",
    "        false_positives += sum(column) - tp\n",
    "        true_negatives = total - tp\n",
    "    \n",
    "    return float(2*true_positives) / (2 * true_positives + false_positives + false_negatives)"
   ]
  },
  {
   "cell_type": "code",
   "execution_count": 357,
   "metadata": {
    "collapsed": false
   },
   "outputs": [
    {
     "data": {
      "text/plain": [
       "Index(['id', 'product_uid', 'product_title', 'search_term', 'relevance',\n",
       "       'relevance_rounded', 'relevance_rounded_quarters', 'exact',\n",
       "       'overlapping_words', 'percentage_overlapping_words', 'tf_idf',\n",
       "       'tf_titles_descriptions_attr', 'jaccard', 'is_train'],\n",
       "      dtype='object')"
      ]
     },
     "execution_count": 357,
     "metadata": {},
     "output_type": "execute_result"
    }
   ],
   "source": [
    "train.columns"
   ]
  },
  {
   "cell_type": "markdown",
   "metadata": {},
   "source": [
    "## RANDOM FOREST"
   ]
  },
  {
   "cell_type": "code",
   "execution_count": 358,
   "metadata": {
    "collapsed": false
   },
   "outputs": [],
   "source": [
    "def random_forest(features, train_data, test_data):\n",
    "    clf = RandomForestClassifier(n_jobs=2, class_weight = 'balanced', oob_score = False, criterion = 'entropy')\n",
    "\n",
    "    y, _ = pd.factorize(train_data['relevance_rounded']) # 0, 1, 2\n",
    "\n",
    "    clf.fit(train_data[features], y)\n",
    "\n",
    "    # Predicting on those features will output predictions that match y\n",
    "    preds = clf.predict(test_data[features])\n",
    "\n",
    "    # target_names = test['relevance_rounded']\n",
    "    target_names = ['1', '2', '3']\n",
    "    out = [target_names[pred] for pred in preds]\n",
    "\n",
    "    ct = pd.crosstab(test_data['relevance_rounded'], np.asarray(out), rownames=['actual'], colnames=['preds'])\n",
    "    \n",
    "    return (ct, preds)"
   ]
  },
  {
   "cell_type": "code",
   "execution_count": 359,
   "metadata": {
    "collapsed": false
   },
   "outputs": [
    {
     "data": {
      "text/plain": [
       "Index(['exact', 'overlapping_words', 'percentage_overlapping_words', 'tf_idf',\n",
       "       'tf_titles_descriptions_attr', 'jaccard', 'is_train'],\n",
       "      dtype='object')"
      ]
     },
     "execution_count": 359,
     "metadata": {},
     "output_type": "execute_result"
    }
   ],
   "source": [
    "# Features\n",
    "train.columns[7:]"
   ]
  },
  {
   "cell_type": "code",
   "execution_count": 360,
   "metadata": {
    "collapsed": false
   },
   "outputs": [
    {
     "data": {
      "text/plain": [
       "'overlapping_words'"
      ]
     },
     "execution_count": 360,
     "metadata": {},
     "output_type": "execute_result"
    }
   ],
   "source": [
    "train.columns[8]"
   ]
  },
  {
   "cell_type": "code",
   "execution_count": 362,
   "metadata": {
    "collapsed": false
   },
   "outputs": [
    {
     "name": "stdout",
     "output_type": "stream",
     "text": [
      "(7,) ['exact'] 0.572391281457\n",
      "preds      2     3\n",
      "actual            \n",
      "1         27  1247\n",
      "2        487  8127\n",
      "3       1070  7645\n",
      "\n",
      "(8,) ['overlapping_words'] 0.294253615008\n",
      "preds      1     2     3\n",
      "actual                  \n",
      "1        396   394   484\n",
      "2       2928  3967  1719\n",
      "3       2673  4931  1111\n",
      "\n",
      "(9,) ['percentage_overlapping_words'] 0.289469440413\n",
      "preds      1     2     3\n",
      "actual                  \n",
      "1        240   255   779\n",
      "2       2237  2831  3546\n",
      "3       1844  4557  2314\n",
      "\n",
      "(10,) ['tf_idf'] 0.248615814654\n",
      "preds      1     2     3\n",
      "actual                  \n",
      "1        299   167   808\n",
      "2       3132  2490  2992\n",
      "3       2315  4564  1836\n",
      "\n",
      "(11,) ['tf_titles_descriptions_attr'] 0.257270332742\n",
      "preds      1     2    3\n",
      "actual                 \n",
      "1        656   514  104\n",
      "2       4413  3654  547\n",
      "3       4177  4062  476\n",
      "\n",
      "(12,) ['jaccard'] 0.328979196904\n",
      "preds      1     2     3\n",
      "actual                  \n",
      "1        238   325   711\n",
      "2       1809  3556  3249\n",
      "3       1636  4753  2326\n",
      "\n",
      "(7, 8) ['exact', 'overlapping_words'] 0.292264688491\n",
      "preds      1     2     3\n",
      "actual                  \n",
      "1        331    77   866\n",
      "2       2577  1615  4422\n",
      "3       2491  2733  3491\n",
      "\n",
      "(7, 9) ['exact', 'percentage_overlapping_words'] 0.290867064452\n",
      "preds      1     2     3\n",
      "actual                  \n",
      "1        240   255   779\n",
      "2       2211  2857  3546\n",
      "3       1798  4603  2314\n",
      "\n",
      "(7, 10) ['exact', 'tf_idf'] 0.246573133366\n",
      "preds      1     2     3\n",
      "actual                  \n",
      "1        287   171   816\n",
      "2       3151  2428  3035\n",
      "3       2307  4536  1872\n",
      "\n",
      "(7, 11) ['exact', 'tf_titles_descriptions_attr'] 0.254743858517\n",
      "preds      1     2    3\n",
      "actual                 \n",
      "1        650   505  119\n",
      "2       4450  3631  533\n",
      "3       4153  4104  458\n",
      "\n",
      "(7, 12) ['exact', 'jaccard'] 0.307799817234\n",
      "preds      1     2     3\n",
      "actual                  \n",
      "1        284   166   824\n",
      "2       2227  2472  3915\n",
      "3       2070  3675  2970\n",
      "\n",
      "(8, 9) ['overlapping_words', 'percentage_overlapping_words'] 0.254367575122\n",
      "preds      1     2     3\n",
      "actual                  \n",
      "1        370   135   769\n",
      "2       3053  2084  3477\n",
      "3       2390  4047  2278\n",
      "\n",
      "(8, 10) ['overlapping_words', 'tf_idf'] 0.245928076117\n",
      "preds      1     2     3\n",
      "actual                  \n",
      "1        315   167   792\n",
      "2       3247  2462  2905\n",
      "3       2361  4556  1798\n",
      "\n",
      "(8, 11) ['overlapping_words', 'tf_titles_descriptions_attr'] 0.250335967317\n",
      "preds      1     2    3\n",
      "actual                 \n",
      "1        686   470  118\n",
      "2       4505  3554  555\n",
      "3       4139  4159  417\n",
      "\n",
      "(8, 12) ['overlapping_words', 'jaccard'] 0.314357899264\n",
      "preds      1     2     3\n",
      "actual                  \n",
      "1        293   286   695\n",
      "2       2187  3375  3052\n",
      "3       1925  4610  2180\n",
      "\n",
      "(9, 10) ['percentage_overlapping_words', 'tf_idf'] 0.237327312799\n",
      "preds      1     2     3\n",
      "actual                  \n",
      "1        350   147   777\n",
      "2       3351  2400  2863\n",
      "3       2220  4830  1665\n",
      "\n",
      "(9, 11) ['percentage_overlapping_words', 'tf_titles_descriptions_attr'] 0.24985217438\n",
      "preds      1     2    3\n",
      "actual                 \n",
      "1        723   442  109\n",
      "2       4531  3498  585\n",
      "3       3961  4327  427\n",
      "\n",
      "(9, 12) ['percentage_overlapping_words', 'jaccard'] 0.267537493953\n",
      "preds      1     2     3\n",
      "actual                  \n",
      "1        328   192   754\n",
      "2       2802  2434  3378\n",
      "3       2242  4258  2215\n",
      "\n",
      "(10, 11) ['tf_idf', 'tf_titles_descriptions_attr'] 0.238778691609\n",
      "preds      1     2    3\n",
      "actual                 \n",
      "1        784   387  103\n",
      "2       4805  3423  386\n",
      "3       4099  4381  235\n",
      "\n",
      "(10, 12) ['tf_idf', 'jaccard'] 0.261785733484\n",
      "preds      1     2     3\n",
      "actual                  \n",
      "1        389   253   632\n",
      "2       3359  2873  2382\n",
      "3       2874  4233  1608\n",
      "\n",
      "(11, 12) ['tf_titles_descriptions_attr', 'jaccard'] 0.251787346127\n",
      "preds      1     2    3\n",
      "actual                 \n",
      "1        698   463  113\n",
      "2       4510  3561  543\n",
      "3       4123  4167  425\n",
      "\n",
      "(7, 8, 9) ['exact', 'overlapping_words', 'percentage_overlapping_words'] 0.254421329893\n",
      "preds      1     2     3\n",
      "actual                  \n",
      "1        371   134   769\n",
      "2       3053  2084  3477\n",
      "3       2368  4069  2278\n",
      "\n",
      "(7, 8, 10) ['exact', 'overlapping_words', 'tf_idf'] 0.244261678224\n",
      "preds      1     2     3\n",
      "actual                  \n",
      "1        312   160   802\n",
      "2       3280  2401  2933\n",
      "3       2389  4495  1831\n",
      "\n",
      "(7, 8, 11) ['exact', 'overlapping_words', 'tf_titles_descriptions_attr'] 0.250819760254\n",
      "preds      1     2    3\n",
      "actual                 \n",
      "1        687   474  113\n",
      "2       4493  3521  600\n",
      "3       4074  4183  458\n",
      "\n",
      "(7, 8, 12) ['exact', 'overlapping_words', 'jaccard'] 0.303499435575\n",
      "preds      1     2     3\n",
      "actual                  \n",
      "1        305   183   786\n",
      "2       2330  2633  3651\n",
      "3       2120  3887  2708\n",
      "\n",
      "(7, 9, 10) ['exact', 'percentage_overlapping_words', 'tf_idf'] 0.237273558028\n",
      "preds      1     2     3\n",
      "actual                  \n",
      "1        337   162   775\n",
      "2       3371  2412  2831\n",
      "3       2256  4794  1665\n",
      "\n",
      "(7, 9, 11) ['exact', 'percentage_overlapping_words', 'tf_titles_descriptions_attr'] 0.252378648605\n",
      "preds      1     2    3\n",
      "actual                 \n",
      "1        725   438  111\n",
      "2       4520  3527  567\n",
      "3       3885  4387  443\n",
      "\n",
      "(7, 9, 12) ['exact', 'percentage_overlapping_words', 'jaccard'] 0.278987260119\n",
      "preds      1     2     3\n",
      "actual                  \n",
      "1        297   189   788\n",
      "2       2483  2449  3682\n",
      "3       1996  4275  2444\n",
      "\n",
      "(7, 10, 11) ['exact', 'tf_idf', 'tf_titles_descriptions_attr'] 0.232704402516\n",
      "preds      1     2    3\n",
      "actual                 \n",
      "1        794   380  100\n",
      "2       4914  3312  388\n",
      "3       4183  4309  223\n",
      "\n",
      "(7, 10, 12) ['exact', 'tf_idf', 'jaccard'] 0.256571520722\n",
      "preds      1     2     3\n",
      "actual                  \n",
      "1        397   228   649\n",
      "2       3449  2803  2362\n",
      "3       2889  4253  1573\n",
      "\n",
      "(7, 11, 12) ['exact', 'tf_titles_descriptions_attr', 'jaccard'] 0.24764822878\n",
      "preds      1     2    3\n",
      "actual                 \n",
      "1        695   454  125\n",
      "2       4555  3505  554\n",
      "3       4104  4204  407\n",
      "\n",
      "(8, 9, 10) ['overlapping_words', 'percentage_overlapping_words', 'tf_idf'] 0.235284631511\n",
      "preds      1     2     3\n",
      "actual                  \n",
      "1        344   158   772\n",
      "2       3426  2361  2827\n",
      "3       2220  4823  1672\n",
      "\n",
      "(8, 9, 11) ['overlapping_words', 'percentage_overlapping_words', 'tf_titles_descriptions_attr'] 0.247755738322\n",
      "preds      1     2    3\n",
      "actual                 \n",
      "1        717   442  115\n",
      "2       4574  3486  554\n",
      "3       3879  4430  406\n",
      "\n",
      "(8, 9, 12) ['overlapping_words', 'percentage_overlapping_words', 'jaccard'] 0.277804655163\n",
      "preds      1     2     3\n",
      "actual                  \n",
      "1        320   167   787\n",
      "2       2561  2446  3607\n",
      "3       1989  4324  2402\n",
      "\n",
      "(8, 10, 11) ['overlapping_words', 'tf_idf', 'tf_titles_descriptions_attr'] 0.234639574262\n",
      "preds      1     2    3\n",
      "actual                 \n",
      "1        775   389  110\n",
      "2       4872  3369  373\n",
      "3       4013  4481  221\n",
      "\n",
      "(8, 10, 12) ['overlapping_words', 'tf_idf', 'jaccard'] 0.260441864215\n",
      "preds      1     2     3\n",
      "actual                  \n",
      "1        408   227   639\n",
      "2       3412  2813  2389\n",
      "3       2868  4223  1624\n",
      "\n",
      "(8, 11, 12) ['overlapping_words', 'tf_titles_descriptions_attr', 'jaccard'] 0.2483470408\n",
      "preds      1     2    3\n",
      "actual                 \n",
      "1        705   463  106\n",
      "2       4532  3529  553\n",
      "3       4108  4221  386\n",
      "\n",
      "(9, 10, 11) ['percentage_overlapping_words', 'tf_idf', 'tf_titles_descriptions_attr'] 0.225877546632\n",
      "preds      1     2    3\n",
      "actual                 \n",
      "1        785   387  102\n",
      "2       5047  3199  368\n",
      "3       3924  4573  218\n",
      "\n",
      "(9, 10, 12) ['percentage_overlapping_words', 'tf_idf', 'jaccard'] 0.247056926302\n",
      "preds      1     2     3\n",
      "actual                  \n",
      "1        405   244   625\n",
      "2       3642  2759  2213\n",
      "3       2800  4483  1432\n",
      "\n",
      "(9, 11, 12) ['percentage_overlapping_words', 'tf_titles_descriptions_attr', 'jaccard'] 0.241735203999\n",
      "preds      1     2    3\n",
      "actual                 \n",
      "1        735   429  110\n",
      "2       4698  3379  537\n",
      "3       3971  4361  383\n",
      "\n",
      "(10, 11, 12) ['tf_idf', 'tf_titles_descriptions_attr', 'jaccard'] 0.235875933989\n",
      "preds      1     2    3\n",
      "actual                 \n",
      "1        784   393   97\n",
      "2       4864  3386  364\n",
      "3       4130  4367  218\n",
      "\n",
      "(7, 8, 9, 10) ['exact', 'overlapping_words', 'percentage_overlapping_words', 'tf_idf'] 0.235284631511\n",
      "preds      1     2     3\n",
      "actual                  \n",
      "1        326   157   791\n",
      "2       3447  2400  2767\n",
      "3       2266  4798  1651\n",
      "\n",
      "(7, 8, 9, 11) ['exact', 'overlapping_words', 'percentage_overlapping_words', 'tf_titles_descriptions_attr'] 0.248400795571\n",
      "preds      1     2    3\n",
      "actual                 \n",
      "1        711   450  113\n",
      "2       4540  3511  563\n",
      "3       3920  4396  399\n",
      "\n",
      "(7, 8, 9, 12) ['exact', 'overlapping_words', 'percentage_overlapping_words', 'jaccard'] 0.2849002849\n",
      "preds      1     2     3\n",
      "actual                  \n",
      "1        303   172   799\n",
      "2       2405  2523  3686\n",
      "3       1833  4408  2474\n",
      "\n",
      "(7, 8, 10, 11) ['exact', 'overlapping_words', 'tf_idf', 'tf_titles_descriptions_attr'] 0.232220609579\n",
      "preds      1     2    3\n",
      "actual                 \n",
      "1        774   392  108\n",
      "2       4893  3317  404\n",
      "3       4021  4465  229\n",
      "\n",
      "(7, 8, 10, 12) ['exact', 'overlapping_words', 'tf_idf', 'jaccard'] 0.258399182927\n",
      "preds      1     2     3\n",
      "actual                  \n",
      "1        398   232   644\n",
      "2       3423  2848  2343\n",
      "3       2816  4338  1561\n",
      "\n",
      "(7, 8, 11, 12) ['exact', 'overlapping_words', 'tf_titles_descriptions_attr', 'jaccard'] 0.24469171639\n",
      "preds      1     2    3\n",
      "actual                 \n",
      "1        721   438  115\n",
      "2       4632  3428  554\n",
      "3       4061  4251  403\n",
      "\n",
      "(7, 9, 10, 11) ['exact', 'percentage_overlapping_words', 'tf_idf', 'tf_titles_descriptions_attr'] 0.223673601032\n",
      "preds      1     2    3\n",
      "actual                 \n",
      "1        792   387   95\n",
      "2       5099  3139  376\n",
      "3       3999  4486  230\n",
      "\n",
      "(7, 9, 10, 12) ['exact', 'percentage_overlapping_words', 'tf_idf', 'jaccard'] 0.248400795571\n",
      "preds      1     2     3\n",
      "actual                  \n",
      "1        419   231   624\n",
      "2       3627  2795  2192\n",
      "3       2793  4515  1407\n",
      "\n",
      "(7, 9, 11, 12) ['exact', 'percentage_overlapping_words', 'tf_titles_descriptions_attr', 'jaccard'] 0.238079879589\n",
      "preds      1     2    3\n",
      "actual                 \n",
      "1        742   418  114\n",
      "2       4752  3346  516\n",
      "3       3952  4422  341\n",
      "\n",
      "(7, 10, 11, 12) ['exact', 'tf_idf', 'tf_titles_descriptions_attr', 'jaccard'] 0.229317851959\n",
      "preds      1     2    3\n",
      "actual                 \n",
      "1        799   384   91\n",
      "2       4992  3262  360\n",
      "3       4115  4395  205\n",
      "\n",
      "(8, 9, 10, 11) ['overlapping_words', 'percentage_overlapping_words', 'tf_idf', 'tf_titles_descriptions_attr'] 0.220878352954\n",
      "preds      1     2    3\n",
      "actual                 \n",
      "1        777   399   98\n",
      "2       5096  3127  391\n",
      "3       3935  4575  205\n",
      "\n",
      "(8, 9, 10, 12) ['overlapping_words', 'percentage_overlapping_words', 'tf_idf', 'jaccard'] 0.24469171639\n",
      "preds      1     2     3\n",
      "actual                  \n",
      "1        424   227   623\n",
      "2       3689  2731  2194\n",
      "3       2779  4539  1397\n",
      "\n",
      "(8, 9, 11, 12) ['overlapping_words', 'percentage_overlapping_words', 'tf_titles_descriptions_attr', 'jaccard'] 0.241090146751\n",
      "preds      1     2    3\n",
      "actual                 \n",
      "1        761   407  106\n",
      "2       4739  3357  518\n",
      "3       3951  4397  367\n",
      "\n",
      "(8, 10, 11, 12) ['overlapping_words', 'tf_idf', 'tf_titles_descriptions_attr', 'jaccard'] 0.232704402516\n",
      "preds      1     2    3\n",
      "actual                 \n",
      "1        806   377   91\n",
      "2       4942  3321  351\n",
      "3       4105  4408  202\n",
      "\n",
      "(9, 10, 11, 12) ['percentage_overlapping_words', 'tf_idf', 'tf_titles_descriptions_attr', 'jaccard'] 0.223243562866\n",
      "preds      1     2    3\n",
      "actual                 \n",
      "1        785   389  100\n",
      "2       5104  3176  334\n",
      "3       3950  4573  192\n",
      "\n"
     ]
    }
   ],
   "source": [
    "for n in range(1, 5):\n",
    "    for comb in combinations([7, 8, 9, 10, 11, 12], n):\n",
    "#         print(comb)\n",
    "        features = train.columns[list(comb)]\n",
    "        ct, preds = random_forest(features, train_data, test_data)\n",
    "        print(comb, [train.columns[f] for f in comb], f1(ct, preds, test_data))\n",
    "        print(ct)\n",
    "        print()\n"
   ]
  },
  {
   "cell_type": "markdown",
   "metadata": {},
   "source": [
    "## RANDOM FOREST WITH CAPPED DATA"
   ]
  },
  {
   "cell_type": "code",
   "execution_count": 363,
   "metadata": {
    "collapsed": false
   },
   "outputs": [
    {
     "data": {
      "text/html": [
       "<div>\n",
       "<table border=\"1\" class=\"dataframe\">\n",
       "  <thead>\n",
       "    <tr style=\"text-align: right;\">\n",
       "      <th></th>\n",
       "      <th>percentage_overlapping_words</th>\n",
       "      <th>tf_idf</th>\n",
       "      <th>tf_titles_descriptions_attr</th>\n",
       "      <th>jaccard</th>\n",
       "    </tr>\n",
       "  </thead>\n",
       "  <tbody>\n",
       "    <tr>\n",
       "      <th>0</th>\n",
       "      <td>0.500000</td>\n",
       "      <td>4.169321</td>\n",
       "      <td>2</td>\n",
       "      <td>0.200000</td>\n",
       "    </tr>\n",
       "    <tr>\n",
       "      <th>6</th>\n",
       "      <td>0.666667</td>\n",
       "      <td>7.352333</td>\n",
       "      <td>20</td>\n",
       "      <td>0.125000</td>\n",
       "    </tr>\n",
       "    <tr>\n",
       "      <th>11</th>\n",
       "      <td>0.800000</td>\n",
       "      <td>30.591369</td>\n",
       "      <td>35</td>\n",
       "      <td>0.222222</td>\n",
       "    </tr>\n",
       "    <tr>\n",
       "      <th>17</th>\n",
       "      <td>0.000000</td>\n",
       "      <td>0.000000</td>\n",
       "      <td>69</td>\n",
       "      <td>0.000000</td>\n",
       "    </tr>\n",
       "    <tr>\n",
       "      <th>20</th>\n",
       "      <td>0.000000</td>\n",
       "      <td>0.000000</td>\n",
       "      <td>85</td>\n",
       "      <td>0.000000</td>\n",
       "    </tr>\n",
       "  </tbody>\n",
       "</table>\n",
       "</div>"
      ],
      "text/plain": [
       "    percentage_overlapping_words     tf_idf  tf_titles_descriptions_attr  \\\n",
       "0                       0.500000   4.169321                            2   \n",
       "6                       0.666667   7.352333                           20   \n",
       "11                      0.800000  30.591369                           35   \n",
       "17                      0.000000   0.000000                           69   \n",
       "20                      0.000000   0.000000                           85   \n",
       "\n",
       "     jaccard  \n",
       "0   0.200000  \n",
       "6   0.125000  \n",
       "11  0.222222  \n",
       "17  0.000000  \n",
       "20  0.000000  "
      ]
     },
     "execution_count": 363,
     "metadata": {},
     "output_type": "execute_result"
    }
   ],
   "source": [
    "test_data[features].head()"
   ]
  },
  {
   "cell_type": "code",
   "execution_count": 364,
   "metadata": {
    "collapsed": false
   },
   "outputs": [
    {
     "data": {
      "text/html": [
       "<div>\n",
       "<table border=\"1\" class=\"dataframe\">\n",
       "  <thead>\n",
       "    <tr style=\"text-align: right;\">\n",
       "      <th></th>\n",
       "      <th>id</th>\n",
       "      <th>product_uid</th>\n",
       "      <th>product_title</th>\n",
       "      <th>search_term</th>\n",
       "      <th>relevance</th>\n",
       "      <th>relevance_rounded</th>\n",
       "      <th>relevance_rounded_quarters</th>\n",
       "      <th>exact</th>\n",
       "      <th>overlapping_words</th>\n",
       "      <th>percentage_overlapping_words</th>\n",
       "      <th>tf_idf</th>\n",
       "      <th>tf_titles_descriptions_attr</th>\n",
       "      <th>jaccard</th>\n",
       "      <th>is_train</th>\n",
       "    </tr>\n",
       "  </thead>\n",
       "  <tbody>\n",
       "    <tr>\n",
       "      <th>66814</th>\n",
       "      <td>200791</td>\n",
       "      <td>189611</td>\n",
       "      <td>Ekena Millwork 3/8 in. x 173 in. x 8-5/8 in. P...</td>\n",
       "      <td>model 173k</td>\n",
       "      <td>1.33</td>\n",
       "      <td>1</td>\n",
       "      <td>1.25</td>\n",
       "      <td>False</td>\n",
       "      <td>0</td>\n",
       "      <td>0.000000</td>\n",
       "      <td>0.000000</td>\n",
       "      <td>200791</td>\n",
       "      <td>0.000000</td>\n",
       "      <td>False</td>\n",
       "    </tr>\n",
       "    <tr>\n",
       "      <th>63026</th>\n",
       "      <td>189985</td>\n",
       "      <td>181546</td>\n",
       "      <td>Access Lighting Nauticus 1-Light Black Outdoor...</td>\n",
       "      <td>outdoor black deck</td>\n",
       "      <td>1.33</td>\n",
       "      <td>1</td>\n",
       "      <td>1.25</td>\n",
       "      <td>False</td>\n",
       "      <td>2</td>\n",
       "      <td>0.666667</td>\n",
       "      <td>4.960553</td>\n",
       "      <td>189985</td>\n",
       "      <td>0.166667</td>\n",
       "      <td>False</td>\n",
       "    </tr>\n",
       "    <tr>\n",
       "      <th>31821</th>\n",
       "      <td>97351</td>\n",
       "      <td>130320</td>\n",
       "      <td>Ideal Pet 6.25 in. x 6.25 in. Small Cat Flap P...</td>\n",
       "      <td>tru frame windows</td>\n",
       "      <td>1.33</td>\n",
       "      <td>1</td>\n",
       "      <td>1.25</td>\n",
       "      <td>False</td>\n",
       "      <td>1</td>\n",
       "      <td>0.333333</td>\n",
       "      <td>2.690626</td>\n",
       "      <td>97351</td>\n",
       "      <td>0.045455</td>\n",
       "      <td>False</td>\n",
       "    </tr>\n",
       "    <tr>\n",
       "      <th>59128</th>\n",
       "      <td>178574</td>\n",
       "      <td>173558</td>\n",
       "      <td>BLACK+DECKER 120 MPH 120 CFM 20-Volt Lithium-I...</td>\n",
       "      <td>black and decker  cordless lantern</td>\n",
       "      <td>1.33</td>\n",
       "      <td>1</td>\n",
       "      <td>1.25</td>\n",
       "      <td>False</td>\n",
       "      <td>1</td>\n",
       "      <td>0.200000</td>\n",
       "      <td>4.198324</td>\n",
       "      <td>178574</td>\n",
       "      <td>0.058824</td>\n",
       "      <td>False</td>\n",
       "    </tr>\n",
       "    <tr>\n",
       "      <th>59121</th>\n",
       "      <td>178555</td>\n",
       "      <td>173547</td>\n",
       "      <td>Home Decorators Collection Albright 31 in. Van...</td>\n",
       "      <td>stone are mb11</td>\n",
       "      <td>1.00</td>\n",
       "      <td>1</td>\n",
       "      <td>1.00</td>\n",
       "      <td>False</td>\n",
       "      <td>1</td>\n",
       "      <td>0.333333</td>\n",
       "      <td>3.443702</td>\n",
       "      <td>178555</td>\n",
       "      <td>0.058824</td>\n",
       "      <td>False</td>\n",
       "    </tr>\n",
       "  </tbody>\n",
       "</table>\n",
       "</div>"
      ],
      "text/plain": [
       "           id  product_uid                                      product_title  \\\n",
       "66814  200791       189611  Ekena Millwork 3/8 in. x 173 in. x 8-5/8 in. P...   \n",
       "63026  189985       181546  Access Lighting Nauticus 1-Light Black Outdoor...   \n",
       "31821   97351       130320  Ideal Pet 6.25 in. x 6.25 in. Small Cat Flap P...   \n",
       "59128  178574       173558  BLACK+DECKER 120 MPH 120 CFM 20-Volt Lithium-I...   \n",
       "59121  178555       173547  Home Decorators Collection Albright 31 in. Van...   \n",
       "\n",
       "                              search_term  relevance  relevance_rounded  \\\n",
       "66814                          model 173k       1.33                  1   \n",
       "63026                  outdoor black deck       1.33                  1   \n",
       "31821                   tru frame windows       1.33                  1   \n",
       "59128  black and decker  cordless lantern       1.33                  1   \n",
       "59121                      stone are mb11       1.00                  1   \n",
       "\n",
       "       relevance_rounded_quarters  exact  overlapping_words  \\\n",
       "66814                        1.25  False                  0   \n",
       "63026                        1.25  False                  2   \n",
       "31821                        1.25  False                  1   \n",
       "59128                        1.25  False                  1   \n",
       "59121                        1.00  False                  1   \n",
       "\n",
       "       percentage_overlapping_words    tf_idf  tf_titles_descriptions_attr  \\\n",
       "66814                      0.000000  0.000000                       200791   \n",
       "63026                      0.666667  4.960553                       189985   \n",
       "31821                      0.333333  2.690626                        97351   \n",
       "59128                      0.200000  4.198324                       178574   \n",
       "59121                      0.333333  3.443702                       178555   \n",
       "\n",
       "        jaccard is_train  \n",
       "66814  0.000000    False  \n",
       "63026  0.166667    False  \n",
       "31821  0.045455    False  \n",
       "59128  0.058824    False  \n",
       "59121  0.058824    False  "
      ]
     },
     "execution_count": 364,
     "metadata": {},
     "output_type": "execute_result"
    }
   ],
   "source": [
    "features = train.columns[[7, 8, 9, 10]]\n",
    "test_data_capped[test_data_capped.is_train == False].head()"
   ]
  },
  {
   "cell_type": "code",
   "execution_count": 367,
   "metadata": {
    "collapsed": false
   },
   "outputs": [
    {
     "data": {
      "text/plain": [
       "id                                                              3\n",
       "product_uid                                                100001\n",
       "product_title                   Simpson Strong-Tie 12-Gauge Angle\n",
       "search_term                                             l bracket\n",
       "relevance                                                     2.5\n",
       "relevance_rounded                                               2\n",
       "relevance_rounded_quarters                                    2.5\n",
       "exact                                                       False\n",
       "overlapping_words                                               0\n",
       "percentage_overlapping_words                                    0\n",
       "tf_idf                                                          0\n",
       "tf_titles_descriptions_attr                                     3\n",
       "jaccard                                                         0\n",
       "is_train                                                     True\n",
       "Name: 1, dtype: object"
      ]
     },
     "execution_count": 367,
     "metadata": {},
     "output_type": "execute_result"
    }
   ],
   "source": [
    "train_data.ix[1]"
   ]
  },
  {
   "cell_type": "code",
   "execution_count": 368,
   "metadata": {
    "collapsed": false
   },
   "outputs": [
    {
     "data": {
      "text/plain": [
       "id                                                                         182458\n",
       "product_uid                                                                176233\n",
       "product_title                   Woodgrain Millwork WM 327 - 11/16 in. x 2-1/4 ...\n",
       "search_term                                                          2 wooden leg\n",
       "relevance                                                                    1.33\n",
       "relevance_rounded                                                               1\n",
       "relevance_rounded_quarters                                                   1.25\n",
       "exact                                                                       False\n",
       "overlapping_words                                                               0\n",
       "percentage_overlapping_words                                                    0\n",
       "tf_idf                                                                          0\n",
       "tf_titles_descriptions_attr                                                182458\n",
       "jaccard                                                                         0\n",
       "is_train                                                                     True\n",
       "Name: 60448, dtype: object"
      ]
     },
     "execution_count": 368,
     "metadata": {},
     "output_type": "execute_result"
    }
   ],
   "source": [
    "train_data_capped.ix[60448]"
   ]
  },
  {
   "cell_type": "code",
   "execution_count": 369,
   "metadata": {
    "collapsed": false
   },
   "outputs": [
    {
     "data": {
      "text/html": [
       "<div>\n",
       "<table border=\"1\" class=\"dataframe\">\n",
       "  <thead>\n",
       "    <tr style=\"text-align: right;\">\n",
       "      <th></th>\n",
       "      <th>id</th>\n",
       "      <th>product_uid</th>\n",
       "      <th>product_title</th>\n",
       "      <th>search_term</th>\n",
       "      <th>relevance</th>\n",
       "      <th>relevance_rounded</th>\n",
       "      <th>relevance_rounded_quarters</th>\n",
       "      <th>exact</th>\n",
       "      <th>overlapping_words</th>\n",
       "      <th>percentage_overlapping_words</th>\n",
       "      <th>tf_idf</th>\n",
       "      <th>tf_titles_descriptions_attr</th>\n",
       "      <th>jaccard</th>\n",
       "      <th>is_train</th>\n",
       "    </tr>\n",
       "  </thead>\n",
       "  <tbody>\n",
       "    <tr>\n",
       "      <th>25332</th>\n",
       "      <td>77768</td>\n",
       "      <td>122472</td>\n",
       "      <td>Blue Bidet Non-Electric Hot and Cold Dual Nozz...</td>\n",
       "      <td>electric roof system</td>\n",
       "      <td>1.00</td>\n",
       "      <td>1</td>\n",
       "      <td>1.00</td>\n",
       "      <td>False</td>\n",
       "      <td>1</td>\n",
       "      <td>0.333333</td>\n",
       "      <td>2.218892</td>\n",
       "      <td>77768</td>\n",
       "      <td>0.058824</td>\n",
       "      <td>True</td>\n",
       "    </tr>\n",
       "    <tr>\n",
       "      <th>71846</th>\n",
       "      <td>215092</td>\n",
       "      <td>201196</td>\n",
       "      <td>Bell&amp;#39;O Fixed Low Profile Wall Mount for 12...</td>\n",
       "      <td>flat screen fireplace</td>\n",
       "      <td>1.33</td>\n",
       "      <td>1</td>\n",
       "      <td>1.25</td>\n",
       "      <td>False</td>\n",
       "      <td>2</td>\n",
       "      <td>0.666667</td>\n",
       "      <td>6.921108</td>\n",
       "      <td>215092</td>\n",
       "      <td>0.111111</td>\n",
       "      <td>True</td>\n",
       "    </tr>\n",
       "    <tr>\n",
       "      <th>40097</th>\n",
       "      <td>122325</td>\n",
       "      <td>141678</td>\n",
       "      <td>Glacier Bay Single-Handle Replacement Filtrati...</td>\n",
       "      <td>ac replacement pullout handle</td>\n",
       "      <td>1.33</td>\n",
       "      <td>1</td>\n",
       "      <td>1.25</td>\n",
       "      <td>False</td>\n",
       "      <td>1</td>\n",
       "      <td>0.250000</td>\n",
       "      <td>3.340533</td>\n",
       "      <td>122325</td>\n",
       "      <td>0.083333</td>\n",
       "      <td>True</td>\n",
       "    </tr>\n",
       "    <tr>\n",
       "      <th>72972</th>\n",
       "      <td>218304</td>\n",
       "      <td>203904</td>\n",
       "      <td>Brady 8 in. x 15 in. Glow-in-the-Dark Self-Sti...</td>\n",
       "      <td>purple glow stick</td>\n",
       "      <td>1.00</td>\n",
       "      <td>1</td>\n",
       "      <td>1.00</td>\n",
       "      <td>False</td>\n",
       "      <td>0</td>\n",
       "      <td>0.000000</td>\n",
       "      <td>0.000000</td>\n",
       "      <td>218304</td>\n",
       "      <td>0.000000</td>\n",
       "      <td>True</td>\n",
       "    </tr>\n",
       "    <tr>\n",
       "      <th>56320</th>\n",
       "      <td>170467</td>\n",
       "      <td>168263</td>\n",
       "      <td>5/8 in. x 5-1/2 in. x 8 ft. Pressure-Treated P...</td>\n",
       "      <td>pet treated carpet</td>\n",
       "      <td>1.00</td>\n",
       "      <td>1</td>\n",
       "      <td>1.00</td>\n",
       "      <td>False</td>\n",
       "      <td>0</td>\n",
       "      <td>0.000000</td>\n",
       "      <td>0.000000</td>\n",
       "      <td>170467</td>\n",
       "      <td>0.000000</td>\n",
       "      <td>True</td>\n",
       "    </tr>\n",
       "  </tbody>\n",
       "</table>\n",
       "</div>"
      ],
      "text/plain": [
       "           id  product_uid                                      product_title  \\\n",
       "25332   77768       122472  Blue Bidet Non-Electric Hot and Cold Dual Nozz...   \n",
       "71846  215092       201196  Bell&#39;O Fixed Low Profile Wall Mount for 12...   \n",
       "40097  122325       141678  Glacier Bay Single-Handle Replacement Filtrati...   \n",
       "72972  218304       203904  Brady 8 in. x 15 in. Glow-in-the-Dark Self-Sti...   \n",
       "56320  170467       168263  5/8 in. x 5-1/2 in. x 8 ft. Pressure-Treated P...   \n",
       "\n",
       "                         search_term  relevance  relevance_rounded  \\\n",
       "25332           electric roof system       1.00                  1   \n",
       "71846          flat screen fireplace       1.33                  1   \n",
       "40097  ac replacement pullout handle       1.33                  1   \n",
       "72972              purple glow stick       1.00                  1   \n",
       "56320             pet treated carpet       1.00                  1   \n",
       "\n",
       "       relevance_rounded_quarters  exact  overlapping_words  \\\n",
       "25332                        1.00  False                  1   \n",
       "71846                        1.25  False                  2   \n",
       "40097                        1.25  False                  1   \n",
       "72972                        1.00  False                  0   \n",
       "56320                        1.00  False                  0   \n",
       "\n",
       "       percentage_overlapping_words    tf_idf  tf_titles_descriptions_attr  \\\n",
       "25332                      0.333333  2.218892                        77768   \n",
       "71846                      0.666667  6.921108                       215092   \n",
       "40097                      0.250000  3.340533                       122325   \n",
       "72972                      0.000000  0.000000                       218304   \n",
       "56320                      0.000000  0.000000                       170467   \n",
       "\n",
       "        jaccard is_train  \n",
       "25332  0.058824     True  \n",
       "71846  0.111111     True  \n",
       "40097  0.083333     True  \n",
       "72972  0.000000     True  \n",
       "56320  0.000000     True  "
      ]
     },
     "execution_count": 369,
     "metadata": {},
     "output_type": "execute_result"
    }
   ],
   "source": [
    "train_data_capped.head()"
   ]
  },
  {
   "cell_type": "code",
   "execution_count": 371,
   "metadata": {
    "collapsed": false
   },
   "outputs": [
    {
     "name": "stdout",
     "output_type": "stream",
     "text": [
      "11591\n",
      "preds     1    2    3\n",
      "actual               \n",
      "1       807  240  157\n",
      "2       551  377  344\n",
      "3       350  314  614\n",
      "[0 2 1 ..., 0 0 0]\n"
     ]
    }
   ],
   "source": [
    "clf = RandomForestClassifier(n_jobs=2, class_weight = 'balanced', oob_score = False, criterion = 'entropy')\n",
    "\n",
    "y, _ = pd.factorize(train_data_capped['relevance_rounded']) # 0, 1, 2\n",
    "print (len(y))\n",
    "clf.fit(train_data_capped[features], y)\n",
    "\n",
    "# Predicting on those features will output predictions that match y\n",
    "preds = clf.predict(test_data_capped[features])\n",
    "\n",
    "# target_names = test['relevance_rounded']\n",
    "target_names = ['1', '2', '3']\n",
    "out = [target_names[pred] for pred in preds]\n",
    "\n",
    "ct = pd.crosstab(test_data_capped['relevance_rounded'], np.asarray(out), rownames=['actual'], colnames=['preds'])\n",
    "\n",
    "print(ct)\n",
    "print(preds)"
   ]
  },
  {
   "cell_type": "code",
   "execution_count": 374,
   "metadata": {
    "collapsed": false
   },
   "outputs": [
    {
     "data": {
      "text/plain": [
       "Index(['exact', 'overlapping_words', 'percentage_overlapping_words', 'tf_idf'], dtype='object')"
      ]
     },
     "execution_count": 374,
     "metadata": {},
     "output_type": "execute_result"
    }
   ],
   "source": [
    "features"
   ]
  },
  {
   "cell_type": "code",
   "execution_count": 372,
   "metadata": {
    "collapsed": false
   },
   "outputs": [
    {
     "data": {
      "text/plain": [
       "0.47895578050079912"
      ]
     },
     "execution_count": 372,
     "metadata": {},
     "output_type": "execute_result"
    }
   ],
   "source": [
    "f1(ct, preds, test_data_capped)"
   ]
  },
  {
   "cell_type": "code",
   "execution_count": 373,
   "metadata": {
    "collapsed": false
   },
   "outputs": [
    {
     "data": {
      "text/html": [
       "<div>\n",
       "<table border=\"1\" class=\"dataframe\">\n",
       "  <thead>\n",
       "    <tr style=\"text-align: right;\">\n",
       "      <th>preds</th>\n",
       "      <th>1</th>\n",
       "      <th>2</th>\n",
       "      <th>3</th>\n",
       "    </tr>\n",
       "    <tr>\n",
       "      <th>actual</th>\n",
       "      <th></th>\n",
       "      <th></th>\n",
       "      <th></th>\n",
       "    </tr>\n",
       "  </thead>\n",
       "  <tbody>\n",
       "    <tr>\n",
       "      <th>1</th>\n",
       "      <td>807</td>\n",
       "      <td>240</td>\n",
       "      <td>157</td>\n",
       "    </tr>\n",
       "    <tr>\n",
       "      <th>2</th>\n",
       "      <td>551</td>\n",
       "      <td>377</td>\n",
       "      <td>344</td>\n",
       "    </tr>\n",
       "    <tr>\n",
       "      <th>3</th>\n",
       "      <td>350</td>\n",
       "      <td>314</td>\n",
       "      <td>614</td>\n",
       "    </tr>\n",
       "  </tbody>\n",
       "</table>\n",
       "</div>"
      ],
      "text/plain": [
       "preds     1    2    3\n",
       "actual               \n",
       "1       807  240  157\n",
       "2       551  377  344\n",
       "3       350  314  614"
      ]
     },
     "execution_count": 373,
     "metadata": {},
     "output_type": "execute_result"
    }
   ],
   "source": [
    "ct"
   ]
  },
  {
   "cell_type": "markdown",
   "metadata": {},
   "source": [
    "# NAIVE BAYES"
   ]
  },
  {
   "cell_type": "code",
   "execution_count": 375,
   "metadata": {
    "collapsed": false
   },
   "outputs": [
    {
     "data": {
      "text/plain": [
       "Index(['id', 'product_uid', 'product_title', 'search_term', 'relevance',\n",
       "       'relevance_rounded', 'relevance_rounded_quarters', 'exact',\n",
       "       'overlapping_words', 'percentage_overlapping_words', 'tf_idf',\n",
       "       'tf_titles_descriptions_attr', 'jaccard', 'is_train'],\n",
       "      dtype='object')"
      ]
     },
     "execution_count": 375,
     "metadata": {},
     "output_type": "execute_result"
    }
   ],
   "source": [
    "train.columns"
   ]
  },
  {
   "cell_type": "code",
   "execution_count": 376,
   "metadata": {
    "collapsed": false
   },
   "outputs": [],
   "source": [
    "def naive_bayes(features, train_data, test_data):\n",
    "    clf = GaussianNB()\n",
    "    y, _ = pd.factorize(train_data['relevance_rounded']) # 0, 1, 2\n",
    "\n",
    "    clf.fit(train_data[features], y)\n",
    "\n",
    "    # Predicting on those features will output predictions that match y\n",
    "    preds = clf.predict(test_data[features])\n",
    "\n",
    "    # target_names = test['relevance_rounded']\n",
    "    target_names = ['1', '2', '3']\n",
    "    out = [target_names[pred] for pred in preds]\n",
    "\n",
    "    ct = pd.crosstab(test_data['relevance_rounded'], np.asarray(out), rownames=['actual'], colnames=['preds'])\n",
    "    \n",
    "    return(ct, preds)"
   ]
  },
  {
   "cell_type": "code",
   "execution_count": 392,
   "metadata": {
    "collapsed": false
   },
   "outputs": [
    {
     "data": {
      "text/plain": [
       "55464"
      ]
     },
     "execution_count": 392,
     "metadata": {},
     "output_type": "execute_result"
    }
   ],
   "source": [
    "len(train_data)"
   ]
  },
  {
   "cell_type": "code",
   "execution_count": 393,
   "metadata": {
    "collapsed": false
   },
   "outputs": [
    {
     "data": {
      "text/plain": [
       "74067"
      ]
     },
     "execution_count": 393,
     "metadata": {},
     "output_type": "execute_result"
    }
   ],
   "source": [
    "len(train)"
   ]
  },
  {
   "cell_type": "code",
   "execution_count": 394,
   "metadata": {
    "collapsed": false
   },
   "outputs": [
    {
     "data": {
      "text/plain": [
       "3754"
      ]
     },
     "execution_count": 394,
     "metadata": {},
     "output_type": "execute_result"
    }
   ],
   "source": [
    "len(preds)"
   ]
  },
  {
   "cell_type": "code",
   "execution_count": null,
   "metadata": {
    "collapsed": true
   },
   "outputs": [],
   "source": []
  },
  {
   "cell_type": "code",
   "execution_count": 377,
   "metadata": {
    "collapsed": false
   },
   "outputs": [
    {
     "data": {
      "text/html": [
       "<div>\n",
       "<table border=\"1\" class=\"dataframe\">\n",
       "  <thead>\n",
       "    <tr style=\"text-align: right;\">\n",
       "      <th>preds</th>\n",
       "      <th>1</th>\n",
       "      <th>2</th>\n",
       "    </tr>\n",
       "    <tr>\n",
       "      <th>actual</th>\n",
       "      <th></th>\n",
       "      <th></th>\n",
       "    </tr>\n",
       "  </thead>\n",
       "  <tbody>\n",
       "    <tr>\n",
       "      <th>1</th>\n",
       "      <td>1150</td>\n",
       "      <td>124</td>\n",
       "    </tr>\n",
       "    <tr>\n",
       "      <th>2</th>\n",
       "      <td>6604</td>\n",
       "      <td>2010</td>\n",
       "    </tr>\n",
       "    <tr>\n",
       "      <th>3</th>\n",
       "      <td>5252</td>\n",
       "      <td>3463</td>\n",
       "    </tr>\n",
       "  </tbody>\n",
       "</table>\n",
       "</div>"
      ],
      "text/plain": [
       "preds      1     2\n",
       "actual            \n",
       "1       1150   124\n",
       "2       6604  2010\n",
       "3       5252  3463"
      ]
     },
     "execution_count": 377,
     "metadata": {},
     "output_type": "execute_result"
    }
   ],
   "source": [
    "# features = train.columns[['exact']] # Whether it's an exact match or not\n",
    "\n",
    "# features = ['exact']\n",
    "features = [7, 8, 9, 10]\n",
    "ct, preds = naive_bayes(features, train_data, test_data)\n",
    "ct"
   ]
  },
  {
   "cell_type": "code",
   "execution_count": 379,
   "metadata": {
    "collapsed": false
   },
   "outputs": [
    {
     "data": {
      "text/plain": [
       "0.22182443578673966"
      ]
     },
     "execution_count": 379,
     "metadata": {},
     "output_type": "execute_result"
    }
   ],
   "source": [
    "f1(ct, preds, test_data)"
   ]
  },
  {
   "cell_type": "code",
   "execution_count": 380,
   "metadata": {
    "collapsed": false
   },
   "outputs": [
    {
     "data": {
      "text/plain": [
       "Counter({0: 13006, 1: 5597})"
      ]
     },
     "execution_count": 380,
     "metadata": {},
     "output_type": "execute_result"
    }
   ],
   "source": [
    "Counter(preds)"
   ]
  },
  {
   "cell_type": "code",
   "execution_count": 381,
   "metadata": {
    "collapsed": false
   },
   "outputs": [
    {
     "name": "stdout",
     "output_type": "stream",
     "text": [
      "18603 74067\n"
     ]
    }
   ],
   "source": [
    "print(len(preds), len(train))"
   ]
  },
  {
   "cell_type": "code",
   "execution_count": 388,
   "metadata": {
    "collapsed": false
   },
   "outputs": [],
   "source": [
    "ct_capped, preds_capped = naive_bayes(features, train_data_capped, test_data_capped)"
   ]
  },
  {
   "cell_type": "code",
   "execution_count": 384,
   "metadata": {
    "collapsed": false
   },
   "outputs": [
    {
     "data": {
      "text/plain": [
       "18603"
      ]
     },
     "execution_count": 384,
     "metadata": {},
     "output_type": "execute_result"
    }
   ],
   "source": [
    "len(preds)"
   ]
  },
  {
   "cell_type": "code",
   "execution_count": 385,
   "metadata": {
    "collapsed": false
   },
   "outputs": [
    {
     "data": {
      "text/plain": [
       "3754"
      ]
     },
     "execution_count": 385,
     "metadata": {},
     "output_type": "execute_result"
    }
   ],
   "source": [
    "len(test_data_capped)"
   ]
  },
  {
   "cell_type": "code",
   "execution_count": 389,
   "metadata": {
    "collapsed": false
   },
   "outputs": [
    {
     "data": {
      "text/plain": [
       "0.43127330847096429"
      ]
     },
     "execution_count": 389,
     "metadata": {},
     "output_type": "execute_result"
    }
   ],
   "source": [
    "f1(ct_capped, preds_capped, test_data_capped)"
   ]
  },
  {
   "cell_type": "code",
   "execution_count": 390,
   "metadata": {
    "collapsed": false
   },
   "outputs": [
    {
     "data": {
      "text/plain": [
       "74067"
      ]
     },
     "execution_count": 390,
     "metadata": {},
     "output_type": "execute_result"
    }
   ],
   "source": [
    "len(train)"
   ]
  },
  {
   "cell_type": "code",
   "execution_count": 391,
   "metadata": {
    "collapsed": false
   },
   "outputs": [
    {
     "data": {
      "text/plain": [
       "3754"
      ]
     },
     "execution_count": 391,
     "metadata": {},
     "output_type": "execute_result"
    }
   ],
   "source": [
    "len(preds_capped)"
   ]
  },
  {
   "cell_type": "code",
   "execution_count": null,
   "metadata": {
    "collapsed": true
   },
   "outputs": [],
   "source": []
  },
  {
   "cell_type": "markdown",
   "metadata": {
    "collapsed": false
   },
   "source": [
    "# THINGS TO TRY / CONTEMPLATE"
   ]
  },
  {
   "cell_type": "code",
   "execution_count": 72,
   "metadata": {
    "collapsed": false
   },
   "outputs": [],
   "source": [
    "# What do 3's have in common?\n",
    "# What do 1's have in common?\n",
    "# QUERIES CONTAINING WORDS NOT IN DICTIONARY"
   ]
  },
  {
   "cell_type": "markdown",
   "metadata": {},
   "source": [
    "## TF-IDF sans stopwords (does it make any difference?)"
   ]
  },
  {
   "cell_type": "code",
   "execution_count": 208,
   "metadata": {
    "collapsed": false
   },
   "outputs": [],
   "source": [
    "from nltk.corpus import stopwords\n",
    "stopwords = stopwords.words('english')"
   ]
  }
 ],
 "metadata": {
  "kernelspec": {
   "display_name": "Python 3",
   "language": "python",
   "name": "python3"
  },
  "language_info": {
   "codemirror_mode": {
    "name": "ipython",
    "version": 3
   },
   "file_extension": ".py",
   "mimetype": "text/x-python",
   "name": "python",
   "nbconvert_exporter": "python",
   "pygments_lexer": "ipython3",
   "version": "3.5.1"
  }
 },
 "nbformat": 4,
 "nbformat_minor": 0
}
