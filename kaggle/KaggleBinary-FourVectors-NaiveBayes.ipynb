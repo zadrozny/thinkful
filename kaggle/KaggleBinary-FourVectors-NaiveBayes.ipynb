{
 "cells": [
  {
   "cell_type": "code",
   "execution_count": 1,
   "metadata": {
    "collapsed": false
   },
   "outputs": [],
   "source": [
    "from sklearn.datasets import load_iris\n",
    "from sklearn.ensemble import RandomForestClassifier\n",
    "from sklearn.naive_bayes import GaussianNB\n",
    "import pandas as pd\n",
    "import numpy as np"
   ]
  },
  {
   "cell_type": "code",
   "execution_count": 3,
   "metadata": {
    "collapsed": false
   },
   "outputs": [],
   "source": [
    "df = pd.read_csv('/home/MZ/Documents/CODE/THINKFUL/projects/kaggle/train.csv', header=0,  encoding = \"ISO-8859-1\")"
   ]
  },
  {
   "cell_type": "markdown",
   "metadata": {},
   "source": [
    "# Features / vectors: "
   ]
  },
  {
   "cell_type": "code",
   "execution_count": 4,
   "metadata": {
    "collapsed": false
   },
   "outputs": [],
   "source": [
    "# Since relevance is an aggregate, values are continuous rather than discrete\n",
    "# It appears the classifier can only handle a limited number of values\n",
    "# So we round up\n",
    "df['relevance_rounded'] = df['relevance'].map(lambda x: round(x))\n",
    "\n",
    "# Create the feature 'exact match', allowing only for differences in case\n",
    "df['exact'] = pd.Series([True if st.lower() in pt.lower() else False \n",
    "                      for st, pt in zip(df['search_term'], df['product_title'])])\n",
    "\n",
    "# Create the feature 'overlapping words', allowing for differences in case\n",
    "df['overlapping_words'] = pd.Series([len(set(st.lower().split()) & set(pt.lower().split()))\n",
    "                      for st, pt in zip(df['search_term'], df['product_title'])])\n",
    "\n",
    "# Feature: percentage 'overlapping words', allowing for differences in case\n",
    "df['percentage_overlapping_words'] = pd.Series([len(set(st.lower().split()) & set(pt.lower().split()))/float(len(st.split()))\n",
    "                      for st, pt in zip(df['search_term'], df['product_title'])])\n",
    "\n",
    "# Feature: jaccard distance\n",
    "def jaccard_dist(phrase1, phrase2):\n",
    "    '''Returns the Jaccard distance for two phrases, eg, search query and product title'''\n",
    "    lst1, lst2 = set(phrase1.lower().split()), set(phrase2.lower().split())\n",
    "    return float(len(lst1 & lst2)) / len(lst1 | lst2)\n",
    "\n",
    "df['jaccard'] = pd.Series([jaccard_dist(st, pt) \n",
    "                      for st, pt in zip(df['search_term'], df['product_title'])])"
   ]
  },
  {
   "cell_type": "code",
   "execution_count": 21,
   "metadata": {
    "collapsed": false
   },
   "outputs": [
    {
     "name": "stdout",
     "output_type": "stream",
     "text": [
      "preds      1     2     3\n",
      "actual                  \n",
      "1        217   338   780\n",
      "2       2537  2468  3655\n",
      "3       4323  1923  2411\n"
     ]
    }
   ],
   "source": [
    "# Prepare to divide the dataset into test, train (lifted from sklearn Iris example)\n",
    "df['is_train'] = np.random.uniform(0, 1, len(df)) <= .75\n",
    "\n",
    "# Split data into training and test\n",
    "train, test = df[df['is_train']==True], df[df['is_train']==False]\n",
    "\n",
    "features = df.columns[[7, 8, 9, 10]] # Whether it's an exact match or not\n",
    "\n",
    "# clf = RandomForestClassifier(n_jobs=2)\n",
    "clf = RandomForestClassifier(n_jobs=2, class_weight = 'balanced', oob_score = False, criterion = 'entropy')\n",
    "\n",
    "y, _ = pd.factorize(train['relevance_rounded']) # 0, 1, 2\n",
    "\n",
    "clf.fit(train[features], y)\n",
    "\n",
    "# Predicting on those features will output predictions that match y\n",
    "preds = clf.predict(test[features])\n",
    "\n",
    "# target_names = test['relevance_rounded']\n",
    "target_names = ['1', '2', '3', '4']\n",
    "out = [target_names[pred] for pred in preds]\n",
    "\n",
    "# preds.index = range(len(preds))\n",
    "# pd.crosstab(test['relevance_rounded'], preds, rownames=['actual'], colnames=['preds'])\n",
    "ct = pd.crosstab(test['relevance_rounded'], np.asarray(out), rownames=['actual'], colnames=['preds'])\n",
    "print (ct)"
   ]
  },
  {
   "cell_type": "markdown",
   "metadata": {},
   "source": [
    "# Crosstab summation"
   ]
  },
  {
   "cell_type": "code",
   "execution_count": 34,
   "metadata": {
    "collapsed": false
   },
   "outputs": [
    {
     "name": "stdout",
     "output_type": "stream",
     "text": [
      "5096 13556 13556 50860\n"
     ]
    }
   ],
   "source": [
    "index = list(pd.crosstab(test['relevance_rounded'], preds))\n",
    "total = 0\n",
    "for i in list(ct):\n",
    "    total += sum(list(ct[i]))\n",
    "\n",
    "true_positives  = 0\n",
    "false_positives = 0\n",
    "false_negatives = 0\n",
    "true_negatives  = 0\n",
    "\n",
    "for i in zip(list(ct), range(1, len(ct)+1)):\n",
    "    row = list(ct.ix[i[1]])\n",
    "    column = list(ct[i[0]])\n",
    "    tp = row[i[1]-1]\n",
    "    true_positives  += tp\n",
    "    false_negatives += sum(row)-tp\n",
    "    false_positives += sum(column) - tp\n",
    "    true_negatives += total - tp\n",
    "    \n",
    "print(true_positives, false_positives, false_negatives, true_negatives)"
   ]
  },
  {
   "cell_type": "code",
   "execution_count": 35,
   "metadata": {
    "collapsed": false
   },
   "outputs": [
    {
     "data": {
      "text/plain": [
       "0.27321466866823935"
      ]
     },
     "execution_count": 35,
     "metadata": {},
     "output_type": "execute_result"
    }
   ],
   "source": [
    "# https://en.m.wikipedia.org/wiki/F1_score\n",
    "\n",
    "f1 = float(2*true_positives) / (2 * true_positives + false_positives + false_negatives)\n",
    "f1"
   ]
  },
  {
   "cell_type": "markdown",
   "metadata": {},
   "source": [
    "# Naive Bayes"
   ]
  },
  {
   "cell_type": "code",
   "execution_count": 9,
   "metadata": {
    "collapsed": false
   },
   "outputs": [
    {
     "name": "stdout",
     "output_type": "stream",
     "text": [
      "preds      1     2\n",
      "actual            \n",
      "1        273   948\n",
      "2       3174  5517\n",
      "3       4511  4074\n"
     ]
    }
   ],
   "source": [
    "clf_nb = GaussianNB()\n",
    "clf_nb.fit(train[features], y)\n",
    "\n",
    "preds = clf_nb.predict(test[features])\n",
    "\n",
    "target_names = ['1', '2', '3', '4']\n",
    "out = [target_names[pred] for pred in preds]\n",
    "\n",
    "# Predicting on those features will output predictions that match y\n",
    "\n",
    "print(pd.crosstab(test['relevance_rounded'], np.asarray(out), rownames=['actual'], colnames=['preds']))"
   ]
  },
  {
   "cell_type": "code",
   "execution_count": 17,
   "metadata": {
    "collapsed": false
   },
   "outputs": [
    {
     "name": "stdout",
     "output_type": "stream",
     "text": [
      "col_0                 0     1\n",
      "relevance_rounded            \n",
      "1                   273   948\n",
      "2                  3174  5517\n",
      "3                  4511  4074\n"
     ]
    }
   ],
   "source": [
    "ct = pd.crosstab(test['relevance_rounded'], preds)\n",
    "print(ct)"
   ]
  }
 ],
 "metadata": {
  "kernelspec": {
   "display_name": "Python 3",
   "language": "python",
   "name": "python3"
  },
  "language_info": {
   "codemirror_mode": {
    "name": "ipython",
    "version": 3
   },
   "file_extension": ".py",
   "mimetype": "text/x-python",
   "name": "python",
   "nbconvert_exporter": "python",
   "pygments_lexer": "ipython3",
   "version": "3.5.1"
  }
 },
 "nbformat": 4,
 "nbformat_minor": 0
}
