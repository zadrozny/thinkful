{
 "metadata": {
  "name": "",
  "signature": "sha256:1c3375726566eb7b11a8f0348c7ec9f6dd185bd631a86cf1129a7d8fa00e3d81"
 },
 "nbformat": 3,
 "nbformat_minor": 0,
 "worksheets": [
  {
   "cells": [
    {
     "cell_type": "markdown",
     "metadata": {},
     "source": [
      "# A PLACE TO TEST IDEAS AND PANDAS CODE, ETC"
     ]
    },
    {
     "cell_type": "code",
     "collapsed": false,
     "input": [
      "from sklearn.datasets import load_iris\n",
      "from sklearn.ensemble import RandomForestClassifier\n",
      "import pandas as pd\n",
      "import numpy as np"
     ],
     "language": "python",
     "metadata": {},
     "outputs": [],
     "prompt_number": 1
    },
    {
     "cell_type": "code",
     "collapsed": false,
     "input": [
      "train = pd.read_csv('/home/MZ/Documents/CODE/THINKFUL/projects/kaggle/train.csv', header=0)\n",
      "product_descriptions = pd.read_csv('/home/MZ/Documents/CODE/THINKFUL/projects/kaggle/product_descriptions.csv', header=0)\n",
      "attributes = pd.read_csv('/home/MZ/Documents/CODE/THINKFUL/projects/kaggle/attributes.csv', header=0)"
     ],
     "language": "python",
     "metadata": {},
     "outputs": [],
     "prompt_number": 2
    },
    {
     "cell_type": "code",
     "collapsed": false,
     "input": [
      "train.head()"
     ],
     "language": "python",
     "metadata": {},
     "outputs": [
      {
       "html": [
        "<div style=\"max-width:1500px;overflow:auto;\">\n",
        "<table border=\"1\" class=\"dataframe\">\n",
        "  <thead>\n",
        "    <tr style=\"text-align: right;\">\n",
        "      <th></th>\n",
        "      <th>id</th>\n",
        "      <th>product_uid</th>\n",
        "      <th>product_title</th>\n",
        "      <th>search_term</th>\n",
        "      <th>relevance</th>\n",
        "    </tr>\n",
        "  </thead>\n",
        "  <tbody>\n",
        "    <tr>\n",
        "      <th>0</th>\n",
        "      <td>2</td>\n",
        "      <td>100001</td>\n",
        "      <td>Simpson Strong-Tie 12-Gauge Angle</td>\n",
        "      <td>angle bracket</td>\n",
        "      <td>3.00</td>\n",
        "    </tr>\n",
        "    <tr>\n",
        "      <th>1</th>\n",
        "      <td>3</td>\n",
        "      <td>100001</td>\n",
        "      <td>Simpson Strong-Tie 12-Gauge Angle</td>\n",
        "      <td>l bracket</td>\n",
        "      <td>2.50</td>\n",
        "    </tr>\n",
        "    <tr>\n",
        "      <th>2</th>\n",
        "      <td>9</td>\n",
        "      <td>100002</td>\n",
        "      <td>BEHR Premium Textured DeckOver 1-gal. #SC-141 ...</td>\n",
        "      <td>deck over</td>\n",
        "      <td>3.00</td>\n",
        "    </tr>\n",
        "    <tr>\n",
        "      <th>3</th>\n",
        "      <td>16</td>\n",
        "      <td>100005</td>\n",
        "      <td>Delta Vero 1-Handle Shower Only Faucet Trim Ki...</td>\n",
        "      <td>rain shower head</td>\n",
        "      <td>2.33</td>\n",
        "    </tr>\n",
        "    <tr>\n",
        "      <th>4</th>\n",
        "      <td>17</td>\n",
        "      <td>100005</td>\n",
        "      <td>Delta Vero 1-Handle Shower Only Faucet Trim Ki...</td>\n",
        "      <td>shower only faucet</td>\n",
        "      <td>2.67</td>\n",
        "    </tr>\n",
        "  </tbody>\n",
        "</table>\n",
        "</div>"
       ],
       "metadata": {},
       "output_type": "pyout",
       "prompt_number": 7,
       "text": [
        "   id  product_uid                                      product_title  \\\n",
        "0   2       100001                  Simpson Strong-Tie 12-Gauge Angle   \n",
        "1   3       100001                  Simpson Strong-Tie 12-Gauge Angle   \n",
        "2   9       100002  BEHR Premium Textured DeckOver 1-gal. #SC-141 ...   \n",
        "3  16       100005  Delta Vero 1-Handle Shower Only Faucet Trim Ki...   \n",
        "4  17       100005  Delta Vero 1-Handle Shower Only Faucet Trim Ki...   \n",
        "\n",
        "          search_term  relevance  \n",
        "0       angle bracket       3.00  \n",
        "1           l bracket       2.50  \n",
        "2           deck over       3.00  \n",
        "3    rain shower head       2.33  \n",
        "4  shower only faucet       2.67  "
       ]
      }
     ],
     "prompt_number": 7
    },
    {
     "cell_type": "code",
     "collapsed": false,
     "input": [
      "product_descriptions.head()"
     ],
     "language": "python",
     "metadata": {},
     "outputs": [
      {
       "html": [
        "<div style=\"max-width:1500px;overflow:auto;\">\n",
        "<table border=\"1\" class=\"dataframe\">\n",
        "  <thead>\n",
        "    <tr style=\"text-align: right;\">\n",
        "      <th></th>\n",
        "      <th>product_uid</th>\n",
        "      <th>product_description</th>\n",
        "    </tr>\n",
        "  </thead>\n",
        "  <tbody>\n",
        "    <tr>\n",
        "      <th>0</th>\n",
        "      <td>100001</td>\n",
        "      <td>Not only do angles make joints stronger, they ...</td>\n",
        "    </tr>\n",
        "    <tr>\n",
        "      <th>1</th>\n",
        "      <td>100002</td>\n",
        "      <td>BEHR Premium Textured DECKOVER is an innovativ...</td>\n",
        "    </tr>\n",
        "    <tr>\n",
        "      <th>2</th>\n",
        "      <td>100003</td>\n",
        "      <td>Classic architecture meets contemporary design...</td>\n",
        "    </tr>\n",
        "    <tr>\n",
        "      <th>3</th>\n",
        "      <td>100004</td>\n",
        "      <td>The Grape Solar 265-Watt Polycrystalline PV So...</td>\n",
        "    </tr>\n",
        "    <tr>\n",
        "      <th>4</th>\n",
        "      <td>100005</td>\n",
        "      <td>Update your bathroom with the Delta Vero Singl...</td>\n",
        "    </tr>\n",
        "  </tbody>\n",
        "</table>\n",
        "</div>"
       ],
       "metadata": {},
       "output_type": "pyout",
       "prompt_number": 4,
       "text": [
        "   product_uid                                product_description\n",
        "0       100001  Not only do angles make joints stronger, they ...\n",
        "1       100002  BEHR Premium Textured DECKOVER is an innovativ...\n",
        "2       100003  Classic architecture meets contemporary design...\n",
        "3       100004  The Grape Solar 265-Watt Polycrystalline PV So...\n",
        "4       100005  Update your bathroom with the Delta Vero Singl..."
       ]
      }
     ],
     "prompt_number": 4
    },
    {
     "cell_type": "code",
     "collapsed": false,
     "input": [
      "attributes.head()"
     ],
     "language": "python",
     "metadata": {},
     "outputs": [
      {
       "html": [
        "<div style=\"max-width:1500px;overflow:auto;\">\n",
        "<table border=\"1\" class=\"dataframe\">\n",
        "  <thead>\n",
        "    <tr style=\"text-align: right;\">\n",
        "      <th></th>\n",
        "      <th>product_uid</th>\n",
        "      <th>name</th>\n",
        "      <th>value</th>\n",
        "    </tr>\n",
        "  </thead>\n",
        "  <tbody>\n",
        "    <tr>\n",
        "      <th>0</th>\n",
        "      <td>100001</td>\n",
        "      <td>Bullet01</td>\n",
        "      <td>Versatile connector for various 90\u00b0 connection...</td>\n",
        "    </tr>\n",
        "    <tr>\n",
        "      <th>1</th>\n",
        "      <td>100001</td>\n",
        "      <td>Bullet02</td>\n",
        "      <td>Stronger than angled nailing or screw fastenin...</td>\n",
        "    </tr>\n",
        "    <tr>\n",
        "      <th>2</th>\n",
        "      <td>100001</td>\n",
        "      <td>Bullet03</td>\n",
        "      <td>Help ensure joints are consistently straight a...</td>\n",
        "    </tr>\n",
        "    <tr>\n",
        "      <th>3</th>\n",
        "      <td>100001</td>\n",
        "      <td>Bullet04</td>\n",
        "      <td>Dimensions: 3 in. x 3 in. x 1-1/2 in.</td>\n",
        "    </tr>\n",
        "    <tr>\n",
        "      <th>4</th>\n",
        "      <td>100001</td>\n",
        "      <td>Bullet05</td>\n",
        "      <td>Made from 12-Gauge steel</td>\n",
        "    </tr>\n",
        "  </tbody>\n",
        "</table>\n",
        "</div>"
       ],
       "metadata": {},
       "output_type": "pyout",
       "prompt_number": 5,
       "text": [
        "   product_uid      name                                              value\n",
        "0       100001  Bullet01  Versatile connector for various 90\u00b0 connection...\n",
        "1       100001  Bullet02  Stronger than angled nailing or screw fastenin...\n",
        "2       100001  Bullet03  Help ensure joints are consistently straight a...\n",
        "3       100001  Bullet04              Dimensions: 3 in. x 3 in. x 1-1/2 in.\n",
        "4       100001  Bullet05                           Made from 12-Gauge steel"
       ]
      }
     ],
     "prompt_number": 5
    },
    {
     "cell_type": "code",
     "collapsed": false,
     "input": [
      "product_descriptions.loc[product_descriptions['product_uid'] == 100001]"
     ],
     "language": "python",
     "metadata": {},
     "outputs": [
      {
       "html": [
        "<div style=\"max-width:1500px;overflow:auto;\">\n",
        "<table border=\"1\" class=\"dataframe\">\n",
        "  <thead>\n",
        "    <tr style=\"text-align: right;\">\n",
        "      <th></th>\n",
        "      <th>product_uid</th>\n",
        "      <th>product_description</th>\n",
        "    </tr>\n",
        "  </thead>\n",
        "  <tbody>\n",
        "    <tr>\n",
        "      <th>0</th>\n",
        "      <td>100001</td>\n",
        "      <td>Not only do angles make joints stronger, they ...</td>\n",
        "    </tr>\n",
        "  </tbody>\n",
        "</table>\n",
        "</div>"
       ],
       "metadata": {},
       "output_type": "pyout",
       "prompt_number": 10,
       "text": [
        "   product_uid                                product_description\n",
        "0       100001  Not only do angles make joints stronger, they ..."
       ]
      }
     ],
     "prompt_number": 10
    },
    {
     "cell_type": "code",
     "collapsed": false,
     "input": [],
     "language": "python",
     "metadata": {},
     "outputs": []
    }
   ],
   "metadata": {}
  }
 ]
}