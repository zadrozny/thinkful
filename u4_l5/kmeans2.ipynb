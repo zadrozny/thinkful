{
 "cells": [
  {
   "cell_type": "markdown",
   "metadata": {},
   "source": [
    "* In clustering, I'm confused about whether I should choose one vector, eg, `lifeMale` \n",
    "\n",
    "* My average within-cluster sum of squares is definitely wrong. Not quite sure how to calculate this. Thought it was being output as `cluster.vq.kmeans(lifeMale, _)`\n",
    "\n",
    "* I'm getting entirely different results for `cluster.vq.kmeans(lifeMale, 3)` vs `cluster.vq.kmeans([lifeMale], 3)` --> Note the parentheses. \n",
    "\n",
    "* I also don't understand how to get the color-coding for the three clusters illustrated in the lesson. \n",
    "\n",
    "* Note: This lesson feels short on examples"
   ]
  },
  {
   "cell_type": "markdown",
   "metadata": {},
   "source": [
    "# Unit 4 Lesson 5 Project 3\n",
    "### Estimated time 1 - 2 hours"
   ]
  },
  {
   "cell_type": "code",
   "execution_count": 1,
   "metadata": {
    "collapsed": true
   },
   "outputs": [],
   "source": [
    "from copy import copy\n",
    "import matplotlib.pylab as plt\n",
    "import pandas as pd\n",
    "import numpy as np\n",
    "import scipy"
   ]
  },
  {
   "cell_type": "markdown",
   "metadata": {},
   "source": [
    "## Now we're going to apply K-Means clustering to a data set from the UN on economic and demographic data for different countries. We'll also use some well-known techniques to find the right K to use."
   ]
  },
  {
   "cell_type": "markdown",
   "metadata": {},
   "source": [
    "* Load the UN countries data set."
   ]
  },
  {
   "cell_type": "code",
   "execution_count": 2,
   "metadata": {
    "collapsed": false
   },
   "outputs": [],
   "source": [
    "un = pd.read_csv('un.csv')"
   ]
  },
  {
   "cell_type": "code",
   "execution_count": 3,
   "metadata": {
    "collapsed": false
   },
   "outputs": [
    {
     "data": {
      "text/html": [
       "<div>\n",
       "<table border=\"1\" class=\"dataframe\">\n",
       "  <thead>\n",
       "    <tr style=\"text-align: right;\">\n",
       "      <th></th>\n",
       "      <th>country</th>\n",
       "      <th>region</th>\n",
       "      <th>tfr</th>\n",
       "      <th>contraception</th>\n",
       "      <th>educationMale</th>\n",
       "      <th>educationFemale</th>\n",
       "      <th>lifeMale</th>\n",
       "      <th>lifeFemale</th>\n",
       "      <th>infantMortality</th>\n",
       "      <th>GDPperCapita</th>\n",
       "      <th>economicActivityMale</th>\n",
       "      <th>economicActivityFemale</th>\n",
       "      <th>illiteracyMale</th>\n",
       "      <th>illiteracyFemale</th>\n",
       "    </tr>\n",
       "  </thead>\n",
       "  <tbody>\n",
       "    <tr>\n",
       "      <th>0</th>\n",
       "      <td>Afghanistan</td>\n",
       "      <td>Asia</td>\n",
       "      <td>6.90</td>\n",
       "      <td>NaN</td>\n",
       "      <td>NaN</td>\n",
       "      <td>NaN</td>\n",
       "      <td>45.0</td>\n",
       "      <td>46.0</td>\n",
       "      <td>154</td>\n",
       "      <td>2848</td>\n",
       "      <td>87.5</td>\n",
       "      <td>7.2</td>\n",
       "      <td>52.800</td>\n",
       "      <td>85.00</td>\n",
       "    </tr>\n",
       "    <tr>\n",
       "      <th>1</th>\n",
       "      <td>Albania</td>\n",
       "      <td>Europe</td>\n",
       "      <td>2.60</td>\n",
       "      <td>NaN</td>\n",
       "      <td>NaN</td>\n",
       "      <td>NaN</td>\n",
       "      <td>68.0</td>\n",
       "      <td>74.0</td>\n",
       "      <td>32</td>\n",
       "      <td>863</td>\n",
       "      <td>NaN</td>\n",
       "      <td>NaN</td>\n",
       "      <td>NaN</td>\n",
       "      <td>NaN</td>\n",
       "    </tr>\n",
       "    <tr>\n",
       "      <th>2</th>\n",
       "      <td>Algeria</td>\n",
       "      <td>Africa</td>\n",
       "      <td>3.81</td>\n",
       "      <td>52</td>\n",
       "      <td>11.1</td>\n",
       "      <td>9.9</td>\n",
       "      <td>67.5</td>\n",
       "      <td>70.3</td>\n",
       "      <td>44</td>\n",
       "      <td>1531</td>\n",
       "      <td>76.4</td>\n",
       "      <td>7.8</td>\n",
       "      <td>26.100</td>\n",
       "      <td>51.00</td>\n",
       "    </tr>\n",
       "    <tr>\n",
       "      <th>3</th>\n",
       "      <td>American.Samoa</td>\n",
       "      <td>Asia</td>\n",
       "      <td>NaN</td>\n",
       "      <td>NaN</td>\n",
       "      <td>NaN</td>\n",
       "      <td>NaN</td>\n",
       "      <td>68.0</td>\n",
       "      <td>73.0</td>\n",
       "      <td>11</td>\n",
       "      <td>NaN</td>\n",
       "      <td>58.8</td>\n",
       "      <td>42.4</td>\n",
       "      <td>0.264</td>\n",
       "      <td>0.36</td>\n",
       "    </tr>\n",
       "    <tr>\n",
       "      <th>4</th>\n",
       "      <td>Andorra</td>\n",
       "      <td>Europe</td>\n",
       "      <td>NaN</td>\n",
       "      <td>NaN</td>\n",
       "      <td>NaN</td>\n",
       "      <td>NaN</td>\n",
       "      <td>NaN</td>\n",
       "      <td>NaN</td>\n",
       "      <td>NaN</td>\n",
       "      <td>NaN</td>\n",
       "      <td>NaN</td>\n",
       "      <td>NaN</td>\n",
       "      <td>NaN</td>\n",
       "      <td>NaN</td>\n",
       "    </tr>\n",
       "  </tbody>\n",
       "</table>\n",
       "</div>"
      ],
      "text/plain": [
       "          country  region   tfr  contraception  educationMale  \\\n",
       "0     Afghanistan    Asia  6.90            NaN            NaN   \n",
       "1         Albania  Europe  2.60            NaN            NaN   \n",
       "2         Algeria  Africa  3.81             52           11.1   \n",
       "3  American.Samoa    Asia   NaN            NaN            NaN   \n",
       "4         Andorra  Europe   NaN            NaN            NaN   \n",
       "\n",
       "   educationFemale  lifeMale  lifeFemale  infantMortality  GDPperCapita  \\\n",
       "0              NaN      45.0        46.0              154          2848   \n",
       "1              NaN      68.0        74.0               32           863   \n",
       "2              9.9      67.5        70.3               44          1531   \n",
       "3              NaN      68.0        73.0               11           NaN   \n",
       "4              NaN       NaN         NaN              NaN           NaN   \n",
       "\n",
       "   economicActivityMale  economicActivityFemale  illiteracyMale  \\\n",
       "0                  87.5                     7.2          52.800   \n",
       "1                   NaN                     NaN             NaN   \n",
       "2                  76.4                     7.8          26.100   \n",
       "3                  58.8                    42.4           0.264   \n",
       "4                   NaN                     NaN             NaN   \n",
       "\n",
       "   illiteracyFemale  \n",
       "0             85.00  \n",
       "1               NaN  \n",
       "2             51.00  \n",
       "3              0.36  \n",
       "4               NaN  "
      ]
     },
     "execution_count": 3,
     "metadata": {},
     "output_type": "execute_result"
    }
   ],
   "source": [
    "un.head()"
   ]
  },
  {
   "cell_type": "markdown",
   "metadata": {},
   "source": [
    "* Determine how many rows are in the dataset."
   ]
  },
  {
   "cell_type": "code",
   "execution_count": 76,
   "metadata": {
    "collapsed": false
   },
   "outputs": [
    {
     "name": "stdout",
     "output_type": "stream",
     "text": [
      "207\n"
     ]
    }
   ],
   "source": [
    "print(len(un))"
   ]
  },
  {
   "cell_type": "markdown",
   "metadata": {},
   "source": [
    "* Determine the number of non-null values present in each column."
   ]
  },
  {
   "cell_type": "code",
   "execution_count": 74,
   "metadata": {
    "collapsed": false
   },
   "outputs": [
    {
     "name": "stdout",
     "output_type": "stream",
     "text": [
      "[('country', 207), ('region', 207), ('infantMortality', 201), ('tfr', 197), ('GDPperCapita', 197), ('lifeMale', 196), ('lifeFemale', 196), ('economicActivityMale', 165), ('economicActivityFemale', 165), ('illiteracyMale', 160), ('illiteracyFemale', 160), ('contraception', 144), ('educationMale', 76), ('educationFemale', 76)]\n"
     ]
    }
   ],
   "source": [
    "print(sorted([(col, len(copy(un[col]).dropna())) for col in un], key=lambda x: x[1], reverse=True))"
   ]
  },
  {
   "cell_type": "markdown",
   "metadata": {},
   "source": [
    "* Based on the number of non-null values, which columns do you think will be the best to try to cluster on?"
   ]
  },
  {
   "cell_type": "markdown",
   "metadata": {},
   "source": [
    "Those with more values / fewer missing values. See above. "
   ]
  },
  {
   "cell_type": "markdown",
   "metadata": {},
   "source": [
    "* Determine the data type of each column."
   ]
  },
  {
   "cell_type": "code",
   "execution_count": 81,
   "metadata": {
    "collapsed": false
   },
   "outputs": [
    {
     "name": "stdout",
     "output_type": "stream",
     "text": [
      "[\"'str'\", \"'str'\", \"'numpy.float64'\", \"'numpy.float64'\", \"'numpy.float64'\", \"'numpy.float64'\", \"'numpy.float64'\", \"'numpy.float64'\", \"'numpy.float64'\", \"'numpy.float64'\", \"'numpy.float64'\", \"'numpy.float64'\", \"'numpy.float64'\", \"'numpy.float64'\"]\n"
     ]
    }
   ],
   "source": [
    "print([str(type(_)).split()[1][:-1] for _ in un.ix[0]])"
   ]
  },
  {
   "cell_type": "markdown",
   "metadata": {},
   "source": [
    "* How many countries are present in the dataset?"
   ]
  },
  {
   "cell_type": "markdown",
   "metadata": {},
   "source": [
    "207 (see above)"
   ]
  },
  {
   "cell_type": "markdown",
   "metadata": {},
   "source": [
    "* We're going to see how `lifeMale`, `lifeFemale` and `infantMortality` cluster according to GDPperCapita, keeping in mind that we don't know in advance how many clusters there will be."
   ]
  },
  {
   "cell_type": "markdown",
   "metadata": {},
   "source": [
    "## Before we cluster the dataset, we need to determine the ideal number of clusters. For this, we need numpy and scipy."
   ]
  },
  {
   "cell_type": "markdown",
   "metadata": {},
   "source": [
    "* We're going to explore 1 to 10 clusters. Define a range K from 1 to 10."
   ]
  },
  {
   "cell_type": "code",
   "execution_count": 82,
   "metadata": {
    "collapsed": false
   },
   "outputs": [],
   "source": [
    "K = range(1, 11)"
   ]
  },
  {
   "cell_type": "markdown",
   "metadata": {},
   "source": [
    "* Apply `scipy.cluster.vq.kmeans` 1 to 10 and determine the cluster centroids."
   ]
  },
  {
   "cell_type": "code",
   "execution_count": 83,
   "metadata": {
    "collapsed": false
   },
   "outputs": [],
   "source": [
    "from scipy import cluster"
   ]
  },
  {
   "cell_type": "code",
   "execution_count": 10,
   "metadata": {
    "collapsed": false
   },
   "outputs": [],
   "source": [
    "lifeMale = np.array(un[\"lifeMale\"].dropna())"
   ]
  },
  {
   "cell_type": "code",
   "execution_count": 85,
   "metadata": {
    "collapsed": false
   },
   "outputs": [
    {
     "name": "stdout",
     "output_type": "stream",
     "text": [
      "(array([[ 45. ,  68. ,  67.5,  44.9,  69.6,  67.2,  75.4,  73.7,  66.5,\n",
      "         70.5,  71.1,  58.1,  73.6,  64.4,  73.9,  73.4,  52.4,  51.6,\n",
      "         59.8,  70.5,  48.9,  63.4,  73.4,  67.8,  45.1,  45.5,  52.6,\n",
      "         54.5,  76.1,  65.5,  46.4,  46.3,  72.3,  68.2,  68.2,  57. ,\n",
      "         48.6,  67. ,  74.5,  68.1,  74.2,  75.4,  69.8,  51.3,  73. ,\n",
      "         48.7,  68.9,  67.3,  64.7,  66.5,  48.4,  49.1,  63.9,  48.4,\n",
      "         70.6,  73. ,  74.6,  69.8,  53.8,  45.4,  68.5,  73.4,  56.2,\n",
      "         75.5,  72.1,  64.7,  46. ,  42.4,  61.1,  52.8,  67.5,  76.1,\n",
      "         64.5,  77.4,  62.1,  63.3,  68.5,  60.9,  74. ,  75.7,  75.1,\n",
      "         50. ,  72.4,  76.9,  67.7,  62.8,  52.3,  58. ,  68.9,  68.8,\n",
      "         74.1,  63.4,  52. ,  62.5,  68.1,  57.3,  50. ,  63.9,  66.1,\n",
      "         64.9,  73.1,  70.3,  57. ,  40.3,  69.9,  65.7,  46.4,  74.6,\n",
      "         59.1,  73.7,  51.9,  68.3,  69.5,  64.4,  63.5,  64.3,  64.8,\n",
      "         45.5,  58.5,  54.7,  57.6,  75. ,  73.4,  70.9,  74.7,  65.8,\n",
      "         46.9,  50.8,  74.8,  68.9,  62.9,  65. ,  71.8,  57.2,  67.5,\n",
      "         65.9,  66.6,  66.7,  71.8,  72.5,  70. ,  70.9,  66. ,  58. ,\n",
      "         40.8,  67.4,  68. ,  67.5,  73.2,  69.9,  50.3,  65.3,  36. ,\n",
      "         75.1,  67. ,  69.2,  69.6,  47.4,  62.3,  74.5,  70.9,  53.6,\n",
      "         69. ,  57.7,  76.2,  75.3,  66.7,  64.2,  50. ,  66.3,  48.8,\n",
      "         67. ,  71.5,  68.4,  66.5,  61.2,  40.4,  63.6,  73.9,  74.5,\n",
      "         73.4,  69.6,  64.3,  65.5,  70. ,  64.9,  57.4,  69.8,  42.2,\n",
      "         47.6]]), 1.52587890625e-05)\n"
     ]
    }
   ],
   "source": [
    "for _ in K:\n",
    "    print(cluster.vq.kmeans(lifeMale, _))\n",
    "    break"
   ]
  },
  {
   "cell_type": "markdown",
   "metadata": {},
   "source": [
    "* Calculate the distance between each point and each cluster centroid."
   ]
  },
  {
   "cell_type": "markdown",
   "metadata": {},
   "source": [
    "* Determine the closest centroid for each point."
   ]
  },
  {
   "cell_type": "markdown",
   "metadata": {},
   "source": [
    "* Calculate the average within-cluster sum of squares for each centroid."
   ]
  },
  {
   "cell_type": "markdown",
   "metadata": {},
   "source": [
    "## When we cluster, we are effectively trying to minimize the Euclidean distance between a cluster centroid and the points in that cluster. Practically, we define our clusters based on what will minimize what's called the within-cluster sum of squares (WCSS) (since sum of squares is the squared Euclidean distance)."
   ]
  },
  {
   "cell_type": "markdown",
   "metadata": {},
   "source": [
    "* Plot the number of clusters against the average within-cluster sum of squares. At what number of clusters does the curve seem to \"level out\"?"
   ]
  },
  {
   "cell_type": "markdown",
   "metadata": {},
   "source": [
    "Note: I don't know whether I should do this for one vector / feature or for more. When I do it for more (see below), I get nothing like the graph I'm getting for `lifeMale` alone."
   ]
  },
  {
   "cell_type": "code",
   "execution_count": 88,
   "metadata": {
    "collapsed": true
   },
   "outputs": [],
   "source": [
    "lifeMale = un['lifeMale'].dropna()"
   ]
  },
  {
   "cell_type": "code",
   "execution_count": 89,
   "metadata": {
    "collapsed": false
   },
   "outputs": [
    {
     "data": {
      "image/png": "[encoded data removed]",
      "text/plain": [
       "<matplotlib.figure.Figure at 0x7f4b6b9be160>"
      ]
     },
     "metadata": {},
     "output_type": "display_data"
    }
   ],
   "source": [
    "%matplotlib inline\n",
    "plt.plot(range(1, 11), [cluster.vq.kmeans(lifeMale, _)[-1] for _ in r])\n",
    "plt.ylabel('Average within-cluster some of squares')\n",
    "plt.xlabel('Number of clusters')\n",
    "plt.show()"
   ]
  },
  {
   "cell_type": "code",
   "execution_count": 90,
   "metadata": {
    "collapsed": true
   },
   "outputs": [],
   "source": [
    "un_clean = un.dropna()"
   ]
  },
  {
   "cell_type": "code",
   "execution_count": 97,
   "metadata": {
    "collapsed": false
   },
   "outputs": [
    {
     "data": {
      "image/png": "[encoded data removed]",
      "text/plain": [
       "<matplotlib.figure.Figure at 0x7f4b6ba877b8>"
      ]
     },
     "metadata": {},
     "output_type": "display_data"
    }
   ],
   "source": [
    "%matplotlib inline\n",
    "\n",
    "plt.plot(range(1, 11), [cluster.vq.kmeans([un_clean['lifeMale'], un_clean['lifeFemale']], _)[-1] for _ in r])\n",
    "plt.ylabel('Average within-cluster some of squares')\n",
    "plt.xlabel('Number of clusters')\n",
    "plt.show()"
   ]
  },
  {
   "cell_type": "markdown",
   "metadata": {},
   "source": [
    "## Now we're going to the cluster the dataset. From the elbow plot we see that the largest drops in average within-cluster sum of squares occur from 1 to 2 and from 2 to 3 clusters. After that the drops are much smaller and decreasing. We pick 3 as the best number of clusters for this dataset."
   ]
  },
  {
   "cell_type": "markdown",
   "metadata": {},
   "source": [
    "* Cluster the UN dataset using k-means clustering with 3 clusters."
   ]
  },
  {
   "cell_type": "code",
   "execution_count": 73,
   "metadata": {
    "collapsed": false
   },
   "outputs": [
    {
     "data": {
      "text/plain": [
       "Index(['country', 'region', 'tfr', 'contraception', 'educationMale',\n",
       "       'educationFemale', 'lifeMale', 'lifeFemale', 'infantMortality',\n",
       "       'GDPperCapita', 'economicActivityMale', 'economicActivityFemale',\n",
       "       'illiteracyMale', 'illiteracyFemale'],\n",
       "      dtype='object')"
      ]
     },
     "execution_count": 73,
     "metadata": {},
     "output_type": "execute_result"
    }
   ],
   "source": [
    "un.columns"
   ]
  },
  {
   "cell_type": "code",
   "execution_count": 71,
   "metadata": {
    "collapsed": true
   },
   "outputs": [],
   "source": [
    "un_temp = un[['GDPperCapita', 'lifeMale']].dropna()\n",
    "gdp = cluster.vq.kmeans([un_temp['GDPperCapita']], 3)[0]\n",
    "lifeMale = cluster.vq.kmeans([un_temp['lifeMale']], 3)[0]\n",
    "\n"
   ]
  },
  {
   "cell_type": "markdown",
   "metadata": {},
   "source": [
    "* Plot the results. What patterns stand out to you? What conclusions can you draw?"
   ]
  },
  {
   "cell_type": "code",
   "execution_count": 72,
   "metadata": {
    "collapsed": false
   },
   "outputs": [
    {
     "data": {
      "image/png": "[encoded data removed]",
      "text/plain": [
       "<matplotlib.figure.Figure at 0x7f4b6ba4e208>"
      ]
     },
     "metadata": {},
     "output_type": "display_data"
    }
   ],
   "source": [
    "%matplotlib inline\n",
    "\n",
    "plt.scatter(gdp, lifeMale)\n",
    "\n",
    "plt.xlabel('Per Capita GDP in USD')\n",
    "plt.ylabel('Male life expectancy')\n",
    "plt.show()"
   ]
  },
  {
   "cell_type": "markdown",
   "metadata": {},
   "source": [
    "I've not produced the other graphs becuase I doubt I'm doing this right. "
   ]
  },
  {
   "cell_type": "markdown",
   "metadata": {},
   "source": [
    "[Insert graph: Infant Mortality vs Per Capita GDP]"
   ]
  },
  {
   "cell_type": "markdown",
   "metadata": {},
   "source": [
    "[Insert graph: Female Life Expectancy vs Per Capita GDP]"
   ]
  },
  {
   "cell_type": "code",
   "execution_count": null,
   "metadata": {
    "collapsed": true
   },
   "outputs": [],
   "source": []
  }
 ],
 "metadata": {
  "kernelspec": {
   "display_name": "Python 3",
   "language": "python",
   "name": "python3"
  },
  "language_info": {
   "codemirror_mode": {
    "name": "ipython",
    "version": 3
   },
   "file_extension": ".py",
   "mimetype": "text/x-python",
   "name": "python",
   "nbconvert_exporter": "python",
   "pygments_lexer": "ipython3",
   "version": "3.5.1"
  }
 },
 "nbformat": 4,
 "nbformat_minor": 0
}
