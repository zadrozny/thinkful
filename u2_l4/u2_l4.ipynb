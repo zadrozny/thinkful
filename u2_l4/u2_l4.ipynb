{
 "cells": [
  {
   "cell_type": "markdown",
   "metadata": {},
   "source": [
    "# Unit 2 Lesson 4: Logistic Regression\n",
    "\n",
    "### Estimated time: 2 - 3 hours\n",
    "\n",
    "As you learned in the previous lesson, **linear regression** assumes a continuous response from a continuous input, but often variables aren't continuous numbers but exist in categories. **Logistic regression** takes the same basic idea that one variable can influence another and applies it to the class of variables that exist as discrete values like \"yes\" or \"no\", \"overweight\" or \"underweight\", etc.\n",
    "\n",
    "In the following lesson, you're going to learn the fundamentals of logistic regression, how to build a logistic regression model in Python and how to analyze the model output.\n",
    "\n",
    "## Goals\n",
    "\n",
    "* Learn the fundamentals of logistic regression models.\n",
    "* Build and analyze a logistic regression model in Python.\n"
   ]
  },
  {
   "cell_type": "markdown",
   "metadata": {},
   "source": [
    "# Unit 2 Lesson 4 Assignment 1: Logistic Regression Overview\n",
    "\n",
    "#### Estimated time: 30 minutes\n",
    "\n",
    "As with linear regression, logistic regression models the relationship between dependent and independent variables. This time we are concerned with categorical variables (e.g. yes or no, heads or tails), and logistic regression helps us predict the likelihood of events occurring. Essentially, we want to know what the odds are that we'll win instead of lose. In order to understand the odds that logistic regression deals with, you should know about odds ratios.\n",
    "\n",
    "**Odds ratios** tell us the probability of one thing happening as it compares to the probability of another thing happening. If someone tells you that the odds of winning are 1:4, that means there is 1 part chance of winning and 4 parts chance of losing. That means there's 5 parts total, and that the probability of winning is 1/5 = 0.2 = 20%. The probability of losing is 4/5 = 0.8 = 80%. (Remember that if the probability of winning is p, then the probability of losing is 1-p.) Depending on the ratio of the probability of winning to the probability of losing, we have more or less confidence in the outcome.\n",
    "\n",
    "Odds ratios should be familiar if you know about sports betting odds or a little about casinos. For more information on this watch the video on odd ratios and risk ratios [https://www.youtube.com/watch?v=hOtoV2Kjb0o] at and read this tutorial about odds and exponents [http://www.restore.ac.uk/srme/www/fac/soc/wie/research-new/srme/modules/mod4/2/].\n",
    "\n",
    "# Unit 2 Lesson 4 Assignment 2: Data Cleaning\n",
    "\n",
    "We're going to be using the same data that we used in the previous two lessons here. You can use the cleaned-up data provided in the first lesson, or the data you cleaned up yourself. If you want to use the data you cleaned yourself, simply add the following line to your 'linear_regression.py' script:\n",
    "\n",
    "`loansData.to_csv('loansData_clean.csv', header=True, index=False)`\n",
    "\n",
    "We only need to do a few more things to the data to get it ready for logistic regression.\n",
    "\n",
    "* Create a new file called 'logistic_regression.py'. For this lesson, we're going to need `pandas` and `statsmodels`.\n",
    "* Load the data.\n"
   ]
  },
  {
   "cell_type": "code",
   "execution_count": 42,
   "metadata": {
    "collapsed": false
   },
   "outputs": [],
   "source": [
    "import pandas as pd\n",
    "import statsmodels as sm\n",
    "df = pd.read_csv(\"../u2_l3/loansData_clean.csv\")"
   ]
  },
  {
   "cell_type": "code",
   "execution_count": 5,
   "metadata": {
    "collapsed": false
   },
   "outputs": [
    {
     "data": {
      "text/html": [
       "<div>\n",
       "<table border=\"1\" class=\"dataframe\">\n",
       "  <thead>\n",
       "    <tr style=\"text-align: right;\">\n",
       "      <th></th>\n",
       "      <th>Amount.Requested</th>\n",
       "      <th>Amount.Funded.By.Investors</th>\n",
       "      <th>Interest.Rate</th>\n",
       "      <th>Loan.Length</th>\n",
       "      <th>Loan.Purpose</th>\n",
       "      <th>Debt.To.Income.Ratio</th>\n",
       "      <th>State</th>\n",
       "      <th>Home.Ownership</th>\n",
       "      <th>Monthly.Income</th>\n",
       "      <th>FICO.Range</th>\n",
       "      <th>Open.CREDIT.Lines</th>\n",
       "      <th>Revolving.CREDIT.Balance</th>\n",
       "      <th>Inquiries.in.the.Last.6.Months</th>\n",
       "      <th>Employment.Length</th>\n",
       "      <th>FICO.Score</th>\n",
       "    </tr>\n",
       "  </thead>\n",
       "  <tbody>\n",
       "    <tr>\n",
       "      <th>0</th>\n",
       "      <td>20000</td>\n",
       "      <td>20000</td>\n",
       "      <td>8.90%</td>\n",
       "      <td>36 months</td>\n",
       "      <td>debt_consolidation</td>\n",
       "      <td>14.90%</td>\n",
       "      <td>SC</td>\n",
       "      <td>MORTGAGE</td>\n",
       "      <td>6541.67</td>\n",
       "      <td>735-739</td>\n",
       "      <td>14</td>\n",
       "      <td>14272</td>\n",
       "      <td>2</td>\n",
       "      <td>&lt; 1 year</td>\n",
       "      <td>735</td>\n",
       "    </tr>\n",
       "    <tr>\n",
       "      <th>1</th>\n",
       "      <td>19200</td>\n",
       "      <td>19200</td>\n",
       "      <td>12.12%</td>\n",
       "      <td>36 months</td>\n",
       "      <td>debt_consolidation</td>\n",
       "      <td>28.36%</td>\n",
       "      <td>TX</td>\n",
       "      <td>MORTGAGE</td>\n",
       "      <td>4583.33</td>\n",
       "      <td>715-719</td>\n",
       "      <td>12</td>\n",
       "      <td>11140</td>\n",
       "      <td>1</td>\n",
       "      <td>2 years</td>\n",
       "      <td>715</td>\n",
       "    </tr>\n",
       "    <tr>\n",
       "      <th>2</th>\n",
       "      <td>35000</td>\n",
       "      <td>35000</td>\n",
       "      <td>21.98%</td>\n",
       "      <td>60 months</td>\n",
       "      <td>debt_consolidation</td>\n",
       "      <td>23.81%</td>\n",
       "      <td>CA</td>\n",
       "      <td>MORTGAGE</td>\n",
       "      <td>11500.00</td>\n",
       "      <td>690-694</td>\n",
       "      <td>14</td>\n",
       "      <td>21977</td>\n",
       "      <td>1</td>\n",
       "      <td>2 years</td>\n",
       "      <td>690</td>\n",
       "    </tr>\n",
       "    <tr>\n",
       "      <th>3</th>\n",
       "      <td>10000</td>\n",
       "      <td>9975</td>\n",
       "      <td>9.99%</td>\n",
       "      <td>36 months</td>\n",
       "      <td>debt_consolidation</td>\n",
       "      <td>14.30%</td>\n",
       "      <td>KS</td>\n",
       "      <td>MORTGAGE</td>\n",
       "      <td>3833.33</td>\n",
       "      <td>695-699</td>\n",
       "      <td>10</td>\n",
       "      <td>9346</td>\n",
       "      <td>0</td>\n",
       "      <td>5 years</td>\n",
       "      <td>695</td>\n",
       "    </tr>\n",
       "    <tr>\n",
       "      <th>4</th>\n",
       "      <td>12000</td>\n",
       "      <td>12000</td>\n",
       "      <td>11.71%</td>\n",
       "      <td>36 months</td>\n",
       "      <td>credit_card</td>\n",
       "      <td>18.78%</td>\n",
       "      <td>NJ</td>\n",
       "      <td>RENT</td>\n",
       "      <td>3195.00</td>\n",
       "      <td>695-699</td>\n",
       "      <td>11</td>\n",
       "      <td>14469</td>\n",
       "      <td>0</td>\n",
       "      <td>9 years</td>\n",
       "      <td>695</td>\n",
       "    </tr>\n",
       "  </tbody>\n",
       "</table>\n",
       "</div>"
      ],
      "text/plain": [
       "   Amount.Requested  Amount.Funded.By.Investors Interest.Rate Loan.Length  \\\n",
       "0             20000                       20000         8.90%   36 months   \n",
       "1             19200                       19200        12.12%   36 months   \n",
       "2             35000                       35000        21.98%   60 months   \n",
       "3             10000                        9975         9.99%   36 months   \n",
       "4             12000                       12000        11.71%   36 months   \n",
       "\n",
       "         Loan.Purpose Debt.To.Income.Ratio State Home.Ownership  \\\n",
       "0  debt_consolidation               14.90%    SC       MORTGAGE   \n",
       "1  debt_consolidation               28.36%    TX       MORTGAGE   \n",
       "2  debt_consolidation               23.81%    CA       MORTGAGE   \n",
       "3  debt_consolidation               14.30%    KS       MORTGAGE   \n",
       "4         credit_card               18.78%    NJ           RENT   \n",
       "\n",
       "   Monthly.Income FICO.Range  Open.CREDIT.Lines  Revolving.CREDIT.Balance  \\\n",
       "0         6541.67    735-739                 14                     14272   \n",
       "1         4583.33    715-719                 12                     11140   \n",
       "2        11500.00    690-694                 14                     21977   \n",
       "3         3833.33    695-699                 10                      9346   \n",
       "4         3195.00    695-699                 11                     14469   \n",
       "\n",
       "   Inquiries.in.the.Last.6.Months Employment.Length  FICO.Score  \n",
       "0                               2          < 1 year         735  \n",
       "1                               1           2 years         715  \n",
       "2                               1           2 years         690  \n",
       "3                               0           5 years         695  \n",
       "4                               0           9 years         695  "
      ]
     },
     "execution_count": 5,
     "metadata": {},
     "output_type": "execute_result"
    }
   ],
   "source": [
    "df.head()"
   ]
  },
  {
   "cell_type": "markdown",
   "metadata": {},
   "source": [
    "* Add a column to your dataframe indicating whether the interest rate is < 12%. This would be a derived column that you create from the interest rate column. You name it IR_TF. It would contain binary values, i.e.'0' when interest rate < 12% or '1' when interest rate is >= 12%"
   ]
  },
  {
   "cell_type": "code",
   "execution_count": 48,
   "metadata": {
    "collapsed": false
   },
   "outputs": [],
   "source": [
    "df[\"IR_TF\"] = pd.Series([1 if float(rate[:-1]) >= 12 else 0 for rate in df[\"Interest.Rate\"]])"
   ]
  },
  {
   "cell_type": "markdown",
   "metadata": {},
   "source": [
    "* Do some spot checks to make sure that it worked."
   ]
  },
  {
   "cell_type": "code",
   "execution_count": 50,
   "metadata": {
    "collapsed": false
   },
   "outputs": [
    {
     "data": {
      "text/html": [
       "<div>\n",
       "<table border=\"1\" class=\"dataframe\">\n",
       "  <thead>\n",
       "    <tr style=\"text-align: right;\">\n",
       "      <th></th>\n",
       "      <th>Amount.Requested</th>\n",
       "      <th>Amount.Funded.By.Investors</th>\n",
       "      <th>Interest.Rate</th>\n",
       "      <th>Loan.Length</th>\n",
       "      <th>Loan.Purpose</th>\n",
       "      <th>Debt.To.Income.Ratio</th>\n",
       "      <th>State</th>\n",
       "      <th>Home.Ownership</th>\n",
       "      <th>Monthly.Income</th>\n",
       "      <th>FICO.Range</th>\n",
       "      <th>Open.CREDIT.Lines</th>\n",
       "      <th>Revolving.CREDIT.Balance</th>\n",
       "      <th>Inquiries.in.the.Last.6.Months</th>\n",
       "      <th>Employment.Length</th>\n",
       "      <th>FICO.Score</th>\n",
       "      <th>IR_TF</th>\n",
       "    </tr>\n",
       "  </thead>\n",
       "  <tbody>\n",
       "    <tr>\n",
       "      <th>1</th>\n",
       "      <td>19200</td>\n",
       "      <td>19200</td>\n",
       "      <td>12.12%</td>\n",
       "      <td>36 months</td>\n",
       "      <td>debt_consolidation</td>\n",
       "      <td>28.36%</td>\n",
       "      <td>TX</td>\n",
       "      <td>MORTGAGE</td>\n",
       "      <td>4583.33</td>\n",
       "      <td>715-719</td>\n",
       "      <td>12</td>\n",
       "      <td>11140</td>\n",
       "      <td>1</td>\n",
       "      <td>2 years</td>\n",
       "      <td>715</td>\n",
       "      <td>1</td>\n",
       "    </tr>\n",
       "    <tr>\n",
       "      <th>16</th>\n",
       "      <td>10000</td>\n",
       "      <td>10000</td>\n",
       "      <td>12.12%</td>\n",
       "      <td>36 months</td>\n",
       "      <td>debt_consolidation</td>\n",
       "      <td>17.72%</td>\n",
       "      <td>CA</td>\n",
       "      <td>RENT</td>\n",
       "      <td>9000.00</td>\n",
       "      <td>695-699</td>\n",
       "      <td>18</td>\n",
       "      <td>20317</td>\n",
       "      <td>0</td>\n",
       "      <td>7 years</td>\n",
       "      <td>695</td>\n",
       "      <td>1</td>\n",
       "    </tr>\n",
       "    <tr>\n",
       "      <th>31</th>\n",
       "      <td>14000</td>\n",
       "      <td>14000</td>\n",
       "      <td>12.12%</td>\n",
       "      <td>36 months</td>\n",
       "      <td>debt_consolidation</td>\n",
       "      <td>14.93%</td>\n",
       "      <td>CA</td>\n",
       "      <td>MORTGAGE</td>\n",
       "      <td>10583.33</td>\n",
       "      <td>685-689</td>\n",
       "      <td>9</td>\n",
       "      <td>35457</td>\n",
       "      <td>0</td>\n",
       "      <td>2 years</td>\n",
       "      <td>685</td>\n",
       "      <td>1</td>\n",
       "    </tr>\n",
       "    <tr>\n",
       "      <th>49</th>\n",
       "      <td>14000</td>\n",
       "      <td>14000</td>\n",
       "      <td>12.12%</td>\n",
       "      <td>36 months</td>\n",
       "      <td>debt_consolidation</td>\n",
       "      <td>11.38%</td>\n",
       "      <td>NY</td>\n",
       "      <td>MORTGAGE</td>\n",
       "      <td>4500.00</td>\n",
       "      <td>705-709</td>\n",
       "      <td>22</td>\n",
       "      <td>18583</td>\n",
       "      <td>0</td>\n",
       "      <td>5 years</td>\n",
       "      <td>705</td>\n",
       "      <td>1</td>\n",
       "    </tr>\n",
       "    <tr>\n",
       "      <th>83</th>\n",
       "      <td>12000</td>\n",
       "      <td>12000</td>\n",
       "      <td>12.12%</td>\n",
       "      <td>36 months</td>\n",
       "      <td>debt_consolidation</td>\n",
       "      <td>18.62%</td>\n",
       "      <td>VA</td>\n",
       "      <td>RENT</td>\n",
       "      <td>5833.33</td>\n",
       "      <td>690-694</td>\n",
       "      <td>16</td>\n",
       "      <td>18838</td>\n",
       "      <td>0</td>\n",
       "      <td>10+ years</td>\n",
       "      <td>690</td>\n",
       "      <td>1</td>\n",
       "    </tr>\n",
       "  </tbody>\n",
       "</table>\n",
       "</div>"
      ],
      "text/plain": [
       "    Amount.Requested  Amount.Funded.By.Investors Interest.Rate Loan.Length  \\\n",
       "1              19200                       19200        12.12%   36 months   \n",
       "16             10000                       10000        12.12%   36 months   \n",
       "31             14000                       14000        12.12%   36 months   \n",
       "49             14000                       14000        12.12%   36 months   \n",
       "83             12000                       12000        12.12%   36 months   \n",
       "\n",
       "          Loan.Purpose Debt.To.Income.Ratio State Home.Ownership  \\\n",
       "1   debt_consolidation               28.36%    TX       MORTGAGE   \n",
       "16  debt_consolidation               17.72%    CA           RENT   \n",
       "31  debt_consolidation               14.93%    CA       MORTGAGE   \n",
       "49  debt_consolidation               11.38%    NY       MORTGAGE   \n",
       "83  debt_consolidation               18.62%    VA           RENT   \n",
       "\n",
       "    Monthly.Income FICO.Range  Open.CREDIT.Lines  Revolving.CREDIT.Balance  \\\n",
       "1          4583.33    715-719                 12                     11140   \n",
       "16         9000.00    695-699                 18                     20317   \n",
       "31        10583.33    685-689                  9                     35457   \n",
       "49         4500.00    705-709                 22                     18583   \n",
       "83         5833.33    690-694                 16                     18838   \n",
       "\n",
       "    Inquiries.in.the.Last.6.Months Employment.Length  FICO.Score  IR_TF  \n",
       "1                                1           2 years         715      1  \n",
       "16                               0           7 years         695      1  \n",
       "31                               0           2 years         685      1  \n",
       "49                               0           5 years         705      1  \n",
       "83                               0         10+ years         690      1  "
      ]
     },
     "execution_count": 50,
     "metadata": {},
     "output_type": "execute_result"
    }
   ],
   "source": [
    "df[df['Interest.Rate'] == '12.12%'].head() "
   ]
  },
  {
   "cell_type": "code",
   "execution_count": 51,
   "metadata": {
    "collapsed": false
   },
   "outputs": [
    {
     "data": {
      "text/html": [
       "<div>\n",
       "<table border=\"1\" class=\"dataframe\">\n",
       "  <thead>\n",
       "    <tr style=\"text-align: right;\">\n",
       "      <th></th>\n",
       "      <th>Amount.Requested</th>\n",
       "      <th>Amount.Funded.By.Investors</th>\n",
       "      <th>Interest.Rate</th>\n",
       "      <th>Loan.Length</th>\n",
       "      <th>Loan.Purpose</th>\n",
       "      <th>Debt.To.Income.Ratio</th>\n",
       "      <th>State</th>\n",
       "      <th>Home.Ownership</th>\n",
       "      <th>Monthly.Income</th>\n",
       "      <th>FICO.Range</th>\n",
       "      <th>Open.CREDIT.Lines</th>\n",
       "      <th>Revolving.CREDIT.Balance</th>\n",
       "      <th>Inquiries.in.the.Last.6.Months</th>\n",
       "      <th>Employment.Length</th>\n",
       "      <th>FICO.Score</th>\n",
       "      <th>IR_TF</th>\n",
       "    </tr>\n",
       "  </thead>\n",
       "  <tbody>\n",
       "    <tr>\n",
       "      <th>3</th>\n",
       "      <td>10000</td>\n",
       "      <td>9975.00</td>\n",
       "      <td>9.99%</td>\n",
       "      <td>36 months</td>\n",
       "      <td>debt_consolidation</td>\n",
       "      <td>14.30%</td>\n",
       "      <td>KS</td>\n",
       "      <td>MORTGAGE</td>\n",
       "      <td>3833.33</td>\n",
       "      <td>695-699</td>\n",
       "      <td>10</td>\n",
       "      <td>9346</td>\n",
       "      <td>0</td>\n",
       "      <td>5 years</td>\n",
       "      <td>695</td>\n",
       "      <td>0</td>\n",
       "    </tr>\n",
       "    <tr>\n",
       "      <th>19</th>\n",
       "      <td>5200</td>\n",
       "      <td>5175.00</td>\n",
       "      <td>9.99%</td>\n",
       "      <td>60 months</td>\n",
       "      <td>debt_consolidation</td>\n",
       "      <td>10.29%</td>\n",
       "      <td>AL</td>\n",
       "      <td>MORTGAGE</td>\n",
       "      <td>3750.00</td>\n",
       "      <td>760-764</td>\n",
       "      <td>10</td>\n",
       "      <td>16094</td>\n",
       "      <td>0</td>\n",
       "      <td>&lt; 1 year</td>\n",
       "      <td>760</td>\n",
       "      <td>0</td>\n",
       "    </tr>\n",
       "    <tr>\n",
       "      <th>57</th>\n",
       "      <td>6000</td>\n",
       "      <td>6000.00</td>\n",
       "      <td>9.99%</td>\n",
       "      <td>36 months</td>\n",
       "      <td>other</td>\n",
       "      <td>7.50%</td>\n",
       "      <td>FL</td>\n",
       "      <td>MORTGAGE</td>\n",
       "      <td>2625.00</td>\n",
       "      <td>715-719</td>\n",
       "      <td>4</td>\n",
       "      <td>5167</td>\n",
       "      <td>0</td>\n",
       "      <td>10+ years</td>\n",
       "      <td>715</td>\n",
       "      <td>0</td>\n",
       "    </tr>\n",
       "    <tr>\n",
       "      <th>445</th>\n",
       "      <td>5000</td>\n",
       "      <td>4947.35</td>\n",
       "      <td>9.99%</td>\n",
       "      <td>60 months</td>\n",
       "      <td>credit_card</td>\n",
       "      <td>10.80%</td>\n",
       "      <td>CA</td>\n",
       "      <td>RENT</td>\n",
       "      <td>6400.00</td>\n",
       "      <td>730-734</td>\n",
       "      <td>8</td>\n",
       "      <td>5783</td>\n",
       "      <td>0</td>\n",
       "      <td>&lt; 1 year</td>\n",
       "      <td>730</td>\n",
       "      <td>0</td>\n",
       "    </tr>\n",
       "    <tr>\n",
       "      <th>506</th>\n",
       "      <td>15000</td>\n",
       "      <td>10825.00</td>\n",
       "      <td>9.99%</td>\n",
       "      <td>60 months</td>\n",
       "      <td>debt_consolidation</td>\n",
       "      <td>11.95%</td>\n",
       "      <td>AZ</td>\n",
       "      <td>MORTGAGE</td>\n",
       "      <td>1958.33</td>\n",
       "      <td>745-749</td>\n",
       "      <td>8</td>\n",
       "      <td>3584</td>\n",
       "      <td>1</td>\n",
       "      <td>2 years</td>\n",
       "      <td>745</td>\n",
       "      <td>0</td>\n",
       "    </tr>\n",
       "  </tbody>\n",
       "</table>\n",
       "</div>"
      ],
      "text/plain": [
       "     Amount.Requested  Amount.Funded.By.Investors Interest.Rate Loan.Length  \\\n",
       "3               10000                     9975.00         9.99%   36 months   \n",
       "19               5200                     5175.00         9.99%   60 months   \n",
       "57               6000                     6000.00         9.99%   36 months   \n",
       "445              5000                     4947.35         9.99%   60 months   \n",
       "506             15000                    10825.00         9.99%   60 months   \n",
       "\n",
       "           Loan.Purpose Debt.To.Income.Ratio State Home.Ownership  \\\n",
       "3    debt_consolidation               14.30%    KS       MORTGAGE   \n",
       "19   debt_consolidation               10.29%    AL       MORTGAGE   \n",
       "57                other                7.50%    FL       MORTGAGE   \n",
       "445         credit_card               10.80%    CA           RENT   \n",
       "506  debt_consolidation               11.95%    AZ       MORTGAGE   \n",
       "\n",
       "     Monthly.Income FICO.Range  Open.CREDIT.Lines  Revolving.CREDIT.Balance  \\\n",
       "3           3833.33    695-699                 10                      9346   \n",
       "19          3750.00    760-764                 10                     16094   \n",
       "57          2625.00    715-719                  4                      5167   \n",
       "445         6400.00    730-734                  8                      5783   \n",
       "506         1958.33    745-749                  8                      3584   \n",
       "\n",
       "     Inquiries.in.the.Last.6.Months Employment.Length  FICO.Score  IR_TF  \n",
       "3                                 0           5 years         695      0  \n",
       "19                                0          < 1 year         760      0  \n",
       "57                                0         10+ years         715      0  \n",
       "445                               0          < 1 year         730      0  \n",
       "506                               1           2 years         745      0  "
      ]
     },
     "execution_count": 51,
     "metadata": {},
     "output_type": "execute_result"
    }
   ],
   "source": [
    "df[df['Interest.Rate'] == '9.99%'].head() # should all be False"
   ]
  },
  {
   "cell_type": "markdown",
   "metadata": {},
   "source": [
    "* Statsmodels needs an intercept column in your dataframe, so add a column with a constant intercept of 1.0."
   ]
  },
  {
   "cell_type": "code",
   "execution_count": 52,
   "metadata": {
    "collapsed": false
   },
   "outputs": [],
   "source": [
    "df['Intercept'] = [1.0 for row in range(len(df))]# should all be False"
   ]
  },
  {
   "cell_type": "markdown",
   "metadata": {},
   "source": [
    "* Create a list of the column names of our independent variables, including the intercept, and call it ind_vars."
   ]
  },
  {
   "cell_type": "code",
   "execution_count": 82,
   "metadata": {
    "collapsed": true
   },
   "outputs": [],
   "source": [
    "ind_vars = ['FICO.Score', 'Amount.Funded.By.Investors']"
   ]
  },
  {
   "cell_type": "markdown",
   "metadata": {},
   "source": [
    "# Unit 2 Lesson 4 Project 3: Logistic Regression Analysis\n",
    "\n",
    "#### Estimated time: 1 - 2 hours"
   ]
  },
  {
   "cell_type": "markdown",
   "metadata": {},
   "source": [
    "In this lesson, we're going to be looking at the same data as the last lesson, but we're going to ask a different question, one that has a binary outcome: What is the probability of getting a loan from the Lending Club for $10,000 at an interest rate ≤ 12% with a FICO score of 750?\n",
    "\n",
    "To do this, we're going to use a logit function, or the log odds function, which is a function derived from the concept of odds ratios that gives (as the name suggests) the log of the odds ratio logit(p) = log(p/1-p). We can then plot a linear model of how the log odds vary depending on some variable. Instead of our familiar function y = mx + b, now we have log(p/1-p) = mx + b.\n",
    "\n",
    "Calculating odds ratios can be kind of awkward, but we can solve directly for p as a function of some variable x:\n",
    "\n",
    "p(x) = 1/(1 - e^(mx + b))\n",
    "\n",
    "This is the logistic function. When plotted, the standard logistic function looks like this:\n",
    "\n",
    "<img src=\"logistic_curve.svg\" height=\"400\" width=\"400\">\n",
    "\n",
    "Determining the probability isn't a binary outcome though, so we need to decide on a probability threshold above which it means we will get the loan and below which it means we won't (i.e. the intercept point on the logistic curve where the values go from positive to negative).\n",
    "\n",
    "Let's say a probability of less than 70% means we won't get the loan. In other words, we're not confident that we'll get the loan until we have a 7/10 chance of getting it. To state this more explicitly: if p ≥0.70, then 1, else 0.\n",
    "\n",
    "We start with a model of how the interest rate varies with FICO score and the loan amount desired:\n",
    "\n",
    "`interest_rate = b + a1(FICOScore) + a2(LoanAmount)`\n",
    "\n",
    "Plugging in the values of the problem:\n",
    "\n",
    "`interest_rate = b + a1(750) + a2(10000)`\n",
    "\n",
    "Finally, we need to determine the probability p that the interest rate will be less than or equal to 12%. Once we fit a linear model to interest rate, FICO Score, and Loan Amount, we can plug that linear equation into the logistic function above to determine p. If p is ≥ 0.70, then we predict that we will get the loan (1), and if p < 0.70, we predict that we won't get the loan (0)."
   ]
  },
  {
   "cell_type": "markdown",
   "metadata": {},
   "source": [
    "### 1 Define the logistic regression model.\n",
    "    \n",
    "`logit = sm.Logit(df['IR_TF'], df[ind_vars])` "
   ]
  },
  {
   "cell_type": "code",
   "execution_count": 41,
   "metadata": {
    "collapsed": false
   },
   "outputs": [
    {
     "data": {
      "text/plain": [
       "Index(['Amount.Requested', 'Amount.Funded.By.Investors', 'Interest.Rate',\n",
       "       'Loan.Length', 'Loan.Purpose', 'Debt.To.Income.Ratio', 'State',\n",
       "       'Home.Ownership', 'Monthly.Income', 'FICO.Range', 'Open.CREDIT.Lines',\n",
       "       'Revolving.CREDIT.Balance', 'Inquiries.in.the.Last.6.Months',\n",
       "       'Employment.Length', 'FICO.Score', 'Interest.Rate.Binary', 'Intercept'],\n",
       "      dtype='object')"
      ]
     },
     "execution_count": 41,
     "metadata": {},
     "output_type": "execute_result"
    }
   ],
   "source": [
    "df.columns"
   ]
  },
  {
   "cell_type": "code",
   "execution_count": 83,
   "metadata": {
    "collapsed": false
   },
   "outputs": [],
   "source": [
    "from statsmodels.discrete.discrete_model import Logit\n",
    "logit = Logit(df['IR_TF'], df[ind_vars])"
   ]
  },
  {
   "cell_type": "markdown",
   "metadata": {},
   "source": [
    "### 2 Fit the model.\n",
    "    \n",
    "`result = logit.fit()`"
   ]
  },
  {
   "cell_type": "code",
   "execution_count": 84,
   "metadata": {
    "collapsed": false
   },
   "outputs": [
    {
     "name": "stdout",
     "output_type": "stream",
     "text": [
      "Optimization terminated successfully.\n",
      "         Current function value: 0.644095\n",
      "         Iterations 4\n"
     ]
    }
   ],
   "source": [
    "result = logit.fit()"
   ]
  },
  {
   "cell_type": "markdown",
   "metadata": {},
   "source": [
    "### 3 Get the fitted coefficients from the results.\n",
    "\n",
    " `coeff = result.params`\n",
    " \n",
    " `print(coeff)`\n",
    " \n",
    "     This gives the coefficient of each independent, e.g., predictor, variable."
   ]
  },
  {
   "cell_type": "code",
   "execution_count": 85,
   "metadata": {
    "collapsed": false
   },
   "outputs": [
    {
     "name": "stdout",
     "output_type": "stream",
     "text": [
      "FICO.Score                   -0.000721\n",
      "Amount.Funded.By.Investors    0.000075\n",
      "dtype: float64\n"
     ]
    }
   ],
   "source": [
    "coeff = result.params\n",
    "print(coeff)"
   ]
  },
  {
   "cell_type": "markdown",
   "metadata": {},
   "source": [
    "### 4 Using these coefficients, what is the linear part of our predictor?\n",
    "    \n",
    "`interest_rate = −60.125 + 0.087423(FicoScore) − 0.000174(LoanAmount)`"
   ]
  },
  {
   "cell_type": "code",
   "execution_count": 60,
   "metadata": {
    "collapsed": false
   },
   "outputs": [],
   "source": [
    "# interest_rate = −60.125 + -0.000721(FicoScore) − 0.000075(LoanAmount)"
   ]
  },
  {
   "cell_type": "markdown",
   "metadata": {},
   "source": [
    "### 5 What is our logistic function?\n",
    "\n",
    "`p(x) = 1/(1 + e^(intercept + 0.087423(FicoScore) − 0.000174(LoanAmount))`"
   ]
  },
  {
   "cell_type": "markdown",
   "metadata": {},
   "source": [
    "### 6 Write a function called `logistic_function` that will take a FICO Score and a Loan Amount of this linear predictor, and return p. (Try not to hardcode any values if you can! Hint: pass the coefficients object to the function as an argument.)"
   ]
  },
  {
   "cell_type": "code",
   "execution_count": 133,
   "metadata": {
    "collapsed": false
   },
   "outputs": [],
   "source": [
    "from math import e\n",
    "def logistic_function(score, amount, coeff):\n",
    "    a1, a2 = coeff\n",
    "    # Statsmodels needs an intercept column in your dataframe, so add a column with a constant intercept of 1.0.\n",
    "    p = 1/(1 + e**(1.0 + a1*(score) - a2*(amount))) # df.loc[df['FICO.Score'] == score]\n",
    "    return p "
   ]
  },
  {
   "cell_type": "markdown",
   "metadata": {},
   "source": [
    "### 7 Determine the probability that we can obtain a loan at ≤12% Interest for $10,000 with a FICO score of 720 using this function."
   ]
  },
  {
   "cell_type": "code",
   "execution_count": 134,
   "metadata": {
    "collapsed": false
   },
   "outputs": [
    {
     "data": {
      "text/plain": [
       "0.56637705030307972"
      ]
     },
     "execution_count": 134,
     "metadata": {},
     "output_type": "execute_result"
    }
   ],
   "source": [
    "logistic_function(720, 10000, coeff)"
   ]
  },
  {
   "cell_type": "markdown",
   "metadata": {},
   "source": [
    "### 8 Is p above or below 0.70? Do you predict that we will or won't obtain the loan?"
   ]
  },
  {
   "cell_type": "markdown",
   "metadata": {},
   "source": [
    "Below. \n",
    "\n",
    "Won't."
   ]
  },
  {
   "cell_type": "markdown",
   "metadata": {},
   "source": [
    "### 9 Now think critically, does your prediction make sense given the data? Try plotting the data to see if you can see the prediction visually. If you cannot find the correlation visually, you might have to re-evaluate your logistic function. An example plot can be seen here, created by one of our data science mentors, which compares two different equations for the logistic regression. Which one makes more sense?\n",
    "\n",
    "<img src=\"logit.png\" height=\"400px\" width=\"400px\">\n",
    "\n",
    "### 10 If you're feeling really adventurous, you can create a new function `pred` to predict whether or not we'll get the loan automatically.\n",
    "\n",
    "## Submission\n",
    "\n",
    "Push your version of \"logistic_regression.py\" script to GitHub and enter the link below."
   ]
  },
  {
   "cell_type": "code",
   "execution_count": null,
   "metadata": {
    "collapsed": true
   },
   "outputs": [],
   "source": []
  }
 ],
 "metadata": {
  "kernelspec": {
   "display_name": "Python 3",
   "language": "python",
   "name": "python3"
  },
  "language_info": {
   "codemirror_mode": {
    "name": "ipython",
    "version": 3
   },
   "file_extension": ".py",
   "mimetype": "text/x-python",
   "name": "python",
   "nbconvert_exporter": "python",
   "pygments_lexer": "ipython3",
   "version": "3.5.1"
  }
 },
 "nbformat": 4,
 "nbformat_minor": 0
}
