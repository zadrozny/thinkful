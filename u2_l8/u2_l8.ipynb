{
 "metadata": {
  "name": "",
  "signature": "sha256:5c385b6eb11f4fd57a97813b0dbacbe732d36249f7b86b56b16c9bfd3986fac7"
 },
 "nbformat": 3,
 "nbformat_minor": 0,
 "worksheets": [
  {
   "cells": [
    {
     "cell_type": "markdown",
     "metadata": {},
     "source": [
      "# Unit 2, Lesson 8, Assignment 1"
     ]
    },
    {
     "cell_type": "markdown",
     "metadata": {},
     "source": [
      "\"The matrix setup makes it easy to calculate the transition probabilities after multiple transitions - simply raise the transition matrix A to the nth(the number of transitions) power.\""
     ]
    },
    {
     "cell_type": "code",
     "collapsed": false,
     "input": [
      "import pandas as pd\n",
      "\n",
      "def calculate(df, power):\n",
      "    for power in range(1, power):\n",
      "        df = df.dot(df)\n",
      "    return df"
     ],
     "language": "python",
     "metadata": {},
     "outputs": [],
     "prompt_number": 2
    },
    {
     "cell_type": "markdown",
     "metadata": {},
     "source": [
      "\"...there are two states: rainy and sunny.\""
     ]
    },
    {
     "cell_type": "markdown",
     "metadata": {},
     "source": [
      "<img src=\"MC1.png\" height=\"200\" width=\"400\">"
     ]
    },
    {
     "cell_type": "markdown",
     "metadata": {},
     "source": [
      "\"...the chance of it raining two steps (or transitions) after it was sunny is .49.\""
     ]
    },
    {
     "cell_type": "code",
     "collapsed": false,
     "input": [
      "weather = pd.DataFrame({'rainy': [.4, .7], \n",
      "                        'sunny': [.6, .3]\n",
      "                       }, \n",
      "                       index=[\"rainy\", \"sunny\"])\n",
      "\n",
      "calculate(weather, 2)"
     ],
     "language": "python",
     "metadata": {},
     "outputs": [
      {
       "html": [
        "<div style=\"max-width:1500px;overflow:auto;\">\n",
        "<table border=\"1\" class=\"dataframe\">\n",
        "  <thead>\n",
        "    <tr style=\"text-align: right;\">\n",
        "      <th></th>\n",
        "      <th>rainy</th>\n",
        "      <th>sunny</th>\n",
        "    </tr>\n",
        "  </thead>\n",
        "  <tbody>\n",
        "    <tr>\n",
        "      <th>rainy</th>\n",
        "      <td>0.58</td>\n",
        "      <td>0.42</td>\n",
        "    </tr>\n",
        "    <tr>\n",
        "      <th>sunny</th>\n",
        "      <td>0.49</td>\n",
        "      <td>0.51</td>\n",
        "    </tr>\n",
        "  </tbody>\n",
        "</table>\n",
        "</div>"
       ],
       "metadata": {},
       "output_type": "pyout",
       "prompt_number": 4,
       "text": [
        "       rainy  sunny\n",
        "rainy   0.58   0.42\n",
        "sunny   0.49   0.51"
       ]
      }
     ],
     "prompt_number": 4
    },
    {
     "cell_type": "markdown",
     "metadata": {},
     "source": [
      "# Translate the Markov chain below to a matrix. What are the transition probabilities after 1 transition?"
     ]
    },
    {
     "cell_type": "markdown",
     "metadata": {},
     "source": [
      "<img src=\"MC2.png\">"
     ]
    },
    {
     "cell_type": "markdown",
     "metadata": {},
     "source": [
      "Aren't they the same, ie, original matrix?"
     ]
    },
    {
     "cell_type": "markdown",
     "metadata": {},
     "source": [
      "# What are the transition probabilities after 2 transitions? After 5? After 10?"
     ]
    },
    {
     "cell_type": "code",
     "collapsed": false,
     "input": [
      "import pandas as pd\n",
      "\n",
      "market = pd.DataFrame({'bull':     [.9,   .15, .25], \n",
      "                       'bear':     [.075, .8,  .25],\n",
      "                       'stagnant': [.025, .05, .5]\n",
      "                      }, \n",
      "                      index=[\"bull\", \"bear\", \"stagnant\"])\n",
      "\n",
      "def calculate(df, power):\n",
      "    for power in range(1, power):\n",
      "        df = df.dot(df)\n",
      "    return df\n",
      "\n",
      "for i in range(1, 6):\n",
      "    print calculate(market, i)\n",
      "\n",
      "print    \n",
      "\n",
      "print calculate(market, 10)"
     ],
     "language": "python",
     "metadata": {},
     "outputs": [
      {
       "output_type": "stream",
       "stream": "stdout",
       "text": [
        "           bear  bull  stagnant\n",
        "bull      0.075  0.90     0.025\n",
        "bear      0.800  0.15     0.050\n",
        "stagnant  0.250  0.25     0.500\n",
        "             bear    bull  stagnant\n",
        "bull      0.13375  0.8275   0.03875\n",
        "bear      0.66375  0.2675   0.06875\n",
        "stagnant  0.34375  0.3875   0.26875\n",
        "              bear     bull  stagnant\n",
        "bull      0.212775  0.73555  0.051675\n",
        "bear      0.499975  0.42555  0.074475\n",
        "stagnant  0.372375  0.51675  0.110875\n",
        "              bear      bull  stagnant\n",
        "bull      0.282131  0.658283  0.059585\n",
        "bear      0.368254  0.564263  0.067483\n",
        "stagnant  0.337417  0.595854  0.066729\n",
        "              bear      bull  stagnant\n",
        "bull      0.309723  0.628037  0.062239\n",
        "bear      0.317577  0.619447  0.062976\n",
        "stagnant  0.314880  0.622393  0.062727\n",
        "\n",
        "            bear   bull  stagnant\n",
        "bull      0.3125  0.625    0.0625\n",
        "bear      0.3125  0.625    0.0625\n",
        "stagnant  0.3125  0.625    0.0625\n"
       ]
      }
     ],
     "prompt_number": 10
    },
    {
     "cell_type": "code",
     "collapsed": false,
     "input": [
      "\\* Wouldn't it be better to have the self-transition on the horizontal axis? \n"
     ],
     "language": "python",
     "metadata": {},
     "outputs": []
    },
    {
     "cell_type": "markdown",
     "metadata": {},
     "source": [
      "# What are the steady state probabilities (try raising the matrix to a higher and numbers until the probabilities converge)?"
     ]
    },
    {
     "cell_type": "code",
     "collapsed": false,
     "input": [
      "print calculate(market, 6)\n",
      "print calculate(market, 7)\n",
      "print calculate(market, 8)"
     ],
     "language": "python",
     "metadata": {},
     "outputs": [
      {
       "output_type": "stream",
       "stream": "stdout",
       "text": [
        "              bear      bull  stagnant\n",
        "bull      0.312477  0.625025  0.062498\n",
        "bear      0.312542  0.624954  0.062504\n",
        "stagnant  0.312520  0.624978  0.062502\n",
        "            bear   bull  stagnant\n",
        "bull      0.3125  0.625    0.0625\n",
        "bear      0.3125  0.625    0.0625\n",
        "stagnant  0.3125  0.625    0.0625\n",
        "            bear   bull  stagnant\n",
        "bull      0.3125  0.625    0.0625\n",
        "bear      0.3125  0.625    0.0625\n",
        "stagnant  0.3125  0.625    0.0625\n"
       ]
      }
     ],
     "prompt_number": 17
    },
    {
     "cell_type": "markdown",
     "metadata": {},
     "source": [
      "# Can you a name some real-life examples that could be modeled by Markov chains?"
     ]
    },
    {
     "cell_type": "markdown",
     "metadata": {},
     "source": [
      "-\"dietary habits of a creature who eats only grapes, cheese, or lettuce\"\n",
      "\n",
      "-asleep and awake\n",
      "\n",
      "-moods\n",
      "\n",
      "-war and peace\n",
      "\n",
      "-n-grams\n",
      "\n",
      "-pos n-grams\n",
      "\n",
      "-temperature\n",
      "\n",
      "-musical notes"
     ]
    },
    {
     "cell_type": "markdown",
     "metadata": {},
     "source": [
      "# Can you name examples that cannot be treated as Markov chains? Can you name an example of finite probabilistic states that cannot be modeled as Markov chains?"
     ]
    },
    {
     "cell_type": "markdown",
     "metadata": {},
     "source": [
      "Perhaps a random walk across, say, the United States: since CA and NY don't share a border, it's impossible to transition between these states. \n",
      "\n",
      "\n",
      "Further, the numer of states, geographical and probabilistic, is finite."
     ]
    },
    {
     "cell_type": "code",
     "collapsed": false,
     "input": [],
     "language": "python",
     "metadata": {},
     "outputs": []
    }
   ],
   "metadata": {}
  }
 ]
}