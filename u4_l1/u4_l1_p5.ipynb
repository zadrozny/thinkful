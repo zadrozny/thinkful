{
 "cells": [
  {
   "cell_type": "markdown",
   "metadata": {},
   "source": [
    "# Unit 4 Lesson 1 Project 5"
   ]
  },
  {
   "cell_type": "code",
   "execution_count": 29,
   "metadata": {
    "collapsed": false
   },
   "outputs": [],
   "source": [
    "import matplotlib.pyplot as plt\n",
    "import numpy as np\n",
    "import pandas as pd\n",
    "import statsmodels.api as sm\n",
    "import statsmodels.formula.api as smf\n",
    "from sklearn.cross_validation import KFold\n",
    "from sklearn.metrics import mean_squared_error, mean_absolute_error, r2_score"
   ]
  },
  {
   "cell_type": "markdown",
   "metadata": {},
   "source": [
    "## Take the loan data and process it as you did previously to build your linear regression model."
   ]
  },
  {
   "cell_type": "code",
   "execution_count": 30,
   "metadata": {
    "collapsed": false
   },
   "outputs": [],
   "source": [
    "# loansData = pd.read_csv('https://spark-public.s3.amazonaws.com/dataanalysis/loansData.csv')\n",
    "loansData = pd.read_csv('loansData.csv')\n",
    "\n",
    "loansData['FICO.Score'] = loansData['FICO.Range'].map(lambda x: int(x.split('-')[0]))\n",
    "\n",
    "intrate = [float(ir.strip('%')) for ir in loansData['Interest.Rate']] # list\n",
    "loanamt = loansData['Amount.Requested'] # Series\n",
    "fico = loansData['FICO.Score'] # Series"
   ]
  },
  {
   "cell_type": "markdown",
   "metadata": {},
   "source": [
    "## Break the data-set into 10 segments following the example provided here in KFold ."
   ]
  },
  {
   "cell_type": "code",
   "execution_count": 31,
   "metadata": {
    "collapsed": false
   },
   "outputs": [],
   "source": [
    "k = 10\n",
    "n = len(loansData['Interest.Rate'])\n",
    "kf = KFold(n, n_folds=k) "
   ]
  },
  {
   "cell_type": "markdown",
   "metadata": {},
   "source": [
    "## Compute each of the performance metric (MAE, MSE or R2) for all the folds. "
   ]
  },
  {
   "cell_type": "code",
   "execution_count": 32,
   "metadata": {
    "collapsed": false
   },
   "outputs": [
    {
     "name": "stdout",
     "output_type": "stream",
     "text": [
      "0 2249\n",
      "2250 2499\n"
     ]
    }
   ],
   "source": [
    "print(min(train), max(train))\n",
    "print(min(test), max(test))\n"
   ]
  },
  {
   "cell_type": "code",
   "execution_count": 44,
   "metadata": {
    "collapsed": false
   },
   "outputs": [],
   "source": [
    "mse, mas, r2 = 0, 0, 0\n",
    "\n",
    "for train, test in kf:\n",
    "    # TRAIN\n",
    "    it_train = pd.Series(intrate).iloc[min(train):max(train)] # interest rate\n",
    "    la_train = loanamt.iloc[min(train):max(train)] # loan amount\n",
    "    fi_train = fico.iloc[min(train):max(train)] # fico\n",
    "\n",
    "    x1_train = np.matrix(fi_train).transpose()     # fico is a series; transpose converts vertically\n",
    "    x2_train = np.matrix(la_train).transpose()\n",
    "\n",
    "    train_X = np.column_stack([x1_train,x2_train])\n",
    "    train_y = np.matrix(it_train).transpose()\n",
    "\n",
    "    X_train = sm.add_constant(train_X)\n",
    "\n",
    "    model = sm.OLS(train_y,X_train)\n",
    "    f = model.fit()   \n",
    "    # print f.summary()    \n",
    "\n",
    "    # TEST \n",
    "    it_test = pd.Series(intrate).iloc[min(test):max(test)]\n",
    "    la_test = loanamt.iloc[min(test):max(test)]\n",
    "    fi_test = fico.iloc[min(test):max(test)]\n",
    "\n",
    "    x1_test = np.matrix(fi_test).transpose()\n",
    "    x2_test = np.matrix(la_test).transpose()\n",
    "\n",
    "    test_X = np.column_stack([x1_test,x2_test])\n",
    "\n",
    "    X_test = sm.add_constant(test_X)    \n",
    "\n",
    "    y_actual = test_y = np.matrix(intrate).transpose()[test[0]:test[-1]] # is this right?\n",
    "\n",
    "    y_predicted = f.predict(X_test)\n",
    "    \n",
    "    mse += mean_squared_error(y_actual, y_predicted) \n",
    "    mas += mean_absolute_error(y_actual, y_predicted)\n",
    "    r2  += r2_score(y_actual, y_predicted)"
   ]
  },
  {
   "cell_type": "markdown",
   "metadata": {},
   "source": [
    "## ... The average would be the performance of your model."
   ]
  },
  {
   "cell_type": "code",
   "execution_count": 46,
   "metadata": {
    "collapsed": false
   },
   "outputs": [
    {
     "name": "stdout",
     "output_type": "stream",
     "text": [
      "6.002865721327119 1.9384998435815615 0.6541520318534143\n"
     ]
    }
   ],
   "source": [
    "print(float(mse)/len(kf), float(mas)/len(kf), float(r2)/len(kf))"
   ]
  },
  {
   "cell_type": "markdown",
   "metadata": {},
   "source": [
    "## Comment on each of the performance metric you obtained."
   ]
  },
  {
   "cell_type": "markdown",
   "metadata": {},
   "source": [
    "\n",
    "\n",
    "    Mean Squared Error: The square of the error between what our model predicts for a given data point, and the actual value in the test set.\n",
    "\n",
    "    Mean Absolute Error: The absolute value of the error between our predicted outcomes, and the actual response in the test set.\n",
    "\n",
    "    R-Squared: Also known as the coefficient of determination, this number indicates how well our model fits the data.\n"
   ]
  }
 ],
 "metadata": {
  "kernelspec": {
   "display_name": "Python 3",
   "language": "python",
   "name": "python3"
  },
  "language_info": {
   "codemirror_mode": {
    "name": "ipython",
    "version": 3
   },
   "file_extension": ".py",
   "mimetype": "text/x-python",
   "name": "python",
   "nbconvert_exporter": "python",
   "pygments_lexer": "ipython3",
   "version": "3.5.1"
  }
 },
 "nbformat": 4,
 "nbformat_minor": 0
}
