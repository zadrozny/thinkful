{
 "metadata": {
  "name": "",
  "signature": "sha256:13022da7a8098684c2cd86ff72195bcf183603b5666e255876f8d88250bc8a5d"
 },
 "nbformat": 3,
 "nbformat_minor": 0,
 "worksheets": [
  {
   "cells": [
    {
     "cell_type": "code",
     "collapsed": false,
     "input": [
      "%matplotlib inline\n",
      "import matplotlib.pyplot as plt\n",
      "from pandas import Series, DataFrame\n",
      "import pandas as pd\n",
      "import numpy as np\n",
      "from sklearn.naive_bayes import GaussianNB\n",
      "\n",
      "\n",
      "'''\n",
      "    Remove the single quotes from the column names.\n",
      "    Remove the single quotes from the \"sex\" column.\n",
      "    Plot the distributions of actual weight and ideal weight.\n",
      "\n",
      "    Plot the distributions of difference in weight.\n",
      "\n",
      "    Map \"sex\" to a categorical variable.\n",
      "    Are there more women or men in the dataset?\n",
      "'''\n",
      "\n",
      "data = pd.read_csv('ideal_weight.csv')"
     ],
     "language": "python",
     "metadata": {},
     "outputs": [],
     "prompt_number": 30
    },
    {
     "cell_type": "code",
     "collapsed": false,
     "input": [
      "data.columns"
     ],
     "language": "python",
     "metadata": {},
     "outputs": [
      {
       "metadata": {},
       "output_type": "pyout",
       "prompt_number": 31,
       "text": [
        "Index([u''id'', u''sex'', u''actual'', u''ideal'', u''diff''], dtype='object')"
       ]
      }
     ],
     "prompt_number": 31
    },
    {
     "cell_type": "markdown",
     "metadata": {},
     "source": [
      "## Remove the single quotes from the column names."
     ]
    },
    {
     "cell_type": "code",
     "collapsed": false,
     "input": [
      "data.columns"
     ],
     "language": "python",
     "metadata": {},
     "outputs": [
      {
       "metadata": {},
       "output_type": "pyout",
       "prompt_number": 32,
       "text": [
        "Index([u''id'', u''sex'', u''actual'', u''ideal'', u''diff''], dtype='object')"
       ]
      }
     ],
     "prompt_number": 32
    },
    {
     "cell_type": "code",
     "collapsed": false,
     "input": [
      "# How do I actually remove single quotes fro column names rather than replace the column entirely?\n",
      "# data.sex.apply(lambda x: x.replace(\"'\", '')) # Doesn't work"
     ],
     "language": "python",
     "metadata": {},
     "outputs": [],
     "prompt_number": 33
    },
    {
     "cell_type": "code",
     "collapsed": false,
     "input": [
      "data.columns = ['id', 'sex', 'actual', 'ideal', 'diff'] # renaming"
     ],
     "language": "python",
     "metadata": {},
     "outputs": [],
     "prompt_number": 34
    },
    {
     "cell_type": "markdown",
     "metadata": {},
     "source": [
      "## Plot the distributions of actual weight and ideal weight."
     ]
    },
    {
     "cell_type": "code",
     "collapsed": false,
     "input": [
      "data.actual.hist()"
     ],
     "language": "python",
     "metadata": {},
     "outputs": [
      {
       "metadata": {},
       "output_type": "pyout",
       "prompt_number": 35,
       "text": [
        "<matplotlib.axes._subplots.AxesSubplot at 0x7f8229811250>"
       ]
      },
      {
       "metadata": {},
       "output_type": "display_data",
       "png": "[encoded data removed]",
       "text": [
        "<matplotlib.figure.Figure at 0x7f822987ec10>"
       ]
      }
     ],
     "prompt_number": 35
    },
    {
     "cell_type": "markdown",
     "metadata": {},
     "source": [
      "## Plot the distributions of difference in weight."
     ]
    },
    {
     "cell_type": "code",
     "collapsed": false,
     "input": [
      "data['diff'].hist()"
     ],
     "language": "python",
     "metadata": {},
     "outputs": [
      {
       "metadata": {},
       "output_type": "pyout",
       "prompt_number": 36,
       "text": [
        "<matplotlib.axes._subplots.AxesSubplot at 0x7f822977f450>"
       ]
      },
      {
       "metadata": {},
       "output_type": "display_data",
       "png": "[encoded data removed]",
       "text": [
        "<matplotlib.figure.Figure at 0x7f82297a6550>"
       ]
      }
     ],
     "prompt_number": 36
    },
    {
     "cell_type": "markdown",
     "metadata": {},
     "source": [
      "## Map sex to a categorical variable"
     ]
    },
    {
     "cell_type": "code",
     "collapsed": false,
     "input": [
      "data['sex'].map(lambda x: 0 if x=='Male' else 1).head() # Map \"sex\" to a categorical variable."
     ],
     "language": "python",
     "metadata": {},
     "outputs": [
      {
       "metadata": {},
       "output_type": "pyout",
       "prompt_number": 37,
       "text": [
        "0    1\n",
        "1    1\n",
        "2    1\n",
        "3    1\n",
        "4    1\n",
        "Name: sex, dtype: int64"
       ]
      }
     ],
     "prompt_number": 37
    },
    {
     "cell_type": "markdown",
     "metadata": {},
     "source": [
      "## Are there more women or men in the dataset?"
     ]
    },
    {
     "cell_type": "code",
     "collapsed": false,
     "input": [
      "from collections import Counter\n",
      "Counter(data['sex'])"
     ],
     "language": "python",
     "metadata": {},
     "outputs": [
      {
       "metadata": {},
       "output_type": "pyout",
       "prompt_number": 38,
       "text": [
        "Counter({\"'Female'\": 119, \"'Male'\": 63})"
       ]
      }
     ],
     "prompt_number": 38
    },
    {
     "cell_type": "code",
     "collapsed": false,
     "input": [
      "data.head()"
     ],
     "language": "python",
     "metadata": {},
     "outputs": [
      {
       "html": [
        "<div style=\"max-width:1500px;overflow:auto;\">\n",
        "<table border=\"1\" class=\"dataframe\">\n",
        "  <thead>\n",
        "    <tr style=\"text-align: right;\">\n",
        "      <th></th>\n",
        "      <th>id</th>\n",
        "      <th>sex</th>\n",
        "      <th>actual</th>\n",
        "      <th>ideal</th>\n",
        "      <th>diff</th>\n",
        "    </tr>\n",
        "  </thead>\n",
        "  <tbody>\n",
        "    <tr>\n",
        "      <th>0</th>\n",
        "      <td>0</td>\n",
        "      <td>'Male'</td>\n",
        "      <td>215</td>\n",
        "      <td>190</td>\n",
        "      <td>25</td>\n",
        "    </tr>\n",
        "    <tr>\n",
        "      <th>1</th>\n",
        "      <td>1</td>\n",
        "      <td>'Female'</td>\n",
        "      <td>155</td>\n",
        "      <td>135</td>\n",
        "      <td>20</td>\n",
        "    </tr>\n",
        "    <tr>\n",
        "      <th>2</th>\n",
        "      <td>2</td>\n",
        "      <td>'Male'</td>\n",
        "      <td>195</td>\n",
        "      <td>155</td>\n",
        "      <td>40</td>\n",
        "    </tr>\n",
        "    <tr>\n",
        "      <th>3</th>\n",
        "      <td>3</td>\n",
        "      <td>'Female'</td>\n",
        "      <td>145</td>\n",
        "      <td>130</td>\n",
        "      <td>15</td>\n",
        "    </tr>\n",
        "    <tr>\n",
        "      <th>4</th>\n",
        "      <td>4</td>\n",
        "      <td>'Female'</td>\n",
        "      <td>110</td>\n",
        "      <td>100</td>\n",
        "      <td>10</td>\n",
        "    </tr>\n",
        "  </tbody>\n",
        "</table>\n",
        "</div>"
       ],
       "metadata": {},
       "output_type": "pyout",
       "prompt_number": 39,
       "text": [
        "   id       sex  actual  ideal  diff\n",
        "0   0    'Male'     215    190    25\n",
        "1   1  'Female'     155    135    20\n",
        "2   2    'Male'     195    155    40\n",
        "3   3  'Female'     145    130    15\n",
        "4   4  'Female'     110    100    10"
       ]
      }
     ],
     "prompt_number": 39
    },
    {
     "cell_type": "markdown",
     "metadata": {},
     "source": [
      "## Sklearn example: http://scikit-learn.org/stable/modules/generated/sklearn.naive_bayes.GaussianNB.html"
     ]
    },
    {
     "cell_type": "code",
     "collapsed": false,
     "input": [
      "# >>> import numpy as np\n",
      "# >>> X = np.array([[-1, -1], [-2, -1], [-3, -2], [1, 1], [2, 1], [3, 2]])\n",
      "# >>> Y = np.array([1, 1, 1, 2, 2, 2])\n",
      "# >>> from sklearn.naive_bayes import GaussianNB\n",
      "# >>> clf = GaussianNB()\n",
      "# >>> clf.fit(X, Y)\n",
      "# GaussianNB()\n",
      "# >>> print(clf.predict([[-0.8, -1]]))\n",
      "# [1]\n",
      "# >>> clf_pf = GaussianNB()\n",
      "# >>> clf_pf.partial_fit(X, Y, np.unique(Y))\n",
      "# GaussianNB()\n",
      "# >>> print(clf_pf.predict([[-0.8, -1]]))\n",
      "# [1]"
     ],
     "language": "python",
     "metadata": {},
     "outputs": [],
     "prompt_number": 40
    },
    {
     "cell_type": "markdown",
     "metadata": {},
     "source": [
      "## Fit a Naive Bayes classifier of sex to actual weight, ideal weight, and diff."
     ]
    },
    {
     "cell_type": "code",
     "collapsed": false,
     "input": [
      "# X = np.array([list(r) for r in zip(data['actual'], data['ideal'])])\n",
      "X = np.array([list(r) for r in zip(data['actual'], data['ideal'], data['diff'])])\n",
      "Y = np.array([s for s in data['sex']])\n",
      "\n",
      "clf = GaussianNB()\n",
      "clf.fit(X, Y)\n",
      "\n",
      "# print(clf.predict([[-0.8, -1, 3]]))\n",
      "clf_pf = GaussianNB()\n",
      "# clf_pf.partial_fit(X, Y, np.unique(Y))\n",
      "# GaussianNB()\n",
      "# print(clf_pf.predict([[-0.8, -1]]))"
     ],
     "language": "python",
     "metadata": {},
     "outputs": [],
     "prompt_number": 41
    },
    {
     "cell_type": "markdown",
     "metadata": {},
     "source": [
      "## How many points were mislabeled? How many points were there in the dataset, total?"
     ]
    },
    {
     "cell_type": "code",
     "collapsed": false,
     "input": [
      "data['is_train'] = np.random.uniform(0, 1, len(data)) <= .75\n",
      "\n",
      "train, test = data[data['is_train']==True], data[data['is_train']==False]\n",
      "\n",
      "train_X = np.array([list(r) for r in zip(train['actual'], train['ideal'], train['diff'])])\n",
      "train_Y = np.array([s for s in train['sex']])\n",
      "\n",
      "clf = GaussianNB()\n",
      "clf.fit(train_X, train_Y)\n",
      "\n",
      "clf_pf = GaussianNB()\n",
      "\n",
      "test_X = np.array([list(r) for r in zip(test['actual'], test['ideal'], test['diff'])])\n",
      "test_Y = np.array([s for s in test['sex']])\n",
      "\n",
      "clf_pf.partial_fit(train_X, train_Y, np.unique(train_Y))\n",
      "\n",
      "# clf_pf.predict([[1, 2, 3]])\n",
      "from collections import Counter\n",
      "print Counter([clf_pf.predict([list(i)])[0] for i in test_X])\n",
      "print Counter(test_Y)"
     ],
     "language": "python",
     "metadata": {},
     "outputs": [
      {
       "output_type": "stream",
       "stream": "stdout",
       "text": [
        "Counter({\"'Female'\": 23, \"'Male'\": 15})\n",
        "Counter({\"'Female'\": 24, \"'Male'\": 14})\n"
       ]
      }
     ],
     "prompt_number": 66
    },
    {
     "cell_type": "markdown",
     "metadata": {},
     "source": [
      "## Predict the sex for an actual weight of 145, an ideal weight of 160, and a diff of -15."
     ]
    },
    {
     "cell_type": "code",
     "collapsed": false,
     "input": [
      "clf.predict([[145, 160, -15]])"
     ],
     "language": "python",
     "metadata": {},
     "outputs": [
      {
       "metadata": {},
       "output_type": "pyout",
       "prompt_number": 25,
       "text": [
        "array([\"'Male'\"], \n",
        "      dtype='|S8')"
       ]
      }
     ],
     "prompt_number": 25
    },
    {
     "cell_type": "markdown",
     "metadata": {},
     "source": [
      "## Predict the sex for an actual weight of 160, an ideal weight of 145, and a diff of 15."
     ]
    },
    {
     "cell_type": "code",
     "collapsed": false,
     "input": [
      "clf.predict([[145, 160, 15]])"
     ],
     "language": "python",
     "metadata": {},
     "outputs": [
      {
       "metadata": {},
       "output_type": "pyout",
       "prompt_number": 26,
       "text": [
        "array([\"'Male'\"], \n",
        "      dtype='|S8')"
       ]
      }
     ],
     "prompt_number": 26
    },
    {
     "cell_type": "markdown",
     "metadata": {},
     "source": [
      "## [Check that the classifier sometimes predicts \"Female\"]"
     ]
    },
    {
     "cell_type": "code",
     "collapsed": false,
     "input": [
      "clf.predict([[100, 110, -10]])"
     ],
     "language": "python",
     "metadata": {},
     "outputs": [
      {
       "metadata": {},
       "output_type": "pyout",
       "prompt_number": 27,
       "text": [
        "array([\"'Female'\"], \n",
        "      dtype='|S8')"
       ]
      }
     ],
     "prompt_number": 27
    },
    {
     "cell_type": "code",
     "collapsed": false,
     "input": [],
     "language": "python",
     "metadata": {},
     "outputs": []
    }
   ],
   "metadata": {}
  }
 ]
}